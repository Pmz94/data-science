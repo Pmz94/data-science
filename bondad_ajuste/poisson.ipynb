{
 "cells": [
  {
   "cell_type": "markdown",
   "metadata": {
    "collapsed": true,
    "pycharm": {
     "name": "#%% md\n"
    }
   },
   "source": [
    "# Prueba de bondad de ajuste"
   ]
  },
  {
   "cell_type": "code",
   "execution_count": 9,
   "metadata": {
    "collapsed": false,
    "pycharm": {
     "name": "#%%\n"
    }
   },
   "outputs": [],
   "source": [
    "import math\n",
    "import pandas as pd\n",
    "import numpy as np\n",
    "import scipy.stats as st"
   ]
  },
  {
   "cell_type": "markdown",
   "metadata": {
    "collapsed": false,
    "pycharm": {
     "name": "#%% md\n"
    }
   },
   "source": [
    "## Distribucion discreta (Poisson)\n",
    "\n",
    "Se dice que el numero de defectos en unas tarjetas madre sigue una distribucion Poisson. Se obtiene una muestra aleatoria de *n = 60* tarjetas madre y se observa el numero de defectos."
   ]
  },
  {
   "cell_type": "code",
   "execution_count": 119,
   "metadata": {
    "collapsed": false,
    "pycharm": {
     "name": "#%%\n"
    }
   },
   "outputs": [
    {
     "data": {
      "text/html": [
       "<div>\n",
       "<style scoped>\n",
       "    .dataframe tbody tr th:only-of-type {\n",
       "        vertical-align: middle;\n",
       "    }\n",
       "\n",
       "    .dataframe tbody tr th {\n",
       "        vertical-align: top;\n",
       "    }\n",
       "\n",
       "    .dataframe thead th {\n",
       "        text-align: right;\n",
       "    }\n",
       "</style>\n",
       "<table border=\"1\" class=\"dataframe\">\n",
       "  <thead>\n",
       "    <tr style=\"text-align: right;\">\n",
       "      <th></th>\n",
       "      <th>defectos</th>\n",
       "      <th>oi</th>\n",
       "    </tr>\n",
       "  </thead>\n",
       "  <tbody>\n",
       "    <tr>\n",
       "      <th>0</th>\n",
       "      <td>0</td>\n",
       "      <td>32</td>\n",
       "    </tr>\n",
       "    <tr>\n",
       "      <th>1</th>\n",
       "      <td>1</td>\n",
       "      <td>15</td>\n",
       "    </tr>\n",
       "    <tr>\n",
       "      <th>2</th>\n",
       "      <td>2</td>\n",
       "      <td>9</td>\n",
       "    </tr>\n",
       "    <tr>\n",
       "      <th>3</th>\n",
       "      <td>3</td>\n",
       "      <td>4</td>\n",
       "    </tr>\n",
       "  </tbody>\n",
       "</table>\n",
       "</div>"
      ],
      "text/plain": [
       "   defectos  oi\n",
       "0         0  32\n",
       "1         1  15\n",
       "2         2   9\n",
       "3         3   4"
      ]
     },
     "execution_count": 119,
     "metadata": {},
     "output_type": "execute_result"
    }
   ],
   "source": [
    "df = pd.DataFrame({'defectos': [0, 1, 2, 3], 'oi': [32, 15, 9, 4]})\n",
    "df"
   ]
  },
  {
   "cell_type": "markdown",
   "metadata": {
    "collapsed": false,
    "pycharm": {
     "name": "#%% md\n"
    }
   },
   "source": [
    "Como no sabemos el promedio de la distribucion Poisson habra que estimarla a partir de los datos que tenemos. La estimacion del promedio de defectos por tarjeta madre es el promedio muestral, o sea, (32 * 0 + 15 * 1 + 9 * 2 + 4 * 3) / 60 = 0.75."
   ]
  },
  {
   "cell_type": "code",
   "execution_count": 120,
   "metadata": {
    "collapsed": false,
    "pycharm": {
     "name": "#%%\n"
    }
   },
   "outputs": [
    {
     "data": {
      "text/plain": [
       "0.75"
      ]
     },
     "execution_count": 120,
     "metadata": {},
     "output_type": "execute_result"
    }
   ],
   "source": [
    "n = df['oi'].sum()\n",
    "media = 0\n",
    "for i, row in df.iterrows():\n",
    "\tmedia += row['oi'] * row['defectos']\n",
    "media = media / n\n",
    "media"
   ]
  },
  {
   "cell_type": "markdown",
   "metadata": {
    "collapsed": false,
    "pycharm": {
     "name": "#%% md\n"
    }
   },
   "source": [
    "O bien, podemos desagrupar los datos y obtener la media con una funcion"
   ]
  },
  {
   "cell_type": "code",
   "execution_count": 121,
   "metadata": {
    "collapsed": false,
    "pycharm": {
     "name": "#%%\n"
    }
   },
   "outputs": [
    {
     "data": {
      "text/plain": [
       "0.75"
      ]
     },
     "execution_count": 121,
     "metadata": {},
     "output_type": "execute_result"
    }
   ],
   "source": [
    "defectos = []\n",
    "for i in df['defectos']:\n",
    "\tfor _ in range(df['oi'][i]):\n",
    "\t\tdefectos.append(i)\n",
    "\n",
    "media = np.mean(defectos)\n",
    "media"
   ]
  },
  {
   "cell_type": "markdown",
   "metadata": {
    "collapsed": false
   },
   "source": [
    "A partir de la distribucion Poisson con parametro 0.75, puede sacarse $p_{i}$ que es la probabilidad hipotetica asociada con el *i*-ésimo intervalo de clase. Como cada intervalo de clase corresponde a un numero particular de defectos, puede hallarse $p_{i}$ de la sig. manera:\n",
    "\n",
    "$p_{1} = P(X = 0) = \\frac{e^{-0.75}(0.75)^{0}}{0!} = 0.472$\n",
    "<br>\n",
    "$p_{2} = P(X = 1) = \\frac{e^{-0.75}(0.75)^{1}}{1!} = 0.354$\n",
    "<br>\n",
    "$p_{3} = P(X = 2) = \\frac{e^{-0.75}(0.75)^{2}}{2!} = 0.133$\n",
    "<br>\n",
    "$p_{4} = P(X \\ge 3) = 1 - (p_{1} + p_{2} + p_{3}) = 0.041$"
   ]
  },
  {
   "cell_type": "code",
   "execution_count": 122,
   "metadata": {
    "collapsed": false,
    "pycharm": {
     "name": "#%%\n"
    }
   },
   "outputs": [
    {
     "data": {
      "text/plain": [
       "[0.4723665527410147,\n",
       " 0.354274914555761,\n",
       " 0.13285309295841038,\n",
       " 0.04050543974481391]"
      ]
     },
     "execution_count": 122,
     "metadata": {},
     "output_type": "execute_result"
    }
   ],
   "source": [
    "col_p = []\n",
    "for i, num_def in enumerate(df['defectos']):\n",
    "    if i < (len(df) - 1):\n",
    "        p = (np.exp(-media) * (media ** num_def)) / math.factorial(num_def)\n",
    "    else:\n",
    "        p = 1 - sum(col_p)\n",
    "    col_p.append(p)\n",
    "col_p"
   ]
  },
  {
   "cell_type": "code",
   "execution_count": 123,
   "metadata": {},
   "outputs": [
    {
     "data": {
      "text/plain": [
       "[0.4723665527410147,\n",
       " 0.3542749145557611,\n",
       " 0.1328530929584104,\n",
       " 0.0405054397448138]"
      ]
     },
     "execution_count": 123,
     "metadata": {},
     "output_type": "execute_result"
    }
   ],
   "source": [
    "col_p = df.apply(lambda i: st.poisson.pmf(i['defectos'], media), axis = 1)\n",
    "col_p = col_p.to_list()\n",
    "col_p = col_p[:-1]\n",
    "col_p.append(1 - sum(col_p))\n",
    "col_p"
   ]
  },
  {
   "cell_type": "code",
   "execution_count": 108,
   "metadata": {},
   "outputs": [
    {
     "data": {
      "text/html": [
       "<div>\n",
       "<style scoped>\n",
       "    .dataframe tbody tr th:only-of-type {\n",
       "        vertical-align: middle;\n",
       "    }\n",
       "\n",
       "    .dataframe tbody tr th {\n",
       "        vertical-align: top;\n",
       "    }\n",
       "\n",
       "    .dataframe thead th {\n",
       "        text-align: right;\n",
       "    }\n",
       "</style>\n",
       "<table border=\"1\" class=\"dataframe\">\n",
       "  <thead>\n",
       "    <tr style=\"text-align: right;\">\n",
       "      <th></th>\n",
       "      <th>defectos</th>\n",
       "      <th>oi</th>\n",
       "      <th>p</th>\n",
       "    </tr>\n",
       "  </thead>\n",
       "  <tbody>\n",
       "    <tr>\n",
       "      <th>0</th>\n",
       "      <td>0</td>\n",
       "      <td>32</td>\n",
       "      <td>0.472367</td>\n",
       "    </tr>\n",
       "    <tr>\n",
       "      <th>1</th>\n",
       "      <td>1</td>\n",
       "      <td>15</td>\n",
       "      <td>0.354275</td>\n",
       "    </tr>\n",
       "    <tr>\n",
       "      <th>2</th>\n",
       "      <td>2</td>\n",
       "      <td>9</td>\n",
       "      <td>0.132853</td>\n",
       "    </tr>\n",
       "    <tr>\n",
       "      <th>3</th>\n",
       "      <td>3</td>\n",
       "      <td>4</td>\n",
       "      <td>0.040505</td>\n",
       "    </tr>\n",
       "  </tbody>\n",
       "</table>\n",
       "</div>"
      ],
      "text/plain": [
       "   defectos  oi         p\n",
       "0         0  32  0.472367\n",
       "1         1  15  0.354275\n",
       "2         2   9  0.132853\n",
       "3         3   4  0.040505"
      ]
     },
     "execution_count": 108,
     "metadata": {},
     "output_type": "execute_result"
    }
   ],
   "source": [
    "df['p'] = col_p\n",
    "df"
   ]
  },
  {
   "cell_type": "markdown",
   "metadata": {
    "collapsed": false,
    "pycharm": {
     "name": "#%% md\n"
    }
   },
   "source": [
    "Las frecuencias esperadas se sacan multiplicando el tamaño de la muestra *n* por las probabilidades $p_{i}$. O sea, $E_{i} = np_{i}$"
   ]
  },
  {
   "cell_type": "code",
   "execution_count": 109,
   "metadata": {
    "collapsed": false,
    "pycharm": {
     "name": "#%%\n"
    }
   },
   "outputs": [
    {
     "data": {
      "text/html": [
       "<div>\n",
       "<style scoped>\n",
       "    .dataframe tbody tr th:only-of-type {\n",
       "        vertical-align: middle;\n",
       "    }\n",
       "\n",
       "    .dataframe tbody tr th {\n",
       "        vertical-align: top;\n",
       "    }\n",
       "\n",
       "    .dataframe thead th {\n",
       "        text-align: right;\n",
       "    }\n",
       "</style>\n",
       "<table border=\"1\" class=\"dataframe\">\n",
       "  <thead>\n",
       "    <tr style=\"text-align: right;\">\n",
       "      <th></th>\n",
       "      <th>defectos</th>\n",
       "      <th>oi</th>\n",
       "      <th>p</th>\n",
       "      <th>ei</th>\n",
       "    </tr>\n",
       "  </thead>\n",
       "  <tbody>\n",
       "    <tr>\n",
       "      <th>0</th>\n",
       "      <td>0</td>\n",
       "      <td>32</td>\n",
       "      <td>0.472367</td>\n",
       "      <td>28.341993</td>\n",
       "    </tr>\n",
       "    <tr>\n",
       "      <th>1</th>\n",
       "      <td>1</td>\n",
       "      <td>15</td>\n",
       "      <td>0.354275</td>\n",
       "      <td>21.256495</td>\n",
       "    </tr>\n",
       "    <tr>\n",
       "      <th>2</th>\n",
       "      <td>2</td>\n",
       "      <td>9</td>\n",
       "      <td>0.132853</td>\n",
       "      <td>7.971186</td>\n",
       "    </tr>\n",
       "    <tr>\n",
       "      <th>3</th>\n",
       "      <td>3</td>\n",
       "      <td>4</td>\n",
       "      <td>0.040505</td>\n",
       "      <td>2.430326</td>\n",
       "    </tr>\n",
       "  </tbody>\n",
       "</table>\n",
       "</div>"
      ],
      "text/plain": [
       "   defectos  oi         p         ei\n",
       "0         0  32  0.472367  28.341993\n",
       "1         1  15  0.354275  21.256495\n",
       "2         2   9  0.132853   7.971186\n",
       "3         3   4  0.040505   2.430326"
      ]
     },
     "execution_count": 109,
     "metadata": {},
     "output_type": "execute_result"
    }
   ],
   "source": [
    "df['ei'] = df.apply(lambda i: n * i['p'], axis = 1)\n",
    "df"
   ]
  },
  {
   "cell_type": "code",
   "execution_count": 110,
   "metadata": {
    "collapsed": false,
    "pycharm": {
     "name": "#%%\n"
    }
   },
   "outputs": [
    {
     "name": "stdout",
     "output_type": "stream",
     "text": [
      "3 4 0.04050543974481391 2.4303263846888346\n"
     ]
    }
   ],
   "source": [
    "# ver que registro tiene ei menor que 5\n",
    "for i in df.index:\n",
    "    if df['ei'][i] < 5:\n",
    "        print(i, df['oi'][i], df['p'][i], df['ei'][i])"
   ]
  },
  {
   "cell_type": "markdown",
   "source": [
    "Como la frecuencia esperada de la ultima celda es menor que 5, se combinan las dos ultimas celdas."
   ],
   "metadata": {
    "collapsed": false
   }
  },
  {
   "cell_type": "code",
   "execution_count": 111,
   "metadata": {
    "collapsed": false,
    "pycharm": {
     "name": "#%%\n"
    }
   },
   "outputs": [
    {
     "data": {
      "text/html": [
       "<div>\n",
       "<style scoped>\n",
       "    .dataframe tbody tr th:only-of-type {\n",
       "        vertical-align: middle;\n",
       "    }\n",
       "\n",
       "    .dataframe tbody tr th {\n",
       "        vertical-align: top;\n",
       "    }\n",
       "\n",
       "    .dataframe thead th {\n",
       "        text-align: right;\n",
       "    }\n",
       "</style>\n",
       "<table border=\"1\" class=\"dataframe\">\n",
       "  <thead>\n",
       "    <tr style=\"text-align: right;\">\n",
       "      <th></th>\n",
       "      <th>defectos</th>\n",
       "      <th>oi</th>\n",
       "      <th>p</th>\n",
       "      <th>ei</th>\n",
       "    </tr>\n",
       "  </thead>\n",
       "  <tbody>\n",
       "    <tr>\n",
       "      <th>0</th>\n",
       "      <td>2</td>\n",
       "      <td>13</td>\n",
       "      <td>0.173359</td>\n",
       "      <td>10.401512</td>\n",
       "    </tr>\n",
       "  </tbody>\n",
       "</table>\n",
       "</div>"
      ],
      "text/plain": [
       "   defectos  oi         p         ei\n",
       "0         2  13  0.173359  10.401512"
      ]
     },
     "execution_count": 111,
     "metadata": {},
     "output_type": "execute_result"
    }
   ],
   "source": [
    "ultimos_dos = df.tail(2)\n",
    "suma_ultimos_dos = pd.DataFrame([ultimos_dos.sum()])\n",
    "suma_ultimos_dos['defectos'] = 2\n",
    "suma_ultimos_dos['oi'] = int(suma_ultimos_dos['oi'])\n",
    "suma_ultimos_dos"
   ]
  },
  {
   "cell_type": "code",
   "execution_count": 112,
   "metadata": {
    "collapsed": false,
    "pycharm": {
     "name": "#%%\n"
    }
   },
   "outputs": [
    {
     "data": {
      "text/html": [
       "<div>\n",
       "<style scoped>\n",
       "    .dataframe tbody tr th:only-of-type {\n",
       "        vertical-align: middle;\n",
       "    }\n",
       "\n",
       "    .dataframe tbody tr th {\n",
       "        vertical-align: top;\n",
       "    }\n",
       "\n",
       "    .dataframe thead th {\n",
       "        text-align: right;\n",
       "    }\n",
       "</style>\n",
       "<table border=\"1\" class=\"dataframe\">\n",
       "  <thead>\n",
       "    <tr style=\"text-align: right;\">\n",
       "      <th></th>\n",
       "      <th>defectos</th>\n",
       "      <th>oi</th>\n",
       "      <th>p</th>\n",
       "      <th>ei</th>\n",
       "    </tr>\n",
       "  </thead>\n",
       "  <tbody>\n",
       "    <tr>\n",
       "      <th>0</th>\n",
       "      <td>0</td>\n",
       "      <td>32</td>\n",
       "      <td>0.472367</td>\n",
       "      <td>28.341993</td>\n",
       "    </tr>\n",
       "    <tr>\n",
       "      <th>1</th>\n",
       "      <td>1</td>\n",
       "      <td>15</td>\n",
       "      <td>0.354275</td>\n",
       "      <td>21.256495</td>\n",
       "    </tr>\n",
       "    <tr>\n",
       "      <th>2</th>\n",
       "      <td>2</td>\n",
       "      <td>13</td>\n",
       "      <td>0.173359</td>\n",
       "      <td>10.401512</td>\n",
       "    </tr>\n",
       "  </tbody>\n",
       "</table>\n",
       "</div>"
      ],
      "text/plain": [
       "   defectos  oi         p         ei\n",
       "0         0  32  0.472367  28.341993\n",
       "1         1  15  0.354275  21.256495\n",
       "2         2  13  0.173359  10.401512"
      ]
     },
     "execution_count": 112,
     "metadata": {},
     "output_type": "execute_result"
    }
   ],
   "source": [
    "df.drop(df.tail(2).index, inplace = True)\n",
    "df = pd.concat([df, suma_ultimos_dos], ignore_index = True)\n",
    "df"
   ]
  },
  {
   "cell_type": "code",
   "execution_count": 113,
   "metadata": {
    "collapsed": false,
    "pycharm": {
     "name": "#%%\n"
    }
   },
   "outputs": [
    {
     "data": {
      "text/html": [
       "<div>\n",
       "<style scoped>\n",
       "    .dataframe tbody tr th:only-of-type {\n",
       "        vertical-align: middle;\n",
       "    }\n",
       "\n",
       "    .dataframe tbody tr th {\n",
       "        vertical-align: top;\n",
       "    }\n",
       "\n",
       "    .dataframe thead th {\n",
       "        text-align: right;\n",
       "    }\n",
       "</style>\n",
       "<table border=\"1\" class=\"dataframe\">\n",
       "  <thead>\n",
       "    <tr style=\"text-align: right;\">\n",
       "      <th></th>\n",
       "      <th>defectos</th>\n",
       "      <th>oi</th>\n",
       "      <th>p</th>\n",
       "      <th>ei</th>\n",
       "      <th>x2_calc</th>\n",
       "    </tr>\n",
       "  </thead>\n",
       "  <tbody>\n",
       "    <tr>\n",
       "      <th>0</th>\n",
       "      <td>0</td>\n",
       "      <td>32</td>\n",
       "      <td>0.472367</td>\n",
       "      <td>28.341993</td>\n",
       "      <td>0.472127</td>\n",
       "    </tr>\n",
       "    <tr>\n",
       "      <th>1</th>\n",
       "      <td>1</td>\n",
       "      <td>15</td>\n",
       "      <td>0.354275</td>\n",
       "      <td>21.256495</td>\n",
       "      <td>1.841495</td>\n",
       "    </tr>\n",
       "    <tr>\n",
       "      <th>2</th>\n",
       "      <td>2</td>\n",
       "      <td>13</td>\n",
       "      <td>0.173359</td>\n",
       "      <td>10.401512</td>\n",
       "      <td>0.649150</td>\n",
       "    </tr>\n",
       "  </tbody>\n",
       "</table>\n",
       "</div>"
      ],
      "text/plain": [
       "   defectos  oi         p         ei   x2_calc\n",
       "0         0  32  0.472367  28.341993  0.472127\n",
       "1         1  15  0.354275  21.256495  1.841495\n",
       "2         2  13  0.173359  10.401512  0.649150"
      ]
     },
     "execution_count": 113,
     "metadata": {},
     "output_type": "execute_result"
    }
   ],
   "source": [
    "df['x2_calc'] = df.apply(lambda x: (x['oi'] - x['ei']) ** 2 / x['ei'], axis = 1)\n",
    "df"
   ]
  },
  {
   "cell_type": "code",
   "execution_count": 114,
   "metadata": {
    "collapsed": false,
    "pycharm": {
     "name": "#%%\n"
    }
   },
   "outputs": [
    {
     "data": {
      "text/plain": [
       "2.9627716023964643"
      ]
     },
     "execution_count": 114,
     "metadata": {},
     "output_type": "execute_result"
    }
   ],
   "source": [
    "x2_calc = df['x2_calc'].sum()\n",
    "x2_calc"
   ]
  },
  {
   "cell_type": "markdown",
   "metadata": {},
   "source": [
    "Como la media fue calculada a partir de los datos, la $X^2_{\\alpha, k - p - 1}$ va a tener 3 - 1 - 1 = 1 grados de libertad"
   ]
  },
  {
   "cell_type": "code",
   "execution_count": 115,
   "metadata": {},
   "outputs": [
    {
     "data": {
      "text/plain": [
       "3.8414588206941285"
      ]
     },
     "execution_count": 115,
     "metadata": {},
     "output_type": "execute_result"
    }
   ],
   "source": [
    "alfa = 0.05\n",
    "k = len(df['oi'])  # renglones\n",
    "p = 1  # parametros\n",
    "gl = k - p - 1\n",
    "x2_crit = st.chi2.isf(alfa, gl)\n",
    "x2_crit"
   ]
  },
  {
   "cell_type": "code",
   "execution_count": 88,
   "metadata": {},
   "outputs": [
    {
     "name": "stdout",
     "output_type": "stream",
     "text": [
      "H0 NO se rechaza\n"
     ]
    }
   ],
   "source": [
    "if x2_calc >= x2_crit:\n",
    "\tprint('H0 SI se rechaza')\n",
    "else:\n",
    "\tprint('H0 NO se rechaza')"
   ]
  },
  {
   "cell_type": "code",
   "execution_count": 89,
   "metadata": {},
   "outputs": [
    {
     "data": {
      "text/plain": [
       "0.0852017780009883"
      ]
     },
     "execution_count": 89,
     "metadata": {},
     "output_type": "execute_result"
    }
   ],
   "source": [
    "st.chi2.sf(abs(x2_calc), gl)"
   ]
  }
 ],
 "metadata": {
  "kernelspec": {
   "display_name": "Python 3",
   "language": "python",
   "name": "python3"
  },
  "language_info": {
   "codemirror_mode": {
    "name": "ipython",
    "version": 3
   },
   "file_extension": ".py",
   "mimetype": "text/x-python",
   "name": "python",
   "nbconvert_exporter": "python",
   "pygments_lexer": "ipython3",
   "version": "3.9.11"
  }
 },
 "nbformat": 4,
 "nbformat_minor": 0
}