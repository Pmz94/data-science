{
 "cells": [
  {
   "cell_type": "markdown",
   "metadata": {
    "collapsed": true,
    "pycharm": {
     "name": "#%% md\n"
    }
   },
   "source": [
    "# Prueba de bondad de ajuste"
   ]
  },
  {
   "cell_type": "code",
   "execution_count": 2,
   "metadata": {
    "collapsed": false,
    "pycharm": {
     "name": "#%%\n"
    }
   },
   "outputs": [],
   "source": [
    "import pandas as pd\n",
    "import seaborn as sns\n",
    "import matplotlib.pyplot as plt\n",
    "import numpy as np\n",
    "import scipy.stats as st"
   ]
  },
  {
   "cell_type": "markdown",
   "metadata": {
    "collapsed": false,
    "pycharm": {
     "name": "#%% md\n"
    }
   },
   "source": [
    "## Distribucion continua (normal)\n",
    "\n",
    "Un fabricante de luces quiere saber si el tiempo de vida de estas sigue una distribucion normal. Se saca una muestra de 40 focos y se anota su tiempo de vida en meses."
   ]
  },
  {
   "cell_type": "code",
   "execution_count": 50,
   "metadata": {
    "collapsed": false,
    "pycharm": {
     "name": "#%%\n"
    }
   },
   "outputs": [
    {
     "data": {
      "text/html": [
       "<div>\n",
       "<style scoped>\n",
       "    .dataframe tbody tr th:only-of-type {\n",
       "        vertical-align: middle;\n",
       "    }\n",
       "\n",
       "    .dataframe tbody tr th {\n",
       "        vertical-align: top;\n",
       "    }\n",
       "\n",
       "    .dataframe thead th {\n",
       "        text-align: right;\n",
       "    }\n",
       "</style>\n",
       "<table border=\"1\" class=\"dataframe\">\n",
       "  <thead>\n",
       "    <tr style=\"text-align: right;\">\n",
       "      <th></th>\n",
       "      <th>bulb</th>\n",
       "      <th>life</th>\n",
       "    </tr>\n",
       "  </thead>\n",
       "  <tbody>\n",
       "    <tr>\n",
       "      <th>0</th>\n",
       "      <td>1</td>\n",
       "      <td>31</td>\n",
       "    </tr>\n",
       "    <tr>\n",
       "      <th>1</th>\n",
       "      <td>2</td>\n",
       "      <td>33</td>\n",
       "    </tr>\n",
       "    <tr>\n",
       "      <th>2</th>\n",
       "      <td>3</td>\n",
       "      <td>34</td>\n",
       "    </tr>\n",
       "    <tr>\n",
       "      <th>3</th>\n",
       "      <td>4</td>\n",
       "      <td>51</td>\n",
       "    </tr>\n",
       "    <tr>\n",
       "      <th>4</th>\n",
       "      <td>5</td>\n",
       "      <td>24</td>\n",
       "    </tr>\n",
       "    <tr>\n",
       "      <th>5</th>\n",
       "      <td>6</td>\n",
       "      <td>41</td>\n",
       "    </tr>\n",
       "    <tr>\n",
       "      <th>6</th>\n",
       "      <td>7</td>\n",
       "      <td>58</td>\n",
       "    </tr>\n",
       "    <tr>\n",
       "      <th>7</th>\n",
       "      <td>8</td>\n",
       "      <td>53</td>\n",
       "    </tr>\n",
       "  </tbody>\n",
       "</table>\n",
       "</div>"
      ],
      "text/plain": [
       "   bulb  life\n",
       "0     1    31\n",
       "1     2    33\n",
       "2     3    34\n",
       "3     4    51\n",
       "4     5    24\n",
       "5     6    41\n",
       "6     7    58\n",
       "7     8    53"
      ]
     },
     "execution_count": 50,
     "metadata": {},
     "output_type": "execute_result"
    }
   ],
   "source": [
    "data = pd.read_csv('https://raw.githubusercontent.com/RajkumarGalaxy/dataset/master/Tabular/bulb_life.csv')\n",
    "data.head(8)"
   ]
  },
  {
   "cell_type": "code",
   "execution_count": 51,
   "metadata": {
    "collapsed": false,
    "pycharm": {
     "name": "#%%\n"
    }
   },
   "outputs": [
    {
     "data": {
      "image/png": "[encoded data removed]",
      "text/plain": [
       "<Figure size 432x288 with 1 Axes>"
      ]
     },
     "metadata": {},
     "output_type": "display_data"
    }
   ],
   "source": [
    "sns.set_style('darkgrid')\n",
    "sns.histplot(data = data, x = 'life', bins = 'sturges')\n",
    "plt.xlabel('Meses')\n",
    "plt.show()"
   ]
  },
  {
   "cell_type": "markdown",
   "metadata": {
    "collapsed": false
   },
   "source": [
    "Sabemos que una variable aleatoria que sigue una distribución normal es continua. Por lo tanto, podemos definir clases de intervalos tales que cada una deba tener al menos cinco como frecuencia esperada.\n",
    "Como aqui hay 40 focos de muestra, para tener cinco muestras esperadas en cada clase, deberíamos tener exactamente 40/5 = 8 clases en total."
   ]
  },
  {
   "cell_type": "code",
   "execution_count": 52,
   "metadata": {
    "collapsed": false,
    "pycharm": {
     "name": "#%%\n"
    }
   },
   "outputs": [
    {
     "name": "stdout",
     "output_type": "stream",
     "text": [
      "1 0.125\n",
      "2 0.25\n",
      "3 0.375\n",
      "4 0.5\n",
      "5 0.625\n",
      "6 0.75\n",
      "7 0.875\n",
      "8 1.0\n"
     ]
    },
    {
     "data": {
      "text/plain": [
       "[25.880755493307532,\n",
       " 31.659347317884208,\n",
       " 35.98060930826041,\n",
       " 39.85,\n",
       " 43.71939069173959,\n",
       " 48.04065268211579,\n",
       " 53.81924450669247,\n",
       " inf]"
      ]
     },
     "execution_count": 52,
     "metadata": {},
     "output_type": "execute_result"
    }
   ],
   "source": [
    "media = data['life'].mean()\n",
    "desv = data['life'].std()\n",
    "clases = 8\n",
    "\n",
    "intervalo = []\n",
    "for i in range(1, clases + 1):\n",
    "\t#print(i, i / clases)\n",
    "\tval = st.norm.ppf(i / clases, media, desv)\n",
    "\tintervalo.append(val)\n",
    "intervalo"
   ]
  },
  {
   "cell_type": "markdown",
   "metadata": {
    "collapsed": false
   },
   "source": [
    "La distribucion va del infinito negativo hasta el infinito positivo. Incluyamos el infinito negativo en la lista."
   ]
  },
  {
   "cell_type": "code",
   "execution_count": 53,
   "metadata": {
    "collapsed": false,
    "pycharm": {
     "name": "#%%\n"
    }
   },
   "outputs": [
    {
     "data": {
      "text/plain": [
       "[-inf,\n",
       " 25.880755493307532,\n",
       " 31.659347317884208,\n",
       " 35.98060930826041,\n",
       " 39.85,\n",
       " 43.71939069173959,\n",
       " 48.04065268211579,\n",
       " 53.81924450669247,\n",
       " inf]"
      ]
     },
     "execution_count": 53,
     "metadata": {},
     "output_type": "execute_result"
    }
   ],
   "source": [
    "intervalo.insert(0, -np.inf)\n",
    "intervalo"
   ]
  },
  {
   "cell_type": "markdown",
   "metadata": {
    "collapsed": false
   },
   "source": [
    "Construyamos la tabla de frecuencias"
   ]
  },
  {
   "cell_type": "code",
   "execution_count": 54,
   "metadata": {
    "collapsed": false,
    "pycharm": {
     "name": "#%%\n"
    }
   },
   "outputs": [
    {
     "data": {
      "text/html": [
       "<div>\n",
       "<style scoped>\n",
       "    .dataframe tbody tr th:only-of-type {\n",
       "        vertical-align: middle;\n",
       "    }\n",
       "\n",
       "    .dataframe tbody tr th {\n",
       "        vertical-align: top;\n",
       "    }\n",
       "\n",
       "    .dataframe thead th {\n",
       "        text-align: right;\n",
       "    }\n",
       "</style>\n",
       "<table border=\"1\" class=\"dataframe\">\n",
       "  <thead>\n",
       "    <tr style=\"text-align: right;\">\n",
       "      <th></th>\n",
       "      <th>lim_inf</th>\n",
       "      <th>lim_sup</th>\n",
       "    </tr>\n",
       "  </thead>\n",
       "  <tbody>\n",
       "    <tr>\n",
       "      <th>0</th>\n",
       "      <td>-inf</td>\n",
       "      <td>25.880755</td>\n",
       "    </tr>\n",
       "    <tr>\n",
       "      <th>1</th>\n",
       "      <td>25.880755</td>\n",
       "      <td>31.659347</td>\n",
       "    </tr>\n",
       "    <tr>\n",
       "      <th>2</th>\n",
       "      <td>31.659347</td>\n",
       "      <td>35.980609</td>\n",
       "    </tr>\n",
       "    <tr>\n",
       "      <th>3</th>\n",
       "      <td>35.980609</td>\n",
       "      <td>39.850000</td>\n",
       "    </tr>\n",
       "    <tr>\n",
       "      <th>4</th>\n",
       "      <td>39.850000</td>\n",
       "      <td>43.719391</td>\n",
       "    </tr>\n",
       "    <tr>\n",
       "      <th>5</th>\n",
       "      <td>43.719391</td>\n",
       "      <td>48.040653</td>\n",
       "    </tr>\n",
       "    <tr>\n",
       "      <th>6</th>\n",
       "      <td>48.040653</td>\n",
       "      <td>53.819245</td>\n",
       "    </tr>\n",
       "    <tr>\n",
       "      <th>7</th>\n",
       "      <td>53.819245</td>\n",
       "      <td>inf</td>\n",
       "    </tr>\n",
       "  </tbody>\n",
       "</table>\n",
       "</div>"
      ],
      "text/plain": [
       "     lim_inf    lim_sup\n",
       "0       -inf  25.880755\n",
       "1  25.880755  31.659347\n",
       "2  31.659347  35.980609\n",
       "3  35.980609  39.850000\n",
       "4  39.850000  43.719391\n",
       "5  43.719391  48.040653\n",
       "6  48.040653  53.819245\n",
       "7  53.819245        inf"
      ]
     },
     "execution_count": 54,
     "metadata": {},
     "output_type": "execute_result"
    }
   ],
   "source": [
    "df = pd.DataFrame({'lim_inf': intervalo[:-1], 'lim_sup': intervalo[1:]})\n",
    "df"
   ]
  },
  {
   "cell_type": "code",
   "execution_count": 55,
   "metadata": {
    "collapsed": false,
    "pycharm": {
     "name": "#%%\n"
    }
   },
   "outputs": [
    {
     "data": {
      "text/html": [
       "<div>\n",
       "<style scoped>\n",
       "    .dataframe tbody tr th:only-of-type {\n",
       "        vertical-align: middle;\n",
       "    }\n",
       "\n",
       "    .dataframe tbody tr th {\n",
       "        vertical-align: top;\n",
       "    }\n",
       "\n",
       "    .dataframe thead th {\n",
       "        text-align: right;\n",
       "    }\n",
       "</style>\n",
       "<table border=\"1\" class=\"dataframe\">\n",
       "  <thead>\n",
       "    <tr style=\"text-align: right;\">\n",
       "      <th></th>\n",
       "      <th>lim_inf</th>\n",
       "      <th>lim_sup</th>\n",
       "      <th>oi</th>\n",
       "      <th>ei</th>\n",
       "    </tr>\n",
       "  </thead>\n",
       "  <tbody>\n",
       "    <tr>\n",
       "      <th>0</th>\n",
       "      <td>-inf</td>\n",
       "      <td>25.880755</td>\n",
       "      <td>3</td>\n",
       "      <td>5</td>\n",
       "    </tr>\n",
       "    <tr>\n",
       "      <th>1</th>\n",
       "      <td>25.880755</td>\n",
       "      <td>31.659347</td>\n",
       "      <td>9</td>\n",
       "      <td>5</td>\n",
       "    </tr>\n",
       "    <tr>\n",
       "      <th>2</th>\n",
       "      <td>31.659347</td>\n",
       "      <td>35.980609</td>\n",
       "      <td>6</td>\n",
       "      <td>5</td>\n",
       "    </tr>\n",
       "    <tr>\n",
       "      <th>3</th>\n",
       "      <td>35.980609</td>\n",
       "      <td>39.850000</td>\n",
       "      <td>2</td>\n",
       "      <td>5</td>\n",
       "    </tr>\n",
       "    <tr>\n",
       "      <th>4</th>\n",
       "      <td>39.850000</td>\n",
       "      <td>43.719391</td>\n",
       "      <td>6</td>\n",
       "      <td>5</td>\n",
       "    </tr>\n",
       "    <tr>\n",
       "      <th>5</th>\n",
       "      <td>43.719391</td>\n",
       "      <td>48.040653</td>\n",
       "      <td>2</td>\n",
       "      <td>5</td>\n",
       "    </tr>\n",
       "    <tr>\n",
       "      <th>6</th>\n",
       "      <td>48.040653</td>\n",
       "      <td>53.819245</td>\n",
       "      <td>6</td>\n",
       "      <td>5</td>\n",
       "    </tr>\n",
       "    <tr>\n",
       "      <th>7</th>\n",
       "      <td>53.819245</td>\n",
       "      <td>inf</td>\n",
       "      <td>6</td>\n",
       "      <td>5</td>\n",
       "    </tr>\n",
       "  </tbody>\n",
       "</table>\n",
       "</div>"
      ],
      "text/plain": [
       "     lim_inf    lim_sup  oi  ei\n",
       "0       -inf  25.880755   3   5\n",
       "1  25.880755  31.659347   9   5\n",
       "2  31.659347  35.980609   6   5\n",
       "3  35.980609  39.850000   2   5\n",
       "4  39.850000  43.719391   6   5\n",
       "5  43.719391  48.040653   2   5\n",
       "6  48.040653  53.819245   6   5\n",
       "7  53.819245        inf   6   5"
      ]
     },
     "execution_count": 55,
     "metadata": {},
     "output_type": "execute_result"
    }
   ],
   "source": [
    "df['oi'] = df.apply(lambda i: sum([i['lim_inf'] <= x < i['lim_sup'] for x in list(sorted(data['life']))]), axis = 1)\n",
    "df['ei'] = 5\n",
    "df"
   ]
  },
  {
   "cell_type": "markdown",
   "metadata": {
    "collapsed": false
   },
   "source": [
    "Sacar $X^{2}$ calculada"
   ]
  },
  {
   "cell_type": "code",
   "execution_count": 56,
   "metadata": {
    "collapsed": false,
    "pycharm": {
     "name": "#%%\n"
    }
   },
   "outputs": [
    {
     "data": {
      "text/html": [
       "<div>\n",
       "<style scoped>\n",
       "    .dataframe tbody tr th:only-of-type {\n",
       "        vertical-align: middle;\n",
       "    }\n",
       "\n",
       "    .dataframe tbody tr th {\n",
       "        vertical-align: top;\n",
       "    }\n",
       "\n",
       "    .dataframe thead th {\n",
       "        text-align: right;\n",
       "    }\n",
       "</style>\n",
       "<table border=\"1\" class=\"dataframe\">\n",
       "  <thead>\n",
       "    <tr style=\"text-align: right;\">\n",
       "      <th></th>\n",
       "      <th>lim_inf</th>\n",
       "      <th>lim_sup</th>\n",
       "      <th>oi</th>\n",
       "      <th>ei</th>\n",
       "      <th>x2_calc</th>\n",
       "    </tr>\n",
       "  </thead>\n",
       "  <tbody>\n",
       "    <tr>\n",
       "      <th>0</th>\n",
       "      <td>-inf</td>\n",
       "      <td>25.880755</td>\n",
       "      <td>3</td>\n",
       "      <td>5</td>\n",
       "      <td>0.8</td>\n",
       "    </tr>\n",
       "    <tr>\n",
       "      <th>1</th>\n",
       "      <td>25.880755</td>\n",
       "      <td>31.659347</td>\n",
       "      <td>9</td>\n",
       "      <td>5</td>\n",
       "      <td>3.2</td>\n",
       "    </tr>\n",
       "    <tr>\n",
       "      <th>2</th>\n",
       "      <td>31.659347</td>\n",
       "      <td>35.980609</td>\n",
       "      <td>6</td>\n",
       "      <td>5</td>\n",
       "      <td>0.2</td>\n",
       "    </tr>\n",
       "    <tr>\n",
       "      <th>3</th>\n",
       "      <td>35.980609</td>\n",
       "      <td>39.850000</td>\n",
       "      <td>2</td>\n",
       "      <td>5</td>\n",
       "      <td>1.8</td>\n",
       "    </tr>\n",
       "    <tr>\n",
       "      <th>4</th>\n",
       "      <td>39.850000</td>\n",
       "      <td>43.719391</td>\n",
       "      <td>6</td>\n",
       "      <td>5</td>\n",
       "      <td>0.2</td>\n",
       "    </tr>\n",
       "    <tr>\n",
       "      <th>5</th>\n",
       "      <td>43.719391</td>\n",
       "      <td>48.040653</td>\n",
       "      <td>2</td>\n",
       "      <td>5</td>\n",
       "      <td>1.8</td>\n",
       "    </tr>\n",
       "    <tr>\n",
       "      <th>6</th>\n",
       "      <td>48.040653</td>\n",
       "      <td>53.819245</td>\n",
       "      <td>6</td>\n",
       "      <td>5</td>\n",
       "      <td>0.2</td>\n",
       "    </tr>\n",
       "    <tr>\n",
       "      <th>7</th>\n",
       "      <td>53.819245</td>\n",
       "      <td>inf</td>\n",
       "      <td>6</td>\n",
       "      <td>5</td>\n",
       "      <td>0.2</td>\n",
       "    </tr>\n",
       "  </tbody>\n",
       "</table>\n",
       "</div>"
      ],
      "text/plain": [
       "     lim_inf    lim_sup  oi  ei  x2_calc\n",
       "0       -inf  25.880755   3   5      0.8\n",
       "1  25.880755  31.659347   9   5      3.2\n",
       "2  31.659347  35.980609   6   5      0.2\n",
       "3  35.980609  39.850000   2   5      1.8\n",
       "4  39.850000  43.719391   6   5      0.2\n",
       "5  43.719391  48.040653   2   5      1.8\n",
       "6  48.040653  53.819245   6   5      0.2\n",
       "7  53.819245        inf   6   5      0.2"
      ]
     },
     "execution_count": 56,
     "metadata": {},
     "output_type": "execute_result"
    }
   ],
   "source": [
    "df['x2_calc'] = df.apply(lambda x: (x['oi'] - x['ei']) ** 2 / x['ei'], axis = 1)\n",
    "df"
   ]
  },
  {
   "cell_type": "code",
   "execution_count": 57,
   "metadata": {
    "collapsed": false,
    "pycharm": {
     "name": "#%%\n"
    }
   },
   "outputs": [
    {
     "data": {
      "text/plain": [
       "8.4"
      ]
     },
     "execution_count": 57,
     "metadata": {},
     "output_type": "execute_result"
    }
   ],
   "source": [
    "x2_calc = df['x2_calc'].sum()\n",
    "x2_calc"
   ]
  },
  {
   "cell_type": "code",
   "execution_count": 58,
   "metadata": {
    "collapsed": false,
    "pycharm": {
     "name": "#%%\n"
    }
   },
   "outputs": [
    {
     "data": {
      "text/plain": [
       "Power_divergenceResult(statistic=8.4, pvalue=0.29864634297052595)"
      ]
     },
     "execution_count": 58,
     "metadata": {},
     "output_type": "execute_result"
    }
   ],
   "source": [
    "st.chisquare(df['oi'], df['ei'])"
   ]
  },
  {
   "cell_type": "markdown",
   "metadata": {
    "collapsed": false
   },
   "source": [
    "Sacar $X^{2}$ critica"
   ]
  },
  {
   "cell_type": "code",
   "execution_count": 59,
   "metadata": {
    "collapsed": false,
    "pycharm": {
     "name": "#%%\n"
    }
   },
   "outputs": [
    {
     "data": {
      "text/plain": [
       "11.070497693516355"
      ]
     },
     "execution_count": 59,
     "metadata": {},
     "output_type": "execute_result"
    }
   ],
   "source": [
    "alfa = 0.05\n",
    "k = len(df['oi'])  # renglones\n",
    "p = 2  # parametros\n",
    "gl = k - p - 1\n",
    "x2_crit = st.chi2.isf(alfa, gl)\n",
    "x2_crit"
   ]
  },
  {
   "cell_type": "markdown",
   "metadata": {
    "collapsed": false
   },
   "source": [
    "$H_{0}$ se rechaza si:\n",
    "$X^{2}_{calc} \\ge X^{2}_{\\alpha, k - p - 1}$"
   ]
  },
  {
   "cell_type": "code",
   "execution_count": 60,
   "metadata": {
    "collapsed": false,
    "pycharm": {
     "name": "#%%\n"
    }
   },
   "outputs": [
    {
     "name": "stdout",
     "output_type": "stream",
     "text": [
      "H0 NO se rechaza\n"
     ]
    }
   ],
   "source": [
    "if x2_calc >= x2_crit:\n",
    "\tprint('H0 SI se rechaza')\n",
    "else:\n",
    "\tprint('H0 NO se rechaza')"
   ]
  },
  {
   "cell_type": "markdown",
   "metadata": {
    "collapsed": false
   },
   "source": [
    "Sacar P-valor"
   ]
  },
  {
   "cell_type": "code",
   "execution_count": 61,
   "metadata": {
    "collapsed": false,
    "pycharm": {
     "name": "#%%\n"
    }
   },
   "outputs": [
    {
     "data": {
      "text/plain": [
       "0.13552522337752967"
      ]
     },
     "execution_count": 61,
     "metadata": {},
     "output_type": "execute_result"
    }
   ],
   "source": [
    "st.chi2.sf(abs(x2_calc), gl)"
   ]
  },
  {
   "cell_type": "markdown",
   "metadata": {
    "collapsed": false,
    "pycharm": {
     "name": "#%% md\n"
    }
   },
   "source": [
    "## Ejemplo 8-24\n",
    "\n",
    "Se prueba el cargador de una laptop. Con $\\alpha$ = 0.05, se quiere ver si el voltaje de salida esta descrito adecuadamente por una distribucion normal. A partir de una muestra aleatoria de *n = 100* unidades, se obtiene la media y la desviacion estandar. $\\overline{x}$ = 5.04 voltios y S = 0.08 V."
   ]
  },
  {
   "cell_type": "code",
   "execution_count": 62,
   "metadata": {
    "collapsed": false,
    "pycharm": {
     "name": "#%%\n"
    }
   },
   "outputs": [],
   "source": [
    "media = 5.04\n",
    "desv = 0.08"
   ]
  },
  {
   "cell_type": "markdown",
   "metadata": {
    "collapsed": false
   },
   "source": [
    "Una practica comun en la construccion de intervalos de clase, es escoger los limites de las clases de modo que las frecuencias esperadas $E_{i} = np_{i}$ sean iguales para todas las celdas. Para usar este metodo, se desea escoger los limites de las celdas $a_{0}, a_{1}, ..., a_{k}$ para las *k* clases, de modo que todas las probabilidades\n",
    "<br>\n",
    "$p_{i} = P(a_{i-1} \\le X \\le a_{i}) = \\left(\\int_{a_{i} - 1}^{a_{i}} f(x) \\; dx\\right)$\n",
    "<br>\n",
    "sean iguales.\n",
    "Supongase que se deciden usar *k* = 8 clases. Para la distribucion normal estandar, los intervalos que dividen la escala en 8 segmentos igualmente probables son\n",
    "[-$\\infty$, -1.15), [-1.15, -0.675), [-0.675, -0.32), [-0.32, 0), [0, 0.32), [0.32, 0.675), [0.675, 1.15), [1.15, $\\infty$).\n",
    "Para cada intervalo $p_{i}$ = 1/8 = 0.125, de modo que las frecuencias esperadas de las celdas son $E_{i} = np_{i} = 100(0.125) = 12.5$. La tabla completa de frecuencias observadas y esperadas es la siguiente:"
   ]
  },
  {
   "cell_type": "code",
   "execution_count": 7,
   "metadata": {
    "collapsed": false,
    "pycharm": {
     "name": "#%%\n"
    }
   },
   "outputs": [
    {
     "data": {
      "text/html": [
       "<div>\n",
       "<style scoped>\n",
       "    .dataframe tbody tr th:only-of-type {\n",
       "        vertical-align: middle;\n",
       "    }\n",
       "\n",
       "    .dataframe tbody tr th {\n",
       "        vertical-align: top;\n",
       "    }\n",
       "\n",
       "    .dataframe thead th {\n",
       "        text-align: right;\n",
       "    }\n",
       "</style>\n",
       "<table border=\"1\" class=\"dataframe\">\n",
       "  <thead>\n",
       "    <tr style=\"text-align: right;\">\n",
       "      <th></th>\n",
       "      <th>lim_inf</th>\n",
       "      <th>lim_sup</th>\n",
       "      <th>oi</th>\n",
       "      <th>ei</th>\n",
       "    </tr>\n",
       "  </thead>\n",
       "  <tbody>\n",
       "    <tr>\n",
       "      <th>0</th>\n",
       "      <td>-inf</td>\n",
       "      <td>4.948</td>\n",
       "      <td>12</td>\n",
       "      <td>12.5</td>\n",
       "    </tr>\n",
       "    <tr>\n",
       "      <th>1</th>\n",
       "      <td>4.948</td>\n",
       "      <td>4.986</td>\n",
       "      <td>14</td>\n",
       "      <td>12.5</td>\n",
       "    </tr>\n",
       "    <tr>\n",
       "      <th>2</th>\n",
       "      <td>4.986</td>\n",
       "      <td>5.014</td>\n",
       "      <td>12</td>\n",
       "      <td>12.5</td>\n",
       "    </tr>\n",
       "    <tr>\n",
       "      <th>3</th>\n",
       "      <td>5.014</td>\n",
       "      <td>5.040</td>\n",
       "      <td>13</td>\n",
       "      <td>12.5</td>\n",
       "    </tr>\n",
       "    <tr>\n",
       "      <th>4</th>\n",
       "      <td>5.040</td>\n",
       "      <td>5.066</td>\n",
       "      <td>12</td>\n",
       "      <td>12.5</td>\n",
       "    </tr>\n",
       "    <tr>\n",
       "      <th>5</th>\n",
       "      <td>5.066</td>\n",
       "      <td>5.094</td>\n",
       "      <td>11</td>\n",
       "      <td>12.5</td>\n",
       "    </tr>\n",
       "    <tr>\n",
       "      <th>6</th>\n",
       "      <td>5.094</td>\n",
       "      <td>5.132</td>\n",
       "      <td>12</td>\n",
       "      <td>12.5</td>\n",
       "    </tr>\n",
       "    <tr>\n",
       "      <th>7</th>\n",
       "      <td>5.132</td>\n",
       "      <td>inf</td>\n",
       "      <td>14</td>\n",
       "      <td>12.5</td>\n",
       "    </tr>\n",
       "  </tbody>\n",
       "</table>\n",
       "</div>"
      ],
      "text/plain": [
       "   lim_inf  lim_sup  oi    ei\n",
       "0     -inf    4.948  12  12.5\n",
       "1    4.948    4.986  14  12.5\n",
       "2    4.986    5.014  12  12.5\n",
       "3    5.014    5.040  13  12.5\n",
       "4    5.040    5.066  12  12.5\n",
       "5    5.066    5.094  11  12.5\n",
       "6    5.094    5.132  12  12.5\n",
       "7    5.132      inf  14  12.5"
      ]
     },
     "execution_count": 7,
     "metadata": {},
     "output_type": "execute_result"
    }
   ],
   "source": [
    "intervalo = [-np.inf, 4.948, 4.986, 5.014, 5.040, 5.066, 5.094, 5.132, np.inf]\n",
    "df = pd.DataFrame({\n",
    "    'lim_inf': intervalo[:-1],\n",
    "    'lim_sup': intervalo[1:],\n",
    "    'oi': [12,14,12,13,12,11,12,14],\n",
    "    'ei': [12.5,12.5,12.5,12.5,12.5,12.5,12.5,12.5]\n",
    "})\n",
    "df"
   ]
  },
  {
   "cell_type": "markdown",
   "metadata": {
    "collapsed": false,
    "pycharm": {
     "name": "#%% md\n"
    }
   },
   "source": [
    "El limite del primer intevalo de clase es x - 1.15s = 4.948. El segundo intervalo de clase es [x - 1.15s, x - 0.675s) y asi sucesivamente.\n",
    "Ahora puede aplicarse al problema el procedimiento de 8 pasos para la prueba de hipotesis.\n",
    "1. La variable de interes es la forma de la distribucion del voltaje del cargador.\n",
    "2. $H_{0}$: La distribucion es normal.\n",
    "3. $H_{1}$: La distribucion no es normal.\n",
    "4. $\\alpha$ = 0.05\n",
    "5. El estadistico de prueba es\n",
    "    <br>\n",
    "    $X^{2}_{calc} = \\sum_{i = 1}^{k} \\frac{(O_{i} - E_{i})^2}{E_{i}}$\n",
    "6. Como se han estimado los dos parametros de la distribucion normal, el estadistico $X^2$ anterior tiene *k - p - 1* = 8 - 2 - 1 = 5 grados de libertad. Por lo tanto, $H_{0}$ se rechaza si $X^2_{calc} > X^2_{0.05, 5}$\n",
    "7. Sacar calculos.\n",
    "8. Concluir."
   ]
  },
  {
   "cell_type": "code",
   "execution_count": 6,
   "metadata": {
    "collapsed": false,
    "pycharm": {
     "name": "#%%\n"
    }
   },
   "outputs": [
    {
     "data": {
      "text/html": [
       "<div>\n",
       "<style scoped>\n",
       "    .dataframe tbody tr th:only-of-type {\n",
       "        vertical-align: middle;\n",
       "    }\n",
       "\n",
       "    .dataframe tbody tr th {\n",
       "        vertical-align: top;\n",
       "    }\n",
       "\n",
       "    .dataframe thead th {\n",
       "        text-align: right;\n",
       "    }\n",
       "</style>\n",
       "<table border=\"1\" class=\"dataframe\">\n",
       "  <thead>\n",
       "    <tr style=\"text-align: right;\">\n",
       "      <th></th>\n",
       "      <th>lim_inf</th>\n",
       "      <th>lim_sup</th>\n",
       "      <th>oi</th>\n",
       "      <th>ei</th>\n",
       "      <th>x2_calc</th>\n",
       "    </tr>\n",
       "  </thead>\n",
       "  <tbody>\n",
       "    <tr>\n",
       "      <th>0</th>\n",
       "      <td>-inf</td>\n",
       "      <td>4.948</td>\n",
       "      <td>12</td>\n",
       "      <td>12.5</td>\n",
       "      <td>0.02</td>\n",
       "    </tr>\n",
       "    <tr>\n",
       "      <th>1</th>\n",
       "      <td>4.948</td>\n",
       "      <td>4.986</td>\n",
       "      <td>14</td>\n",
       "      <td>12.5</td>\n",
       "      <td>0.18</td>\n",
       "    </tr>\n",
       "    <tr>\n",
       "      <th>2</th>\n",
       "      <td>4.986</td>\n",
       "      <td>5.014</td>\n",
       "      <td>12</td>\n",
       "      <td>12.5</td>\n",
       "      <td>0.02</td>\n",
       "    </tr>\n",
       "    <tr>\n",
       "      <th>3</th>\n",
       "      <td>5.014</td>\n",
       "      <td>5.040</td>\n",
       "      <td>13</td>\n",
       "      <td>12.5</td>\n",
       "      <td>0.02</td>\n",
       "    </tr>\n",
       "    <tr>\n",
       "      <th>4</th>\n",
       "      <td>5.040</td>\n",
       "      <td>5.066</td>\n",
       "      <td>12</td>\n",
       "      <td>12.5</td>\n",
       "      <td>0.02</td>\n",
       "    </tr>\n",
       "    <tr>\n",
       "      <th>5</th>\n",
       "      <td>5.066</td>\n",
       "      <td>5.094</td>\n",
       "      <td>11</td>\n",
       "      <td>12.5</td>\n",
       "      <td>0.18</td>\n",
       "    </tr>\n",
       "    <tr>\n",
       "      <th>6</th>\n",
       "      <td>5.094</td>\n",
       "      <td>5.132</td>\n",
       "      <td>12</td>\n",
       "      <td>12.5</td>\n",
       "      <td>0.02</td>\n",
       "    </tr>\n",
       "    <tr>\n",
       "      <th>7</th>\n",
       "      <td>5.132</td>\n",
       "      <td>inf</td>\n",
       "      <td>14</td>\n",
       "      <td>12.5</td>\n",
       "      <td>0.18</td>\n",
       "    </tr>\n",
       "  </tbody>\n",
       "</table>\n",
       "</div>"
      ],
      "text/plain": [
       "   lim_inf  lim_sup  oi    ei  x2_calc\n",
       "0     -inf    4.948  12  12.5     0.02\n",
       "1    4.948    4.986  14  12.5     0.18\n",
       "2    4.986    5.014  12  12.5     0.02\n",
       "3    5.014    5.040  13  12.5     0.02\n",
       "4    5.040    5.066  12  12.5     0.02\n",
       "5    5.066    5.094  11  12.5     0.18\n",
       "6    5.094    5.132  12  12.5     0.02\n",
       "7    5.132      inf  14  12.5     0.18"
      ]
     },
     "execution_count": 6,
     "metadata": {},
     "output_type": "execute_result"
    }
   ],
   "source": [
    "df['x2_calc'] = df.apply(lambda x: (x['oi'] - x['ei']) ** 2 / x['ei'], axis = 1)\n",
    "df"
   ]
  },
  {
   "cell_type": "code",
   "execution_count": 65,
   "metadata": {
    "collapsed": false,
    "pycharm": {
     "name": "#%%\n"
    }
   },
   "outputs": [
    {
     "data": {
      "text/plain": [
       "0.6399999999999999"
      ]
     },
     "execution_count": 65,
     "metadata": {},
     "output_type": "execute_result"
    }
   ],
   "source": [
    "x2_calc = df['x2_calc'].sum()\n",
    "x2_calc"
   ]
  },
  {
   "cell_type": "code",
   "execution_count": 66,
   "metadata": {
    "collapsed": false,
    "pycharm": {
     "name": "#%%\n"
    }
   },
   "outputs": [
    {
     "data": {
      "text/plain": [
       "11.070497693516355"
      ]
     },
     "execution_count": 66,
     "metadata": {},
     "output_type": "execute_result"
    }
   ],
   "source": [
    "alfa = 0.05\n",
    "k = len(df['oi'])  # renglones\n",
    "p = 2  # parametros\n",
    "gl = k - p - 1\n",
    "x2_crit = st.chi2.isf(alfa, gl)\n",
    "x2_crit"
   ]
  },
  {
   "cell_type": "code",
   "execution_count": 67,
   "metadata": {
    "collapsed": false,
    "pycharm": {
     "name": "#%%\n"
    }
   },
   "outputs": [
    {
     "name": "stdout",
     "output_type": "stream",
     "text": [
      "H0 NO se rechaza\n"
     ]
    }
   ],
   "source": [
    "if x2_calc >= x2_crit:\n",
    "\tprint('H0 SI se rechaza')\n",
    "else:\n",
    "\tprint('H0 NO se rechaza')"
   ]
  },
  {
   "cell_type": "code",
   "execution_count": 69,
   "metadata": {
    "collapsed": false,
    "pycharm": {
     "name": "#%%\n"
    }
   },
   "outputs": [
    {
     "data": {
      "text/plain": [
       "0.9860986649277519"
      ]
     },
     "execution_count": 69,
     "metadata": {},
     "output_type": "execute_result"
    }
   ],
   "source": [
    "st.chi2.sf(abs(x2_calc), gl)"
   ]
  }
 ],
 "metadata": {
  "kernelspec": {
   "display_name": "Python 3",
   "language": "python",
   "name": "python3"
  },
  "language_info": {
   "codemirror_mode": {
    "name": "ipython",
    "version": 3
   },
   "file_extension": ".py",
   "mimetype": "text/x-python",
   "name": "python",
   "nbconvert_exporter": "python",
   "pygments_lexer": "ipython3",
   "version": "3.9.11"
  }
 },
 "nbformat": 4,
 "nbformat_minor": 0
}
