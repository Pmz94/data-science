{
 "cells": [
  {
   "cell_type": "markdown",
   "metadata": {
    "collapsed": true,
    "pycharm": {
     "name": "#%% md\n"
    }
   },
   "source": [
    "# Prueba de bondad de ajuste\n",
    "\n",
    "## Distribucion normal"
   ]
  },
  {
   "cell_type": "code",
   "execution_count": 1,
   "outputs": [],
   "source": [
    "import funciones\n",
    "import numpy as np\n",
    "import pandas as pd\n",
    "import scipy.stats as st\n",
    "from fitter import Fitter, get_common_distributions"
   ],
   "metadata": {
    "collapsed": false,
    "pycharm": {
     "name": "#%%\n"
    }
   }
  },
  {
   "cell_type": "markdown",
   "source": [
    "#### Ejercicio 8-88\n",
    "\n",
    "Se observa y se anota la duracion en segundos que tarda un programa en ejecutarse."
   ],
   "metadata": {
    "collapsed": false
   }
  },
  {
   "cell_type": "code",
   "execution_count": 12,
   "outputs": [],
   "source": [
    "tiempos = [\n",
    "\t(2.10, 16),\n",
    "\t(2.11, 28),\n",
    "\t(2.12, 41),\n",
    "\t(2.13, 74),\n",
    "\t(2.14, 149),\n",
    "\t(2.15, 256),\n",
    "\t(2.16, 137),\n",
    "\t(2.17, 82),\n",
    "\t(2.18, 40),\n",
    "\t(2.19, 19),\n",
    "\t(2.20, 11),\n",
    "]"
   ],
   "metadata": {
    "collapsed": false,
    "pycharm": {
     "name": "#%%\n"
    }
   }
  },
  {
   "cell_type": "markdown",
   "source": [
    "a) La distribucion normal parece ser un modelo de probabilidad razonable para la duracion de la ejecucion? Utilize $\\alpha$ = 0.05\n",
    "b) Encuentre el P-valor de esta prueba."
   ],
   "metadata": {
    "collapsed": false
   }
  },
  {
   "cell_type": "code",
   "execution_count": 13,
   "outputs": [],
   "source": [
    "tiempos = funciones.desagrupar_datos(tiempos)"
   ],
   "metadata": {
    "collapsed": false,
    "pycharm": {
     "name": "#%%\n"
    }
   }
  },
  {
   "cell_type": "code",
   "execution_count": 7,
   "outputs": [
    {
     "data": {
      "text/plain": "<Figure size 432x288 with 1 Axes>",
      "image/png": "[encoded data removed]"
     },
     "metadata": {
      "needs_background": "light"
     },
     "output_type": "display_data"
    }
   ],
   "source": [
    "funciones.histograma(\n",
    "\ttiempos,\n",
    "\ttitulo = 'Segundos en los que tarda en correr un programa',\n",
    "\tlabel_x = 'Segundos'\n",
    ")"
   ],
   "metadata": {
    "collapsed": false,
    "pycharm": {
     "name": "#%%\n"
    }
   }
  },
  {
   "cell_type": "code",
   "execution_count": 14,
   "outputs": [
    {
     "data": {
      "text/plain": "(2.1492966002344667, 0.018945778130164553)"
     },
     "execution_count": 14,
     "metadata": {},
     "output_type": "execute_result"
    }
   ],
   "source": [
    "media = np.mean(tiempos)\n",
    "desv = np.std(tiempos)\n",
    "media, desv"
   ],
   "metadata": {
    "collapsed": false,
    "pycharm": {
     "name": "#%%\n"
    }
   }
  },
  {
   "cell_type": "code",
   "execution_count": 21,
   "outputs": [
    {
     "name": "stdout",
     "output_type": "stream",
     "text": [
      "1 0.09090909090909091\n",
      "2 0.18181818181818182\n",
      "3 0.2727272727272727\n",
      "4 0.36363636363636365\n",
      "5 0.45454545454545453\n",
      "6 0.5454545454545454\n",
      "7 0.6363636363636364\n",
      "8 0.7272727272727273\n",
      "9 0.8181818181818182\n",
      "10 0.9090909090909091\n",
      "11 1.0\n"
     ]
    },
    {
     "data": {
      "text/plain": "[-inf,\n 2.124000619081622,\n 2.132085159016555,\n 2.137842260397352,\n 2.1426891522055693,\n 2.1471332709825255,\n 2.151459929486408,\n 2.155904048263364,\n 2.160750940071581,\n 2.1665080414523783,\n 2.1745925813873113,\n inf]"
     },
     "execution_count": 21,
     "metadata": {},
     "output_type": "execute_result"
    }
   ],
   "source": [
    "clases = 11\n",
    "\n",
    "intervalo = []\n",
    "for i in range(1, clases + 1):\n",
    "\tprint(i, i / clases)\n",
    "\tval = st.norm.ppf(i / clases, media, desv)\n",
    "\tintervalo.append(val)\n",
    "intervalo.insert(0, -np.inf)\n",
    "intervalo"
   ],
   "metadata": {
    "collapsed": false,
    "pycharm": {
     "name": "#%%\n"
    }
   }
  },
  {
   "cell_type": "code",
   "execution_count": 17,
   "outputs": [
    {
     "data": {
      "text/plain": "     lim_inf   lim_sup\n0       -inf  2.124001\n1   2.124001  2.132085\n2   2.132085  2.137842\n3   2.137842  2.142689\n4   2.142689  2.147133\n5   2.147133  2.151460\n6   2.151460  2.155904\n7   2.155904  2.160751\n8   2.160751  2.166508\n9   2.166508  2.174593\n10  2.174593       inf",
      "text/html": "<div>\n<style scoped>\n    .dataframe tbody tr th:only-of-type {\n        vertical-align: middle;\n    }\n\n    .dataframe tbody tr th {\n        vertical-align: top;\n    }\n\n    .dataframe thead th {\n        text-align: right;\n    }\n</style>\n<table border=\"1\" class=\"dataframe\">\n  <thead>\n    <tr style=\"text-align: right;\">\n      <th></th>\n      <th>lim_inf</th>\n      <th>lim_sup</th>\n    </tr>\n  </thead>\n  <tbody>\n    <tr>\n      <th>0</th>\n      <td>-inf</td>\n      <td>2.124001</td>\n    </tr>\n    <tr>\n      <th>1</th>\n      <td>2.124001</td>\n      <td>2.132085</td>\n    </tr>\n    <tr>\n      <th>2</th>\n      <td>2.132085</td>\n      <td>2.137842</td>\n    </tr>\n    <tr>\n      <th>3</th>\n      <td>2.137842</td>\n      <td>2.142689</td>\n    </tr>\n    <tr>\n      <th>4</th>\n      <td>2.142689</td>\n      <td>2.147133</td>\n    </tr>\n    <tr>\n      <th>5</th>\n      <td>2.147133</td>\n      <td>2.151460</td>\n    </tr>\n    <tr>\n      <th>6</th>\n      <td>2.151460</td>\n      <td>2.155904</td>\n    </tr>\n    <tr>\n      <th>7</th>\n      <td>2.155904</td>\n      <td>2.160751</td>\n    </tr>\n    <tr>\n      <th>8</th>\n      <td>2.160751</td>\n      <td>2.166508</td>\n    </tr>\n    <tr>\n      <th>9</th>\n      <td>2.166508</td>\n      <td>2.174593</td>\n    </tr>\n    <tr>\n      <th>10</th>\n      <td>2.174593</td>\n      <td>inf</td>\n    </tr>\n  </tbody>\n</table>\n</div>"
     },
     "execution_count": 17,
     "metadata": {},
     "output_type": "execute_result"
    }
   ],
   "source": [
    "df = pd.DataFrame({'lim_inf': intervalo[:-1], 'lim_sup': intervalo[1:]})\n",
    "df"
   ],
   "metadata": {
    "collapsed": false,
    "pycharm": {
     "name": "#%%\n"
    }
   }
  },
  {
   "cell_type": "code",
   "execution_count": 18,
   "outputs": [
    {
     "data": {
      "text/plain": "     lim_inf   lim_sup   oi\n0       -inf  2.124001   85\n1   2.124001  2.132085   74\n2   2.132085  2.137842    0\n3   2.137842  2.142689  149\n4   2.142689  2.147133    0\n5   2.147133  2.151460  256\n6   2.151460  2.155904    0\n7   2.155904  2.160751  137\n8   2.160751  2.166508    0\n9   2.166508  2.174593   82\n10  2.174593       inf   70",
      "text/html": "<div>\n<style scoped>\n    .dataframe tbody tr th:only-of-type {\n        vertical-align: middle;\n    }\n\n    .dataframe tbody tr th {\n        vertical-align: top;\n    }\n\n    .dataframe thead th {\n        text-align: right;\n    }\n</style>\n<table border=\"1\" class=\"dataframe\">\n  <thead>\n    <tr style=\"text-align: right;\">\n      <th></th>\n      <th>lim_inf</th>\n      <th>lim_sup</th>\n      <th>oi</th>\n    </tr>\n  </thead>\n  <tbody>\n    <tr>\n      <th>0</th>\n      <td>-inf</td>\n      <td>2.124001</td>\n      <td>85</td>\n    </tr>\n    <tr>\n      <th>1</th>\n      <td>2.124001</td>\n      <td>2.132085</td>\n      <td>74</td>\n    </tr>\n    <tr>\n      <th>2</th>\n      <td>2.132085</td>\n      <td>2.137842</td>\n      <td>0</td>\n    </tr>\n    <tr>\n      <th>3</th>\n      <td>2.137842</td>\n      <td>2.142689</td>\n      <td>149</td>\n    </tr>\n    <tr>\n      <th>4</th>\n      <td>2.142689</td>\n      <td>2.147133</td>\n      <td>0</td>\n    </tr>\n    <tr>\n      <th>5</th>\n      <td>2.147133</td>\n      <td>2.151460</td>\n      <td>256</td>\n    </tr>\n    <tr>\n      <th>6</th>\n      <td>2.151460</td>\n      <td>2.155904</td>\n      <td>0</td>\n    </tr>\n    <tr>\n      <th>7</th>\n      <td>2.155904</td>\n      <td>2.160751</td>\n      <td>137</td>\n    </tr>\n    <tr>\n      <th>8</th>\n      <td>2.160751</td>\n      <td>2.166508</td>\n      <td>0</td>\n    </tr>\n    <tr>\n      <th>9</th>\n      <td>2.166508</td>\n      <td>2.174593</td>\n      <td>82</td>\n    </tr>\n    <tr>\n      <th>10</th>\n      <td>2.174593</td>\n      <td>inf</td>\n      <td>70</td>\n    </tr>\n  </tbody>\n</table>\n</div>"
     },
     "execution_count": 18,
     "metadata": {},
     "output_type": "execute_result"
    }
   ],
   "source": [
    "df['oi'] = df.apply(lambda x: sum([x['lim_inf'] <= i < x['lim_sup'] for i in sorted(tiempos)]), axis = 1)\n",
    "df"
   ],
   "metadata": {
    "collapsed": false,
    "pycharm": {
     "name": "#%%\n"
    }
   }
  },
  {
   "cell_type": "code",
   "execution_count": null,
   "outputs": [],
   "source": [],
   "metadata": {
    "collapsed": false,
    "pycharm": {
     "name": "#%%\n"
    }
   }
  }
 ],
 "metadata": {
  "kernelspec": {
   "display_name": "Python 3",
   "language": "python",
   "name": "python3"
  },
  "language_info": {
   "codemirror_mode": {
    "name": "ipython",
    "version": 2
   },
   "file_extension": ".py",
   "mimetype": "text/x-python",
   "name": "python",
   "nbconvert_exporter": "python",
   "pygments_lexer": "ipython2",
   "version": "2.7.6"
  }
 },
 "nbformat": 4,
 "nbformat_minor": 0
}