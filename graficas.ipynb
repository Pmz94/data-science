{
 "cells": [
  {
   "cell_type": "markdown",
   "metadata": {
    "collapsed": true,
    "pycharm": {
     "name": "#%% md\n"
    }
   },
   "source": [
    "# Graficas"
   ]
  },
  {
   "cell_type": "code",
   "execution_count": 180,
   "metadata": {
    "collapsed": false,
    "pycharm": {
     "name": "#%%\n"
    }
   },
   "outputs": [],
   "source": [
    "# Importar los paquetes que necesitaremos\n",
    "import math\n",
    "import numpy as np\n",
    "import scipy.stats as st\n",
    "import pandas as pd\n",
    "import matplotlib.pyplot as plt\n",
    "import datetime\n",
    "import matplotlib.dates as mdates"
   ]
  },
  {
   "cell_type": "markdown",
   "source": [
    "### Histograma"
   ],
   "metadata": {
    "collapsed": false
   }
  },
  {
   "cell_type": "markdown",
   "source": [
    "Se obtienen las ventas de estados unidos de los discos de varios artistas"
   ],
   "metadata": {
    "collapsed": false,
    "pycharm": {
     "name": "#%% md\n"
    }
   }
  },
  {
   "cell_type": "code",
   "execution_count": 181,
   "outputs": [
    {
     "data": {
      "text/plain": "      artist                  album  year      sales\n59     N.W.A  100 Miles and Runnin'  1990  1000000.0\n92  Deftones             Adrenaline  1995   947000.0\n50    Eminem               Kamikaze  2018   493000.0\n88      Korn     The Paradigm Shift  2013        NaN\n94  Deftones             White Pony  2000  1238000.0",
      "text/html": "<div>\n<style scoped>\n    .dataframe tbody tr th:only-of-type {\n        vertical-align: middle;\n    }\n\n    .dataframe tbody tr th {\n        vertical-align: top;\n    }\n\n    .dataframe thead th {\n        text-align: right;\n    }\n</style>\n<table border=\"1\" class=\"dataframe\">\n  <thead>\n    <tr style=\"text-align: right;\">\n      <th></th>\n      <th>artist</th>\n      <th>album</th>\n      <th>year</th>\n      <th>sales</th>\n    </tr>\n  </thead>\n  <tbody>\n    <tr>\n      <th>59</th>\n      <td>N.W.A</td>\n      <td>100 Miles and Runnin'</td>\n      <td>1990</td>\n      <td>1000000.0</td>\n    </tr>\n    <tr>\n      <th>92</th>\n      <td>Deftones</td>\n      <td>Adrenaline</td>\n      <td>1995</td>\n      <td>947000.0</td>\n    </tr>\n    <tr>\n      <th>50</th>\n      <td>Eminem</td>\n      <td>Kamikaze</td>\n      <td>2018</td>\n      <td>493000.0</td>\n    </tr>\n    <tr>\n      <th>88</th>\n      <td>Korn</td>\n      <td>The Paradigm Shift</td>\n      <td>2013</td>\n      <td>NaN</td>\n    </tr>\n    <tr>\n      <th>94</th>\n      <td>Deftones</td>\n      <td>White Pony</td>\n      <td>2000</td>\n      <td>1238000.0</td>\n    </tr>\n  </tbody>\n</table>\n</div>"
     },
     "execution_count": 181,
     "metadata": {},
     "output_type": "execute_result"
    }
   ],
   "source": [
    "discos = pd.read_csv('./conjunto_datos/records_us_sales.csv')\n",
    "discos.sample(5)"
   ],
   "metadata": {
    "collapsed": false,
    "pycharm": {
     "name": "#%%\n"
    }
   }
  },
  {
   "cell_type": "code",
   "execution_count": 182,
   "outputs": [
    {
     "data": {
      "text/plain": "6"
     },
     "execution_count": 182,
     "metadata": {},
     "output_type": "execute_result"
    }
   ],
   "source": [
    "# cuantos discos del 2000 hay?\n",
    "len(discos[(discos['year'] == 2000)])"
   ],
   "metadata": {
    "collapsed": false,
    "pycharm": {
     "name": "#%%\n"
    }
   }
  },
  {
   "cell_type": "code",
   "execution_count": 183,
   "outputs": [
    {
     "data": {
      "text/plain": "    year  freq\n23  2011     3\n3   1991     3\n31  2019     1\n32  2020     5\n24  2012     2",
      "text/html": "<div>\n<style scoped>\n    .dataframe tbody tr th:only-of-type {\n        vertical-align: middle;\n    }\n\n    .dataframe tbody tr th {\n        vertical-align: top;\n    }\n\n    .dataframe thead th {\n        text-align: right;\n    }\n</style>\n<table border=\"1\" class=\"dataframe\">\n  <thead>\n    <tr style=\"text-align: right;\">\n      <th></th>\n      <th>year</th>\n      <th>freq</th>\n    </tr>\n  </thead>\n  <tbody>\n    <tr>\n      <th>23</th>\n      <td>2011</td>\n      <td>3</td>\n    </tr>\n    <tr>\n      <th>3</th>\n      <td>1991</td>\n      <td>3</td>\n    </tr>\n    <tr>\n      <th>31</th>\n      <td>2019</td>\n      <td>1</td>\n    </tr>\n    <tr>\n      <th>32</th>\n      <td>2020</td>\n      <td>5</td>\n    </tr>\n    <tr>\n      <th>24</th>\n      <td>2012</td>\n      <td>2</td>\n    </tr>\n  </tbody>\n</table>\n</div>"
     },
     "execution_count": 183,
     "metadata": {},
     "output_type": "execute_result"
    }
   ],
   "source": [
    "# agrupar años por frecuencias\n",
    "(discos.groupby(['year'])['year'].count().reset_index(name = 'freq')).sample(5)"
   ],
   "metadata": {
    "collapsed": false,
    "pycharm": {
     "name": "#%%\n"
    }
   }
  },
  {
   "cell_type": "code",
   "execution_count": 184,
   "outputs": [
    {
     "data": {
      "text/plain": "<Figure size 432x288 with 1 Axes>",
      "image/png": "[encoded data removed]"
     },
     "metadata": {
      "needs_background": "light"
     },
     "output_type": "display_data"
    }
   ],
   "source": [
    "d = min(np.diff(np.unique(discos['year'])))\n",
    "left_of_first_bin = discos['year'].min() - float(d) / 2\n",
    "right_of_last_bin = discos['year'].max() + float(d) / 2\n",
    "clases = np.arange(left_of_first_bin, right_of_last_bin + d, d)\n",
    "plt.hist(discos['year'], clases, rwidth = 0.85)\n",
    "plt.grid(axis = 'y', alpha = 0.4)\n",
    "plt.title('Histograma')\n",
    "plt.ylabel('Num discos')\n",
    "plt.show()"
   ],
   "metadata": {
    "collapsed": false,
    "pycharm": {
     "name": "#%%\n"
    }
   }
  },
  {
   "cell_type": "markdown",
   "metadata": {
    "collapsed": false
   },
   "source": [
    "### Graficas de series de tiempo"
   ]
  },
  {
   "cell_type": "markdown",
   "metadata": {},
   "source": [
    "Se obtiene la cantidad de peticiones exitosas que se le han hecho a un servidor agrupadas por mes a lo largo de 2021"
   ]
  },
  {
   "cell_type": "code",
   "execution_count": 185,
   "metadata": {
    "collapsed": false,
    "pycharm": {
     "name": "#%%\n"
    }
   },
   "outputs": [],
   "source": [
    "fecha_peticiones = [\n",
    "\t('02', 2145),\n",
    "\t('03', 11035),\n",
    "\t('04', 29990),\n",
    "\t('05', 17942),\n",
    "\t('06', 2813),\n",
    "\t('07', 904),\n",
    "\t('08', 37708),\n",
    "\t('09', 510038),\n",
    "\t('10', 253190),\n",
    "\t('11', 209877),\n",
    "\t('12', 52029)\n",
    "]"
   ]
  },
  {
   "cell_type": "code",
   "execution_count": 186,
   "metadata": {
    "collapsed": false,
    "pycharm": {
     "name": "#%%\n"
    }
   },
   "outputs": [
    {
     "data": {
      "text/plain": "<Figure size 432x288 with 1 Axes>",
      "image/png": "[encoded data removed]"
     },
     "metadata": {
      "needs_background": "light"
     },
     "output_type": "display_data"
    }
   ],
   "source": [
    "# hay que separar las variables para ambos ejes en listas separadas\n",
    "fecha = [datetime.datetime.strptime(i[0], '%m') for i in fecha_peticiones]\n",
    "peticiones = [i[1] for i in fecha_peticiones]\n",
    "# grafica_serie_tiempo(fecha, peticiones, titulo = 'Uso de una app movil', etiquetay = 'Peticiones al server')\n",
    "\n",
    "# Set the locator\n",
    "locator = mdates.MonthLocator()  # cada mes\n",
    "# especificar el formato - %b gives us Jan, Feb...\n",
    "fmt = mdates.DateFormatter('%b')\n",
    "\n",
    "plt.plot(fecha, peticiones, 'o-')\n",
    "X = plt.gca().xaxis\n",
    "X.set_major_locator(locator)\n",
    "# Specify formatter\n",
    "X.set_major_formatter(fmt)\n",
    "plt.title('Uso de una app')\n",
    "plt.ylabel('Cant. peticiones al server')\n",
    "plt.show()\n",
    "del fecha, peticiones"
   ]
  },
  {
   "cell_type": "markdown",
   "source": [
    "### Graficas de probabilidad"
   ],
   "metadata": {
    "collapsed": false
   }
  },
  {
   "cell_type": "markdown",
   "metadata": {},
   "source": [
    "Se anota el tiempo en minutos que duraron 10 baterias en una laptop:"
   ]
  },
  {
   "cell_type": "code",
   "execution_count": 187,
   "metadata": {
    "collapsed": false,
    "pycharm": {
     "name": "#%%\n"
    }
   },
   "outputs": [],
   "source": [
    "duracion_baterias = [176, 191, 214, 220, 205, 192, 201, 190, 183, 185]"
   ]
  },
  {
   "cell_type": "markdown",
   "metadata": {},
   "source": [
    "Probemos si esas duraciones se ajustan a una distribucion normal."
   ]
  },
  {
   "cell_type": "code",
   "execution_count": 188,
   "metadata": {},
   "outputs": [
    {
     "data": {
      "text/plain": "     xj    fa  100fa        zj\nj                             \n1   176  0.05    5.0 -1.644854\n2   183  0.15   15.0 -1.036433\n3   185  0.25   25.0 -0.674490\n4   190  0.35   35.0 -0.385320\n5   191  0.45   45.0 -0.125661\n6   192  0.55   55.0  0.125661\n7   201  0.65   65.0  0.385320\n8   205  0.75   75.0  0.674490\n9   214  0.85   85.0  1.036433\n10  220  0.95   95.0  1.644854",
      "text/html": "<div>\n<style scoped>\n    .dataframe tbody tr th:only-of-type {\n        vertical-align: middle;\n    }\n\n    .dataframe tbody tr th {\n        vertical-align: top;\n    }\n\n    .dataframe thead th {\n        text-align: right;\n    }\n</style>\n<table border=\"1\" class=\"dataframe\">\n  <thead>\n    <tr style=\"text-align: right;\">\n      <th></th>\n      <th>xj</th>\n      <th>fa</th>\n      <th>100fa</th>\n      <th>zj</th>\n    </tr>\n    <tr>\n      <th>j</th>\n      <th></th>\n      <th></th>\n      <th></th>\n      <th></th>\n    </tr>\n  </thead>\n  <tbody>\n    <tr>\n      <th>1</th>\n      <td>176</td>\n      <td>0.05</td>\n      <td>5.0</td>\n      <td>-1.644854</td>\n    </tr>\n    <tr>\n      <th>2</th>\n      <td>183</td>\n      <td>0.15</td>\n      <td>15.0</td>\n      <td>-1.036433</td>\n    </tr>\n    <tr>\n      <th>3</th>\n      <td>185</td>\n      <td>0.25</td>\n      <td>25.0</td>\n      <td>-0.674490</td>\n    </tr>\n    <tr>\n      <th>4</th>\n      <td>190</td>\n      <td>0.35</td>\n      <td>35.0</td>\n      <td>-0.385320</td>\n    </tr>\n    <tr>\n      <th>5</th>\n      <td>191</td>\n      <td>0.45</td>\n      <td>45.0</td>\n      <td>-0.125661</td>\n    </tr>\n    <tr>\n      <th>6</th>\n      <td>192</td>\n      <td>0.55</td>\n      <td>55.0</td>\n      <td>0.125661</td>\n    </tr>\n    <tr>\n      <th>7</th>\n      <td>201</td>\n      <td>0.65</td>\n      <td>65.0</td>\n      <td>0.385320</td>\n    </tr>\n    <tr>\n      <th>8</th>\n      <td>205</td>\n      <td>0.75</td>\n      <td>75.0</td>\n      <td>0.674490</td>\n    </tr>\n    <tr>\n      <th>9</th>\n      <td>214</td>\n      <td>0.85</td>\n      <td>85.0</td>\n      <td>1.036433</td>\n    </tr>\n    <tr>\n      <th>10</th>\n      <td>220</td>\n      <td>0.95</td>\n      <td>95.0</td>\n      <td>1.644854</td>\n    </tr>\n  </tbody>\n</table>\n</div>"
     },
     "execution_count": 188,
     "metadata": {},
     "output_type": "execute_result"
    }
   ],
   "source": [
    "n = len(duracion_baterias)\n",
    "\n",
    "d = {'j': [], 'xj': [], 'fa': [], '100fa': [], 'zj': []}\n",
    "for j, xj in enumerate(sorted(duracion_baterias)):\n",
    "\tfa = ((j + 1) - 0.5) / n\n",
    "\tcien_fa = 100 * fa\n",
    "\tzj = st.norm.ppf(fa)\n",
    "\td['j'].append(j + 1)\n",
    "\td['xj'].append(xj)\n",
    "\td['fa'].append(fa)\n",
    "\td['100fa'].append(cien_fa)\n",
    "\td['zj'].append(zj)\n",
    "tabla = pd.DataFrame(d).set_index('j')\n",
    "tabla"
   ]
  },
  {
   "cell_type": "code",
   "execution_count": 189,
   "outputs": [
    {
     "data": {
      "text/plain": "<Figure size 432x288 with 1 Axes>",
      "image/png": "[encoded data removed]"
     },
     "metadata": {
      "needs_background": "light"
     },
     "output_type": "display_data"
    }
   ],
   "source": [
    "x = tabla['xj']\n",
    "y = tabla['100fa']\n",
    "plt.scatter(x, y)\n",
    "\n",
    "z = np.polyfit(x, y, 1)\n",
    "p = np.poly1d(z)\n",
    "plt.plot(x, p(x), 'r-')\n",
    "\n",
    "plt.title('Grafica de probabilidad')\n",
    "plt.xlabel('xj')\n",
    "plt.ylabel('100(j - 0.5) / n')\n",
    "plt.xlim(170, 225)\n",
    "plt.ylim(0, 100)\n",
    "plt.show()"
   ],
   "metadata": {
    "collapsed": false,
    "pycharm": {
     "name": "#%%\n"
    }
   }
  },
  {
   "cell_type": "code",
   "execution_count": 190,
   "outputs": [
    {
     "data": {
      "text/plain": "<Figure size 432x288 with 1 Axes>",
      "image/png": "[encoded data removed]"
     },
     "metadata": {
      "needs_background": "light"
     },
     "output_type": "display_data"
    }
   ],
   "source": [
    "x = tabla['xj']\n",
    "y = tabla['zj']\n",
    "plt.scatter(x, y)\n",
    "\n",
    "z = np.polyfit(x, y, 1)\n",
    "p = np.poly1d(z)\n",
    "plt.plot(x, p(x), 'r-')\n",
    "\n",
    "plt.title('Grafica de probabilidad')\n",
    "plt.xlabel('xj')\n",
    "plt.ylabel('zj')\n",
    "plt.xlim(170, 225)\n",
    "plt.ylim(-2, 2)\n",
    "plt.show()"
   ],
   "metadata": {
    "collapsed": false,
    "pycharm": {
     "name": "#%%\n"
    }
   }
  },
  {
   "cell_type": "code",
   "execution_count": 190,
   "outputs": [],
   "source": [],
   "metadata": {
    "collapsed": false,
    "pycharm": {
     "name": "#%%\n"
    }
   }
  }
 ],
 "metadata": {
  "kernelspec": {
   "display_name": "Python 3",
   "language": "python",
   "name": "python3"
  },
  "language_info": {
   "codemirror_mode": {
    "name": "ipython",
    "version": 3
   },
   "file_extension": ".py",
   "mimetype": "text/x-python",
   "name": "python",
   "nbconvert_exporter": "python",
   "pygments_lexer": "ipython3",
   "version": "3.9.10"
  }
 },
 "nbformat": 4,
 "nbformat_minor": 0
}