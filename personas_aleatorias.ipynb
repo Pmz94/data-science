{
 "cells": [
  {
   "cell_type": "markdown",
   "metadata": {},
   "source": [
    "# Generador de personas aleatorias"
   ]
  },
  {
   "cell_type": "code",
   "execution_count": 1,
   "metadata": {},
   "outputs": [],
   "source": [
    "import random as rm\n",
    "import numpy as np\n",
    "import pandas as pd\n",
    "from faker import Faker\n",
    "import datetime as dt\n",
    "import unicodedata\n",
    "from geopy.geocoders import Nominatim\n",
    "from timezonefinder import TimezoneFinder"
   ]
  },
  {
   "cell_type": "code",
   "execution_count": 136,
   "metadata": {},
   "outputs": [],
   "source": [
    "reap = pd.read_csv('./conjunto_datos/relacion_edad_altura_peso.csv')\n",
    "nombres = pd.read_csv('./catalogos/nombres.csv')\n",
    "profesiones = pd.read_csv('./catalogos/profesiones.csv')\n",
    "ciudades = pd.read_csv('./catalogos/ciudades.csv', encoding = 'UTF-16')\n",
    "\n",
    "def quitar_acentos(s):\n",
    "\treturn ''.join(c for c in unicodedata.normalize('NFD', s) if unicodedata.category(c) != 'Mn')\n",
    "\n",
    "def generate_random_data(lat, lon, num_rows = 5):\n",
    "\tdata = []\n",
    "\tfor _ in range(num_rows):\n",
    "\t\thex1 = '%012x' % rm.randrange(16 ** 12)\n",
    "\t\tflt = float(rm.randint(0, 100))\n",
    "\t\tdec_lat = rm.random() / 100\n",
    "\t\tdec_lon = rm.random() / 100\n",
    "\t\tdata.append((hex1.lower(), flt, lon + dec_lon, lat + dec_lat))\n",
    "\treturn data\n",
    "\n",
    "def save_random_data(lat, lon, num_rows = 5, file_name = './conjunto_datos/random_lat_lon.prueba.csv'):\n",
    "\twith open(file_name, 'w') as output:\n",
    "\t\tfor _ in range(num_rows):\n",
    "\t\t\thex1 = '%012x' % rm.randrange(16 ** 12)\n",
    "\t\t\tflt = float(rm.randint(0, 100))\n",
    "\t\t\tdec_lat = rm.random() / 100\n",
    "\t\t\tdec_lon = rm.random() / 100\n",
    "\t\t\toutput.write('%s,%.1f,%.6f,%.6f\\n' % (hex1.lower(), flt, lon + dec_lon, lat + dec_lat))"
   ]
  },
  {
   "cell_type": "code",
   "execution_count": 131,
   "outputs": [
    {
     "data": {
      "text/plain": "  titulo        nombre apellido_paterno apellido_materno   fecha_nac sexo  \\\n0   None        Homero          Esparza           Orozco  1926-08-04    H   \n1   Dra.         Rocío          Luevano            Meraz  1929-02-28    M   \n2   Dra.  María Teresa           Vargas      Villalpando  1998-04-13    M   \n3   Sra.        Judith         Palomino             Alva  1942-12-28    M   \n4  Mtro.       Esteban          Negrete        Solorzano  1992-10-07    H   \n\n  tipo_sangre  altura   peso                     correo           tel  \\\n0          A+  182.73  94.17           heo26@example.io  (746)4215975   \n1          O-  170.34  47.24  rocio_luevano@example.com  (443)7237516   \n2          O+  164.64  64.78        mvargas@example.com  (314)2768842   \n3          A+  173.04  69.43           jpa42@example.io  (323)9098180   \n4          A+  179.86  82.88       enegrete@example.net  (712)2477163   \n\n                   ciudad            estado        lat         lon  \\\n0            Metlaltoyuca            Puebla  20.735556  -97.851944   \n1                 Morelia         Michoacan  19.702712 -101.192382   \n2  Camotlán de Miraflores            Colima  19.220190 -104.234996   \n3      Santiago Ixcuintla           Nayarit  21.959108 -105.551989   \n4              Jiquipilco  Estado de Mexico  19.591632  -99.631174   \n\n          zona_horaria                              profesion color_fav  \n0  America/Mexico_City  Oficial de conservación de naturaleza      lime  \n1  America/Mexico_City                                Librero    purple  \n2  America/Mexico_City                            Horticultor    purple  \n3     America/Mazatlan                   Tesorero corporativo      gray  \n4  America/Mexico_City                   Científico biomédico     white  ",
      "text/html": "<div>\n<style scoped>\n    .dataframe tbody tr th:only-of-type {\n        vertical-align: middle;\n    }\n\n    .dataframe tbody tr th {\n        vertical-align: top;\n    }\n\n    .dataframe thead th {\n        text-align: right;\n    }\n</style>\n<table border=\"1\" class=\"dataframe\">\n  <thead>\n    <tr style=\"text-align: right;\">\n      <th></th>\n      <th>titulo</th>\n      <th>nombre</th>\n      <th>apellido_paterno</th>\n      <th>apellido_materno</th>\n      <th>fecha_nac</th>\n      <th>sexo</th>\n      <th>tipo_sangre</th>\n      <th>altura</th>\n      <th>peso</th>\n      <th>correo</th>\n      <th>tel</th>\n      <th>ciudad</th>\n      <th>estado</th>\n      <th>lat</th>\n      <th>lon</th>\n      <th>zona_horaria</th>\n      <th>profesion</th>\n      <th>color_fav</th>\n    </tr>\n  </thead>\n  <tbody>\n    <tr>\n      <th>0</th>\n      <td>None</td>\n      <td>Homero</td>\n      <td>Esparza</td>\n      <td>Orozco</td>\n      <td>1926-08-04</td>\n      <td>H</td>\n      <td>A+</td>\n      <td>182.73</td>\n      <td>94.17</td>\n      <td>heo26@example.io</td>\n      <td>(746)4215975</td>\n      <td>Metlaltoyuca</td>\n      <td>Puebla</td>\n      <td>20.735556</td>\n      <td>-97.851944</td>\n      <td>America/Mexico_City</td>\n      <td>Oficial de conservación de naturaleza</td>\n      <td>lime</td>\n    </tr>\n    <tr>\n      <th>1</th>\n      <td>Dra.</td>\n      <td>Rocío</td>\n      <td>Luevano</td>\n      <td>Meraz</td>\n      <td>1929-02-28</td>\n      <td>M</td>\n      <td>O-</td>\n      <td>170.34</td>\n      <td>47.24</td>\n      <td>rocio_luevano@example.com</td>\n      <td>(443)7237516</td>\n      <td>Morelia</td>\n      <td>Michoacan</td>\n      <td>19.702712</td>\n      <td>-101.192382</td>\n      <td>America/Mexico_City</td>\n      <td>Librero</td>\n      <td>purple</td>\n    </tr>\n    <tr>\n      <th>2</th>\n      <td>Dra.</td>\n      <td>María Teresa</td>\n      <td>Vargas</td>\n      <td>Villalpando</td>\n      <td>1998-04-13</td>\n      <td>M</td>\n      <td>O+</td>\n      <td>164.64</td>\n      <td>64.78</td>\n      <td>mvargas@example.com</td>\n      <td>(314)2768842</td>\n      <td>Camotlán de Miraflores</td>\n      <td>Colima</td>\n      <td>19.220190</td>\n      <td>-104.234996</td>\n      <td>America/Mexico_City</td>\n      <td>Horticultor</td>\n      <td>purple</td>\n    </tr>\n    <tr>\n      <th>3</th>\n      <td>Sra.</td>\n      <td>Judith</td>\n      <td>Palomino</td>\n      <td>Alva</td>\n      <td>1942-12-28</td>\n      <td>M</td>\n      <td>A+</td>\n      <td>173.04</td>\n      <td>69.43</td>\n      <td>jpa42@example.io</td>\n      <td>(323)9098180</td>\n      <td>Santiago Ixcuintla</td>\n      <td>Nayarit</td>\n      <td>21.959108</td>\n      <td>-105.551989</td>\n      <td>America/Mazatlan</td>\n      <td>Tesorero corporativo</td>\n      <td>gray</td>\n    </tr>\n    <tr>\n      <th>4</th>\n      <td>Mtro.</td>\n      <td>Esteban</td>\n      <td>Negrete</td>\n      <td>Solorzano</td>\n      <td>1992-10-07</td>\n      <td>H</td>\n      <td>A+</td>\n      <td>179.86</td>\n      <td>82.88</td>\n      <td>enegrete@example.net</td>\n      <td>(712)2477163</td>\n      <td>Jiquipilco</td>\n      <td>Estado de Mexico</td>\n      <td>19.591632</td>\n      <td>-99.631174</td>\n      <td>America/Mexico_City</td>\n      <td>Científico biomédico</td>\n      <td>white</td>\n    </tr>\n  </tbody>\n</table>\n</div>"
     },
     "execution_count": 131,
     "metadata": {},
     "output_type": "execute_result"
    }
   ],
   "source": [
    "fake = Faker(['es_MX'])\n",
    "personas = []\n",
    "for _ in range(5):\n",
    "\tsexo = rm.choice(['H', 'M'])\n",
    "\t# generar tipo de sangre y asignar probabilidad a cada valor para que salga\n",
    "\ttipo_sangre = rm.choices(['A+', 'A-', 'B+', 'B-', 'AB+', 'AB-', 'O+', 'O-'], weights = [30, 6, 9, 2, 4, 1, 39, 9])\n",
    "\ttipo_sangre = tipo_sangre[0]\n",
    "\n",
    "\tfecha_nac = fake.date_of_birth(minimum_age = int(reap['edad'].min()))\n",
    "\t# calcular edad en base a la fecha de nacimiento\n",
    "\tdia_actual = dt.date.today()\n",
    "\tedad = dia_actual.year - fecha_nac.year - ((dia_actual.month, dia_actual.day) < (fecha_nac.month, fecha_nac.day))\n",
    "\n",
    "\t# dependiendo de la edad se busca el margen de alturas y pesos que tenga esa edad\n",
    "\t# si es mayor que la edad maxima que este registrada se le da el margen de esa edad maxima\n",
    "\t# mucha gente deja de crecer a los 20\n",
    "\tmargen_ap = reap[(reap['edad'] == edad) if edad <= reap['edad'].max() else (reap['edad'] == reap['edad'].max())].reset_index()\n",
    "\n",
    "\t# dependiendo del sexo se generan nombres femeninos o masculinos\n",
    "\t# y estaturas y pesos dentro de su margen correspondiente\n",
    "\tif sexo == 'H':\n",
    "\t\ttitulo = rm.choice(['Sr.', 'Dr.', 'Mtro.', 'Lic.', 'Ing.']) if edad >= 18 and rm.randint(0, 1) else None\n",
    "\t\tnombre = rm.choice(nombres['h'])\n",
    "\t\taltura = round(rm.uniform(margen_ap['lim_inf.altura.h.cm'][0], margen_ap['lim_sup.altura.h.cm'][0]), 2)\n",
    "\t\tpeso = round(rm.uniform(margen_ap['lim_inf.peso.h.kg'][0], margen_ap['lim_sup.peso.h.kg'][0]), 2)\n",
    "\telse:\n",
    "\t\ttitulo = rm.choice(['Sra.', 'Dra.', 'Mtra.', 'Lic.', 'Ing.']) if edad >= 18 and rm.randint(0, 1) else None\n",
    "\t\tnombre = rm.choice(nombres['m'])\n",
    "\t\taltura = round(rm.uniform(margen_ap['lim_inf.altura.m.cm'][0], margen_ap['lim_sup.altura.m.cm'][0]), 2)\n",
    "\t\tpeso = round(rm.uniform(margen_ap['lim_inf.peso.m.kg'][0], margen_ap['lim_sup.peso.m.kg'][0]), 2)\n",
    "\n",
    "\tapellido_paterno = fake.last_name()\n",
    "\tapellido_materno = fake.last_name()\n",
    "\n",
    "\t# Generar un nombre de usuario para un email\n",
    "\tswitcher = {\n",
    "\t\t1: fake.user_name(),\n",
    "\t\t# aperez\n",
    "\t\t2: f'{nombre[0]}{apellido_paterno}',\n",
    "\t\t# alonso_perez\n",
    "\t\t3: f'{nombre}_{apellido_paterno}',\n",
    "\t\t# aps70\n",
    "\t\t4: f'{nombre[0]}{apellido_paterno[0]}{apellido_materno[0]}{fecha_nac.strftime(\"%y\")}',\n",
    "\t\t# aps1970\n",
    "\t\t5: f'{nombre[0]}{apellido_paterno[0]}{apellido_materno[0]}{fecha_nac.year}',\n",
    "\t\t# alonsoperezsoltero\n",
    "\t\t6: f'{nombre}{apellido_paterno}{apellido_materno}'\n",
    "\t}\n",
    "\trand_int = rm.randint(min(list(switcher.keys())), max(list(switcher.keys())))\n",
    "\tusuario = switcher.get(rand_int, 'usuario')\n",
    "\t# quitar espacios o reemplazarlos por un _\n",
    "\tusuario = usuario.replace(' ', rm.choice(['', '_'])).lower()\n",
    "\tusuario = quitar_acentos(usuario)\n",
    "\n",
    "\tsubdominio = rm.choice(['.com', '.net', '.io', '.gob', '.org', '.edu'])\n",
    "\tcorreo = usuario + f'@example{subdominio}'\n",
    "\n",
    "\tid_estado = rm.choice(ciudades['id_estado'].unique())\n",
    "\tct_ciudad = ciudades[ciudades['id_estado'] == id_estado].sample()\n",
    "\n",
    "\tciudad = ct_ciudad['ciudad'].values[0]\n",
    "\testado = ct_ciudad['estado'].values[0]\n",
    "\ttel = f'({ct_ciudad[\"clave_lada\"].values[0]})' + str(rm.randint(1000000, 9999999))\n",
    "\n",
    "\tdireccion = fake.street_address()\n",
    "\n",
    "\tdirecc_calle = fake.street_name()\n",
    "\tdirecc_numero = fake.building_number()\n",
    "\tdirecc_cp = fake.postcode()\n",
    "\n",
    "\tprofesion = profesiones.sample().values[0][0] if edad >= 18 else None\n",
    "\n",
    "\t# si el catalogo ya tiene coordenadas puestas, tomar esos valores\n",
    "\tif pd.notna(ct_ciudad['latitud'].values[0]) and pd.notna(ct_ciudad['longitud'].values[0]) and pd.notna(ct_ciudad['zona_horaria'].values[0]):\n",
    "\t\tlat = ct_ciudad['latitud'].values[0]\n",
    "\t\tlon = ct_ciudad['longitud'].values[0]\n",
    "\t\ttimezone = ct_ciudad['zona_horaria'].values[0]\n",
    "\telse:\n",
    "\t\ttry:\n",
    "\t\t\t# obtener latitud y longitud segun la ciudad\n",
    "\t\t\tgeolocator = Nominatim(user_agent = 'geoapiExercises')\n",
    "\t\t\tlocation = geolocator.geocode(f'{ciudad}, {estado}, Mexico', language = 'es-MX')\n",
    "\t\t\tif location:\n",
    "\t\t\t\tlat = location.latitude\n",
    "\t\t\t\tlon = location.longitude\n",
    "\t\t\t\t# obtener zona horaria segun latitud y longitud\n",
    "\t\t\t\tobj = TimezoneFinder()\n",
    "\t\t\t\ttimezone = obj.timezone_at(lat = lat, lng = lon)\n",
    "\n",
    "\t\t\t\t# for _ in range(5):\n",
    "\t\t\t\t# \tdec_lat = rm.random() / 100\n",
    "\t\t\t\t# \tdec_lon = rm.random() / 100\n",
    "\t\t\t\t# \tdirr = geolocator.reverse((lat + dec_lat, lon + dec_lon), language = 'es', addressdetails = True)\n",
    "\t\t\t\t# \tprint(dirr)\n",
    "\n",
    "\t\t\t\t# guardar coordenadas en el catalogo\n",
    "\t\t\t\t# para que a la otra no haya que usar geocode\n",
    "\t\t\t\tct_ciudad_index_row = ct_ciudad.index.values[0]\n",
    "\t\t\t\tciudades.loc[ct_ciudad_index_row, 'latitud'] = lat\n",
    "\t\t\t\tciudades.loc[ct_ciudad_index_row, 'longitud'] = lon\n",
    "\t\t\t\tciudades.loc[ct_ciudad_index_row, 'zona_horaria'] = timezone\n",
    "\t\t\t\tciudades.to_csv('./catalogos/ciudades.prueba.csv', index = False)\n",
    "\t\t\telse:\n",
    "\t\t\t\traise BaseException(f'(idx {_}) No se encontro latitud ni longitud de {ciudad}, {estado}')\n",
    "\t\texcept BaseException as be:\n",
    "\t\t\tprint('\\033[32mException:\\033[0m')\n",
    "\t\t\tprint(be)\n",
    "\t\t\tlat = lon = np.NaN\n",
    "\t\t\ttimezone = None\n",
    "\n",
    "\tpersonas.append({\n",
    "\t\t'titulo': titulo,\n",
    "\t\t'nombre': nombre,\n",
    "\t\t'apellido_paterno': apellido_paterno,\n",
    "\t\t'apellido_materno': apellido_materno,\n",
    "\t\t'fecha_nac': fecha_nac.strftime('%Y-%m-%d'),\n",
    "\t\t'sexo': sexo,\n",
    "\t\t'tipo_sangre': tipo_sangre,\n",
    "\t\t'altura': altura,\n",
    "\t\t'peso': peso,\n",
    "\t\t'correo': correo,\n",
    "\t\t'tel': tel,\n",
    "\t\t# 'calle': '',\n",
    "\t\t# 'numero': '',\n",
    "\t\t# 'cp': '',\n",
    "\t\t'ciudad': ciudad,\n",
    "\t\t'estado': estado,\n",
    "\t\t'lat': lat,\n",
    "\t\t'lon': lon,\n",
    "\t\t'zona_horaria': timezone,\n",
    "\t\t'profesion': profesion,\n",
    "\t\t'color_fav': fake.safe_color_name(),\n",
    "\t})\n",
    "pd.DataFrame(personas)"
   ],
   "metadata": {
    "collapsed": false,
    "pycharm": {
     "name": "#%%\n"
    }
   }
  },
  {
   "cell_type": "code",
   "execution_count": 117,
   "metadata": {},
   "outputs": [
    {
     "data": {
      "text/plain": "    gender    name.title name.first name.last  location.street.number  \\\n62    male            Mr    Nicklas  Johansen                    1217   \n60  female          Miss      Embla   Skjæret                    1537   \n25    male            Mr        Eli     Singh                    1882   \n85  female           Mrs      Freja    Madsen                    2714   \n80    male            Mr        Jar    Kelley                    7197   \n48    male            Mr     Xavier     Jones                    7120   \n26  female  Mademoiselle        Mia     Leroy                    2148   \n36    male            Mr     Mehmet   Ayaydın                    8779   \n\n   location.street.name          location.city location.state  \\\n62     Frederiksborgvej               Nørrebro     Syddanmark   \n60            Eikeveien               Levanger       Buskerud   \n25       Gladstone Road              Greymouth        Waikato   \n85            Strandvej             Randers Nv     Syddanmark   \n80        Brown Terrace                Killeen         Alaska   \n48              Pine Rd             Georgetown   Saskatchewan   \n26          Rue Baraban  Oulens-Sous-Echallens        Thurgau   \n36           Atatürk Sk              Kastamonu          Muğla   \n\n   location.country location.postcode  location.coordinates.latitude  \\\n62          Denmark             27372                        33.3072   \n60           Norway              4642                        22.6395   \n25      New Zealand             79550                        77.6386   \n85          Denmark             26549                       -20.2449   \n80    United States             41584                        -0.2664   \n48           Canada           Q1O 7V7                        66.1318   \n26      Switzerland              3884                        42.3597   \n36           Turkey             62397                        10.4526   \n\n    location.coordinates.longitude location.timezone.offset  \\\n62                        157.7187                    +4:30   \n60                        116.0633                    -1:00   \n25                        151.6528                    -5:00   \n85                       -171.2555                    +9:00   \n80                        -67.0959                     0:00   \n48                         40.9410                    +6:00   \n26                        177.8986                    +6:00   \n36                        -56.7678                    -7:00   \n\n                      location.timezone.description  \\\n62                                            Kabul   \n60                       Azores, Cape Verde Islands   \n25         Eastern Time (US & Canada), Bogota, Lima   \n85            Tokyo, Seoul, Osaka, Sapporo, Yakutsk   \n80  Western Europe Time, London, Lisbon, Casablanca   \n48                           Almaty, Dhaka, Colombo   \n26                           Almaty, Dhaka, Colombo   \n36                      Mountain Time (US & Canada)   \n\n                           email                  dob.date  dob.age  \\\n62  nicklas.johansen@example.com  1965-09-14T23:16:38.308Z       57   \n60    embla.skjaeret@example.com  1973-10-08T09:58:07.762Z       49   \n25         eli.singh@example.com  1971-04-15T11:37:58.102Z       51   \n85      freja.madsen@example.com  1966-09-29T02:28:48.384Z       56   \n80        jar.kelley@example.com  1968-03-22T05:11:36.035Z       54   \n48      xavier.jones@example.com  1996-02-11T08:13:20.101Z       26   \n26         mia.leroy@example.com  1996-08-03T22:44:45.110Z       26   \n36    mehmet.ayaydin@example.com  1945-07-30T13:17:07.251Z       77   \n\n             phone            cell  \n62        77401924        91068794  \n60        68550908        45269636  \n25  (547)-178-5107  (026)-115-1175  \n85        27780652        28807534  \n80  (775)-963-0793  (294)-398-8814  \n48    664-304-9491    520-836-3330  \n26   076 331 29 17   078 480 88 17  \n36  (653)-673-2668  (491)-149-0570  ",
      "text/html": "<div>\n<style scoped>\n    .dataframe tbody tr th:only-of-type {\n        vertical-align: middle;\n    }\n\n    .dataframe tbody tr th {\n        vertical-align: top;\n    }\n\n    .dataframe thead th {\n        text-align: right;\n    }\n</style>\n<table border=\"1\" class=\"dataframe\">\n  <thead>\n    <tr style=\"text-align: right;\">\n      <th></th>\n      <th>gender</th>\n      <th>name.title</th>\n      <th>name.first</th>\n      <th>name.last</th>\n      <th>location.street.number</th>\n      <th>location.street.name</th>\n      <th>location.city</th>\n      <th>location.state</th>\n      <th>location.country</th>\n      <th>location.postcode</th>\n      <th>location.coordinates.latitude</th>\n      <th>location.coordinates.longitude</th>\n      <th>location.timezone.offset</th>\n      <th>location.timezone.description</th>\n      <th>email</th>\n      <th>dob.date</th>\n      <th>dob.age</th>\n      <th>phone</th>\n      <th>cell</th>\n    </tr>\n  </thead>\n  <tbody>\n    <tr>\n      <th>62</th>\n      <td>male</td>\n      <td>Mr</td>\n      <td>Nicklas</td>\n      <td>Johansen</td>\n      <td>1217</td>\n      <td>Frederiksborgvej</td>\n      <td>Nørrebro</td>\n      <td>Syddanmark</td>\n      <td>Denmark</td>\n      <td>27372</td>\n      <td>33.3072</td>\n      <td>157.7187</td>\n      <td>+4:30</td>\n      <td>Kabul</td>\n      <td>nicklas.johansen@example.com</td>\n      <td>1965-09-14T23:16:38.308Z</td>\n      <td>57</td>\n      <td>77401924</td>\n      <td>91068794</td>\n    </tr>\n    <tr>\n      <th>60</th>\n      <td>female</td>\n      <td>Miss</td>\n      <td>Embla</td>\n      <td>Skjæret</td>\n      <td>1537</td>\n      <td>Eikeveien</td>\n      <td>Levanger</td>\n      <td>Buskerud</td>\n      <td>Norway</td>\n      <td>4642</td>\n      <td>22.6395</td>\n      <td>116.0633</td>\n      <td>-1:00</td>\n      <td>Azores, Cape Verde Islands</td>\n      <td>embla.skjaeret@example.com</td>\n      <td>1973-10-08T09:58:07.762Z</td>\n      <td>49</td>\n      <td>68550908</td>\n      <td>45269636</td>\n    </tr>\n    <tr>\n      <th>25</th>\n      <td>male</td>\n      <td>Mr</td>\n      <td>Eli</td>\n      <td>Singh</td>\n      <td>1882</td>\n      <td>Gladstone Road</td>\n      <td>Greymouth</td>\n      <td>Waikato</td>\n      <td>New Zealand</td>\n      <td>79550</td>\n      <td>77.6386</td>\n      <td>151.6528</td>\n      <td>-5:00</td>\n      <td>Eastern Time (US &amp; Canada), Bogota, Lima</td>\n      <td>eli.singh@example.com</td>\n      <td>1971-04-15T11:37:58.102Z</td>\n      <td>51</td>\n      <td>(547)-178-5107</td>\n      <td>(026)-115-1175</td>\n    </tr>\n    <tr>\n      <th>85</th>\n      <td>female</td>\n      <td>Mrs</td>\n      <td>Freja</td>\n      <td>Madsen</td>\n      <td>2714</td>\n      <td>Strandvej</td>\n      <td>Randers Nv</td>\n      <td>Syddanmark</td>\n      <td>Denmark</td>\n      <td>26549</td>\n      <td>-20.2449</td>\n      <td>-171.2555</td>\n      <td>+9:00</td>\n      <td>Tokyo, Seoul, Osaka, Sapporo, Yakutsk</td>\n      <td>freja.madsen@example.com</td>\n      <td>1966-09-29T02:28:48.384Z</td>\n      <td>56</td>\n      <td>27780652</td>\n      <td>28807534</td>\n    </tr>\n    <tr>\n      <th>80</th>\n      <td>male</td>\n      <td>Mr</td>\n      <td>Jar</td>\n      <td>Kelley</td>\n      <td>7197</td>\n      <td>Brown Terrace</td>\n      <td>Killeen</td>\n      <td>Alaska</td>\n      <td>United States</td>\n      <td>41584</td>\n      <td>-0.2664</td>\n      <td>-67.0959</td>\n      <td>0:00</td>\n      <td>Western Europe Time, London, Lisbon, Casablanca</td>\n      <td>jar.kelley@example.com</td>\n      <td>1968-03-22T05:11:36.035Z</td>\n      <td>54</td>\n      <td>(775)-963-0793</td>\n      <td>(294)-398-8814</td>\n    </tr>\n    <tr>\n      <th>48</th>\n      <td>male</td>\n      <td>Mr</td>\n      <td>Xavier</td>\n      <td>Jones</td>\n      <td>7120</td>\n      <td>Pine Rd</td>\n      <td>Georgetown</td>\n      <td>Saskatchewan</td>\n      <td>Canada</td>\n      <td>Q1O 7V7</td>\n      <td>66.1318</td>\n      <td>40.9410</td>\n      <td>+6:00</td>\n      <td>Almaty, Dhaka, Colombo</td>\n      <td>xavier.jones@example.com</td>\n      <td>1996-02-11T08:13:20.101Z</td>\n      <td>26</td>\n      <td>664-304-9491</td>\n      <td>520-836-3330</td>\n    </tr>\n    <tr>\n      <th>26</th>\n      <td>female</td>\n      <td>Mademoiselle</td>\n      <td>Mia</td>\n      <td>Leroy</td>\n      <td>2148</td>\n      <td>Rue Baraban</td>\n      <td>Oulens-Sous-Echallens</td>\n      <td>Thurgau</td>\n      <td>Switzerland</td>\n      <td>3884</td>\n      <td>42.3597</td>\n      <td>177.8986</td>\n      <td>+6:00</td>\n      <td>Almaty, Dhaka, Colombo</td>\n      <td>mia.leroy@example.com</td>\n      <td>1996-08-03T22:44:45.110Z</td>\n      <td>26</td>\n      <td>076 331 29 17</td>\n      <td>078 480 88 17</td>\n    </tr>\n    <tr>\n      <th>36</th>\n      <td>male</td>\n      <td>Mr</td>\n      <td>Mehmet</td>\n      <td>Ayaydın</td>\n      <td>8779</td>\n      <td>Atatürk Sk</td>\n      <td>Kastamonu</td>\n      <td>Muğla</td>\n      <td>Turkey</td>\n      <td>62397</td>\n      <td>10.4526</td>\n      <td>-56.7678</td>\n      <td>-7:00</td>\n      <td>Mountain Time (US &amp; Canada)</td>\n      <td>mehmet.ayaydin@example.com</td>\n      <td>1945-07-30T13:17:07.251Z</td>\n      <td>77</td>\n      <td>(653)-673-2668</td>\n      <td>(491)-149-0570</td>\n    </tr>\n  </tbody>\n</table>\n</div>"
     },
     "execution_count": 117,
     "metadata": {},
     "output_type": "execute_result"
    }
   ],
   "source": [
    "# mas info en https://randomuser.me/documentation\n",
    "url_api = 'https://randomuser.me/api?format=csv'\n",
    "params = {\n",
    "\t'results': 100,\n",
    "\t#'nat': 'es',\n",
    "\t#'password': '8-16,lower,upper,number,special',\n",
    "\t'exc': 'nat,picture,id,login,registered'\n",
    "}\n",
    "query = ''\n",
    "for k, v in params.items():\n",
    "\tif isinstance(v, int): v = str(v)\n",
    "\tquery += '&' + k + '=' + v\n",
    "url = url_api + query\n",
    "\n",
    "personas = pd.read_csv(url)\n",
    "personas.sample(8)"
   ]
  },
  {
   "cell_type": "code",
   "execution_count": 172,
   "outputs": [],
   "source": [],
   "metadata": {
    "collapsed": false,
    "pycharm": {
     "name": "#%%\n"
    }
   }
  }
 ],
 "metadata": {
  "interpreter": {
   "hash": "d1d36ff2b2d56704b5886b300809e7ae7b71f63f5d49375ee129e81da3216a45"
  },
  "kernelspec": {
   "display_name": "Python 3.9.11 64-bit (windows store)",
   "language": "python",
   "name": "python3"
  },
  "language_info": {
   "codemirror_mode": {
    "name": "ipython",
    "version": 3
   },
   "file_extension": ".py",
   "mimetype": "text/x-python",
   "name": "python",
   "nbconvert_exporter": "python",
   "pygments_lexer": "ipython3",
   "version": "3.9.12"
  },
  "orig_nbformat": 4
 },
 "nbformat": 4,
 "nbformat_minor": 2
}