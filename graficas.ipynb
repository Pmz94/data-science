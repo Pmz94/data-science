{
 "cells": [
  {
   "cell_type": "markdown",
   "metadata": {
    "collapsed": true,
    "pycharm": {
     "name": "#%% md\n"
    }
   },
   "source": [
    "# Graficas"
   ]
  },
  {
   "cell_type": "code",
   "execution_count": 5,
   "outputs": [],
   "source": [
    "# Importar los paquetes que necesitaremos\n",
    "import math\n",
    "import numpy as np\n",
    "import scipy.stats as st\n",
    "import pandas as pd\n",
    "import matplotlib.pyplot as plt\n",
    "import datetime\n",
    "import matplotlib.dates as mdates\n",
    "from typing import List"
   ],
   "metadata": {
    "collapsed": false,
    "pycharm": {
     "name": "#%%\n"
    }
   }
  },
  {
   "cell_type": "markdown",
   "source": [
    "### Histograma"
   ],
   "metadata": {
    "collapsed": false,
    "pycharm": {
     "name": "#%% md\n"
    }
   }
  },
  {
   "cell_type": "code",
   "execution_count": null,
   "outputs": [],
   "source": [],
   "metadata": {
    "collapsed": false,
    "pycharm": {
     "name": "#%%\n"
    }
   }
  },
  {
   "cell_type": "markdown",
   "source": [
    "### Graficas de series de tiempo"
   ],
   "metadata": {
    "collapsed": false
   }
  },
  {
   "cell_type": "markdown",
   "source": [
    "Se obtiene la cantidad de peticiones exitosas que se le han hecho a un servidor agrupadas por mes a lo largo de 2021"
   ],
   "metadata": {
    "collapsed": false,
    "pycharm": {
     "name": "#%% md\n"
    }
   }
  },
  {
   "cell_type": "code",
   "execution_count": 6,
   "outputs": [],
   "source": [
    "fecha_peticiones = [\n",
    "\t('02', 2145),\n",
    "\t('03', 11035),\n",
    "\t('04', 29990),\n",
    "\t('05', 17942),\n",
    "\t('06', 2813),\n",
    "\t('07', 904),\n",
    "\t('08', 37708),\n",
    "\t('09', 510038),\n",
    "\t('10', 253190),\n",
    "\t('11', 209877),\n",
    "\t('12', 52029)\n",
    "]"
   ],
   "metadata": {
    "collapsed": false,
    "pycharm": {
     "name": "#%%\n"
    }
   }
  },
  {
   "cell_type": "code",
   "execution_count": 7,
   "outputs": [
    {
     "data": {
      "text/plain": "<Figure size 432x288 with 1 Axes>",
      "image/png": "[encoded data removed]"
     },
     "metadata": {
      "needs_background": "light"
     },
     "output_type": "display_data"
    }
   ],
   "source": [
    "# hay que separar las variables para ambos ejes en listas separadas\n",
    "fecha = [datetime.datetime.strptime(i[0], '%m') for i in fecha_peticiones]\n",
    "peticiones = [i[1] for i in fecha_peticiones]\n",
    "# grafica_serie_tiempo(fecha, peticiones, titulo = 'Uso de una app movil', etiquetay = 'Peticiones al server')\n",
    "\n",
    "# Set the locator\n",
    "locator = mdates.MonthLocator() # cada mes\n",
    "# especificar el formato - %b gives us Jan, Feb...\n",
    "fmt = mdates.DateFormatter('%b')\n",
    "\n",
    "plt.plot(fecha, peticiones, 'o-')\n",
    "X = plt.gca().xaxis\n",
    "X.set_major_locator(locator)\n",
    "# Specify formatter\n",
    "X.set_major_formatter(fmt)\n",
    "plt.show()\n",
    "del fecha, peticiones"
   ],
   "metadata": {
    "collapsed": false,
    "pycharm": {
     "name": "#%%\n"
    }
   }
  },
  {
   "cell_type": "code",
   "execution_count": null,
   "outputs": [],
   "source": [],
   "metadata": {
    "collapsed": false,
    "pycharm": {
     "name": "#%%\n"
    }
   }
  }
 ],
 "metadata": {
  "kernelspec": {
   "display_name": "Python 3",
   "language": "python",
   "name": "python3"
  },
  "language_info": {
   "codemirror_mode": {
    "name": "ipython",
    "version": 2
   },
   "file_extension": ".py",
   "mimetype": "text/x-python",
   "name": "python",
   "nbconvert_exporter": "python",
   "pygments_lexer": "ipython2",
   "version": "2.7.6"
  }
 },
 "nbformat": 4,
 "nbformat_minor": 0
}