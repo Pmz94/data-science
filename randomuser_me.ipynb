{
 "cells": [
  {
   "cell_type": "code",
   "execution_count": 1,
   "metadata": {
    "collapsed": true,
    "pycharm": {
     "name": "#%%\n"
    }
   },
   "outputs": [
    {
     "data": {
      "text/plain": "    gender name.title name.first    name.last  location.street.number  \\\n51    male         Mr     Justus         Span                    7548   \n3     male         Mr     Arthur      Ambrose                    3807   \n29  female         Ms     Mirela        Costa                    6545   \n69  female        Mrs       Thea     Johansen                    7067   \n20    male         Mr      پارسا  سلطانی نژاد                    2660   \n45    male         Mr     Vernon        Young                    5094   \n70  female     Madame   Beatrice      Leclerc                    9009   \n82    male         Mr    Anthony       Murray                    3683   \n\n    location.street.name location.city        location.state location.country  \\\n51        De Groene Vork        Nijega               Drenthe      Netherlands   \n3             Regent Ave       Chelsea  Prince Edward Island           Canada   \n29      Rua Rui Barbosa     Indaiatuba   Rio Grande do Norte           Brazil   \n69               Banevej       Brondby               Danmark          Denmark   \n20         میدان استقلال        بروجرد                 گیلان             Iran   \n45              Bruce St       Mildura            Queensland        Australia   \n70  Rue de L'Abbé-Groult         Orvin            Graubünden      Switzerland   \n82        Alexander Road      Monaghan                  Cork          Ireland   \n\n   location.postcode  location.coordinates.latitude  \\\n51             23650                        89.4222   \n3            B9Z 1C8                       -52.5198   \n29             83701                        56.7897   \n69             43709                       -79.3664   \n20             97551                        -1.0496   \n45              3292                        47.4801   \n70              7009                        85.5995   \n82             95382                       -15.3054   \n\n    location.coordinates.longitude location.timezone.offset  \\\n51                         33.0030                    -7:00   \n3                        -161.8269                    +9:00   \n29                       -113.8235                   +11:00   \n69                         39.6374                    -5:00   \n20                        -37.0974                    +2:00   \n45                        165.8565                    -3:00   \n70                        -85.8357                    +4:00   \n82                        175.6352                    -9:00   \n\n               location.timezone.description                         email  \\\n51               Mountain Time (US & Canada)       justus.span@example.com   \n3      Tokyo, Seoul, Osaka, Sapporo, Yakutsk    arthur.ambrose@example.com   \n29   Magadan, Solomon Islands, New Caledonia      mirela.costa@example.com   \n69  Eastern Time (US & Canada), Bogota, Lima     thea.johansen@example.com   \n20                 Kaliningrad, South Africa      prs.sltnynjd@example.com   \n45          Brazil, Buenos Aires, Georgetown      vernon.young@example.com   \n70          Abu Dhabi, Muscat, Baku, Tbilisi  beatrice.leclerc@example.com   \n82                                    Alaska    anthony.murray@example.com   \n\n                    dob.date  dob.age           phone            cell  \n51  1979-02-23T21:35:57.810Z       43  (686)-997-0806  (898)-911-0006  \n3   1979-04-19T21:25:28.001Z       43    342-391-1244    915-181-8478  \n29  1986-06-09T13:26:07.132Z       36  (30) 8206-4138  (04) 4388-8160  \n69  1971-02-14T00:51:42.697Z       51        39927854        58002288  \n20  1992-05-11T13:25:41.761Z       30    031-53319104   0923-820-6465  \n45  1982-05-27T10:00:02.880Z       40    01-1568-9684    0441-399-292  \n70  1961-08-15T15:46:31.295Z       61   079 322 96 56   076 464 03 68  \n82  1950-10-09T09:25:31.469Z       72    031-156-0598    081-818-7915  ",
      "text/html": "<div>\n<style scoped>\n    .dataframe tbody tr th:only-of-type {\n        vertical-align: middle;\n    }\n\n    .dataframe tbody tr th {\n        vertical-align: top;\n    }\n\n    .dataframe thead th {\n        text-align: right;\n    }\n</style>\n<table border=\"1\" class=\"dataframe\">\n  <thead>\n    <tr style=\"text-align: right;\">\n      <th></th>\n      <th>gender</th>\n      <th>name.title</th>\n      <th>name.first</th>\n      <th>name.last</th>\n      <th>location.street.number</th>\n      <th>location.street.name</th>\n      <th>location.city</th>\n      <th>location.state</th>\n      <th>location.country</th>\n      <th>location.postcode</th>\n      <th>location.coordinates.latitude</th>\n      <th>location.coordinates.longitude</th>\n      <th>location.timezone.offset</th>\n      <th>location.timezone.description</th>\n      <th>email</th>\n      <th>dob.date</th>\n      <th>dob.age</th>\n      <th>phone</th>\n      <th>cell</th>\n    </tr>\n  </thead>\n  <tbody>\n    <tr>\n      <th>51</th>\n      <td>male</td>\n      <td>Mr</td>\n      <td>Justus</td>\n      <td>Span</td>\n      <td>7548</td>\n      <td>De Groene Vork</td>\n      <td>Nijega</td>\n      <td>Drenthe</td>\n      <td>Netherlands</td>\n      <td>23650</td>\n      <td>89.4222</td>\n      <td>33.0030</td>\n      <td>-7:00</td>\n      <td>Mountain Time (US &amp; Canada)</td>\n      <td>justus.span@example.com</td>\n      <td>1979-02-23T21:35:57.810Z</td>\n      <td>43</td>\n      <td>(686)-997-0806</td>\n      <td>(898)-911-0006</td>\n    </tr>\n    <tr>\n      <th>3</th>\n      <td>male</td>\n      <td>Mr</td>\n      <td>Arthur</td>\n      <td>Ambrose</td>\n      <td>3807</td>\n      <td>Regent Ave</td>\n      <td>Chelsea</td>\n      <td>Prince Edward Island</td>\n      <td>Canada</td>\n      <td>B9Z 1C8</td>\n      <td>-52.5198</td>\n      <td>-161.8269</td>\n      <td>+9:00</td>\n      <td>Tokyo, Seoul, Osaka, Sapporo, Yakutsk</td>\n      <td>arthur.ambrose@example.com</td>\n      <td>1979-04-19T21:25:28.001Z</td>\n      <td>43</td>\n      <td>342-391-1244</td>\n      <td>915-181-8478</td>\n    </tr>\n    <tr>\n      <th>29</th>\n      <td>female</td>\n      <td>Ms</td>\n      <td>Mirela</td>\n      <td>Costa</td>\n      <td>6545</td>\n      <td>Rua Rui Barbosa</td>\n      <td>Indaiatuba</td>\n      <td>Rio Grande do Norte</td>\n      <td>Brazil</td>\n      <td>83701</td>\n      <td>56.7897</td>\n      <td>-113.8235</td>\n      <td>+11:00</td>\n      <td>Magadan, Solomon Islands, New Caledonia</td>\n      <td>mirela.costa@example.com</td>\n      <td>1986-06-09T13:26:07.132Z</td>\n      <td>36</td>\n      <td>(30) 8206-4138</td>\n      <td>(04) 4388-8160</td>\n    </tr>\n    <tr>\n      <th>69</th>\n      <td>female</td>\n      <td>Mrs</td>\n      <td>Thea</td>\n      <td>Johansen</td>\n      <td>7067</td>\n      <td>Banevej</td>\n      <td>Brondby</td>\n      <td>Danmark</td>\n      <td>Denmark</td>\n      <td>43709</td>\n      <td>-79.3664</td>\n      <td>39.6374</td>\n      <td>-5:00</td>\n      <td>Eastern Time (US &amp; Canada), Bogota, Lima</td>\n      <td>thea.johansen@example.com</td>\n      <td>1971-02-14T00:51:42.697Z</td>\n      <td>51</td>\n      <td>39927854</td>\n      <td>58002288</td>\n    </tr>\n    <tr>\n      <th>20</th>\n      <td>male</td>\n      <td>Mr</td>\n      <td>پارسا</td>\n      <td>سلطانی نژاد</td>\n      <td>2660</td>\n      <td>میدان استقلال</td>\n      <td>بروجرد</td>\n      <td>گیلان</td>\n      <td>Iran</td>\n      <td>97551</td>\n      <td>-1.0496</td>\n      <td>-37.0974</td>\n      <td>+2:00</td>\n      <td>Kaliningrad, South Africa</td>\n      <td>prs.sltnynjd@example.com</td>\n      <td>1992-05-11T13:25:41.761Z</td>\n      <td>30</td>\n      <td>031-53319104</td>\n      <td>0923-820-6465</td>\n    </tr>\n    <tr>\n      <th>45</th>\n      <td>male</td>\n      <td>Mr</td>\n      <td>Vernon</td>\n      <td>Young</td>\n      <td>5094</td>\n      <td>Bruce St</td>\n      <td>Mildura</td>\n      <td>Queensland</td>\n      <td>Australia</td>\n      <td>3292</td>\n      <td>47.4801</td>\n      <td>165.8565</td>\n      <td>-3:00</td>\n      <td>Brazil, Buenos Aires, Georgetown</td>\n      <td>vernon.young@example.com</td>\n      <td>1982-05-27T10:00:02.880Z</td>\n      <td>40</td>\n      <td>01-1568-9684</td>\n      <td>0441-399-292</td>\n    </tr>\n    <tr>\n      <th>70</th>\n      <td>female</td>\n      <td>Madame</td>\n      <td>Beatrice</td>\n      <td>Leclerc</td>\n      <td>9009</td>\n      <td>Rue de L'Abbé-Groult</td>\n      <td>Orvin</td>\n      <td>Graubünden</td>\n      <td>Switzerland</td>\n      <td>7009</td>\n      <td>85.5995</td>\n      <td>-85.8357</td>\n      <td>+4:00</td>\n      <td>Abu Dhabi, Muscat, Baku, Tbilisi</td>\n      <td>beatrice.leclerc@example.com</td>\n      <td>1961-08-15T15:46:31.295Z</td>\n      <td>61</td>\n      <td>079 322 96 56</td>\n      <td>076 464 03 68</td>\n    </tr>\n    <tr>\n      <th>82</th>\n      <td>male</td>\n      <td>Mr</td>\n      <td>Anthony</td>\n      <td>Murray</td>\n      <td>3683</td>\n      <td>Alexander Road</td>\n      <td>Monaghan</td>\n      <td>Cork</td>\n      <td>Ireland</td>\n      <td>95382</td>\n      <td>-15.3054</td>\n      <td>175.6352</td>\n      <td>-9:00</td>\n      <td>Alaska</td>\n      <td>anthony.murray@example.com</td>\n      <td>1950-10-09T09:25:31.469Z</td>\n      <td>72</td>\n      <td>031-156-0598</td>\n      <td>081-818-7915</td>\n    </tr>\n  </tbody>\n</table>\n</div>"
     },
     "execution_count": 1,
     "metadata": {},
     "output_type": "execute_result"
    }
   ],
   "source": [
    "import pandas as pd\n",
    "\n",
    "# Mas info en https://randomuser.me/documentation\n",
    "url_api = 'https://randomuser.me/api?format=csv'\n",
    "params = {\n",
    "\t'results': 100,\n",
    "\t#'nat': 'es',\n",
    "\t#'password': '8-16,lower,upper,number,special',\n",
    "\t'exc': 'nat,picture,id,login,registered'\n",
    "}\n",
    "query = ''\n",
    "for k, v in params.items():\n",
    "\tif isinstance(v, int): v = str(v)\n",
    "\tquery += '&' + k + '=' + v\n",
    "url = url_api + query\n",
    "\n",
    "people = pd.read_csv(url)\n",
    "people.sample(8)"
   ]
  }
 ],
 "metadata": {
  "kernelspec": {
   "display_name": "Python 3",
   "language": "python",
   "name": "python3"
  },
  "language_info": {
   "codemirror_mode": {
    "name": "ipython",
    "version": 2
   },
   "file_extension": ".py",
   "mimetype": "text/x-python",
   "name": "python",
   "nbconvert_exporter": "python",
   "pygments_lexer": "ipython2",
   "version": "2.7.6"
  }
 },
 "nbformat": 4,
 "nbformat_minor": 0
}