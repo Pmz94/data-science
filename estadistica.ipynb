{
 "cells": [
  {
   "cell_type": "markdown",
   "metadata": {},
   "source": [
    "# Estadistica descriptiva"
   ]
  },
  {
   "cell_type": "code",
   "execution_count": 31,
   "metadata": {},
   "outputs": [],
   "source": [
    "# Importar los paquetes que necesitaremos\n",
    "import math\n",
    "import numpy as np\n",
    "import scipy.stats as st\n",
    "import pandas as pd"
   ]
  },
  {
   "cell_type": "markdown",
   "metadata": {},
   "source": [
    "Se tiene una muestra de 48 piezas hechas de una aleación de aluminio y litio para probar su resistencia a la tension y ver si sirve como material para fabricar un avión, se prueban y se anotan las libras por pulgada (psi) a las que aguantó cada pieza."
   ]
  },
  {
   "cell_type": "code",
   "execution_count": 32,
   "metadata": {},
   "outputs": [],
   "source": [
    "x = [\n",
    "\t105, 97, 245, 163, 207, 134, 221, 154,\n",
    "\t228, 131, 180, 178, 190, 76, 101, 142,\n",
    "\t149, 200, 186, 174, 199, 115, 87, 176,\n",
    "\t121, 120, 181, 160, 194, 160, 181, 170,\n",
    "\t237, 171, 172, 133, 180, 167, 176, 158,\n",
    "\t156, 229, 143, 141, 110, 133, 123, 146\n",
    "]"
   ]
  },
  {
   "cell_type": "markdown",
   "metadata": {},
   "source": [
    "Primero vamos a sacar alguna informacion basica"
   ]
  },
  {
   "cell_type": "code",
   "execution_count": 33,
   "metadata": {},
   "outputs": [
    {
     "data": {
      "text/plain": [
       "(48, 76, 245, 169, 160.41666666666666)"
      ]
     },
     "execution_count": 33,
     "metadata": {},
     "output_type": "execute_result"
    }
   ],
   "source": [
    "n = len(x)  # tamaño de muestra\n",
    "minimo = min(x)  # dato mas chico de la muestra\n",
    "maximo = max(x)  # dato mas grande de la muestra\n",
    "rango = maximo - minimo\n",
    "promedio = sum(x) / n\n",
    "n, minimo, maximo, rango, promedio"
   ]
  },
  {
   "cell_type": "markdown",
   "metadata": {},
   "source": [
    "Para sacar la **mediana** hay que ordenar de menor a mayor los datos y encontrar el dato que este justo en medio"
   ]
  },
  {
   "cell_type": "code",
   "execution_count": 34,
   "metadata": {},
   "outputs": [
    {
     "data": {
      "text/plain": [
       "161.5"
      ]
     },
     "execution_count": 34,
     "metadata": {},
     "output_type": "execute_result"
    }
   ],
   "source": [
    "# ordenar los datos\n",
    "x = sorted(x)\n",
    "# ver si n es par o impar\n",
    "# a n le restamos 1 porque las listas incluyen el 0 como primera posicion\n",
    "if n % 2 == 0:\n",
    "\t# si es par\n",
    "\tmediana = (x[int((n - 1) / 2)] + x[int((n - 1) / 2) + 1]) / 2\n",
    "else:\n",
    "\t# si es impar\n",
    "\tmediana = x[int(((n - 1) + 1) / 2)]\n",
    "mediana"
   ]
  },
  {
   "cell_type": "markdown",
   "metadata": {},
   "source": [
    "Tambien puede ser sacada con una funcion que tiene el paquete numpy"
   ]
  },
  {
   "cell_type": "code",
   "execution_count": 35,
   "metadata": {},
   "outputs": [
    {
     "data": {
      "text/plain": [
       "161.5"
      ]
     },
     "execution_count": 35,
     "metadata": {},
     "output_type": "execute_result"
    }
   ],
   "source": [
    "mediana = np.median(x)\n",
    "mediana"
   ]
  },
  {
   "cell_type": "markdown",
   "metadata": {},
   "source": [
    "Para sacar la **moda**, nomas hay que buscar el dato que mas frecuencia tenga"
   ]
  },
  {
   "cell_type": "code",
   "execution_count": 36,
   "metadata": {},
   "outputs": [
    {
     "data": {
      "text/plain": [
       "133"
      ]
     },
     "execution_count": 36,
     "metadata": {},
     "output_type": "execute_result"
    }
   ],
   "source": [
    "moda = x[0]\n",
    "counter = 0\n",
    "for i in x:\n",
    "\tcurr_frequency = x.count(i)\n",
    "\tif curr_frequency > counter:\n",
    "\t\tcounter = curr_frequency\n",
    "\t\tmoda = i\n",
    "del i, counter, curr_frequency\n",
    "moda"
   ]
  },
  {
   "cell_type": "markdown",
   "metadata": {},
   "source": [
    "O bien, con una funcion que tiene el paquete de scipy.stats"
   ]
  },
  {
   "cell_type": "code",
   "execution_count": 37,
   "metadata": {},
   "outputs": [],
   "source": [
    "moda = st.mode(x)\n",
    "moda = moda.mode[0]"
   ]
  },
  {
   "cell_type": "markdown",
   "metadata": {},
   "source": [
    "Para sacar la **varianza**\n",
    "* Primero se saca la resta de cada dato con el promedio y luego se eleva al cuadrado\n",
    "* Luego se suman entre si los resultados de estas restas\n",
    "* Luego se divide entre la resta de *n* y 1\n",
    "\n",
    "OJO, cuando es una muestra se resta *n - 1*, cuando es una poblacion, a *n* no se le resta nada"
   ]
  },
  {
   "cell_type": "code",
   "execution_count": 38,
   "metadata": {},
   "outputs": [
    {
     "data": {
      "text/plain": [
       "1566.9716312056742"
      ]
     },
     "execution_count": 38,
     "metadata": {},
     "output_type": "execute_result"
    }
   ],
   "source": [
    "sum([(i - promedio) ** 2 for i in x]) / (n - 1)"
   ]
  },
  {
   "cell_type": "markdown",
   "metadata": {},
   "source": [
    "Pero tambien existe esta funcion dentro del paquete de numpy"
   ]
  },
  {
   "cell_type": "code",
   "execution_count": 39,
   "metadata": {},
   "outputs": [
    {
     "data": {
      "text/plain": [
       "1566.9716312056735"
      ]
     },
     "execution_count": 39,
     "metadata": {},
     "output_type": "execute_result"
    }
   ],
   "source": [
    "# como x es una muestra, se agrega el parametro ddof con valor 1 para que haga la resta de (n - 1) al dividir\n",
    "varianza = np.var(x, ddof = 1)\n",
    "varianza"
   ]
  },
  {
   "cell_type": "markdown",
   "metadata": {},
   "source": [
    "Para sacar la **desviacion estandar** nomas saque la raiz cuadrada de la varianza"
   ]
  },
  {
   "cell_type": "code",
   "execution_count": 40,
   "metadata": {},
   "outputs": [
    {
     "data": {
      "text/plain": [
       "(39.584992499755174, 39.584992499755174)"
      ]
     },
     "execution_count": 40,
     "metadata": {},
     "output_type": "execute_result"
    }
   ],
   "source": [
    "# puede sacarse de estas dos maneras\n",
    "varianza ** 0.5, math.sqrt(varianza)"
   ]
  },
  {
   "cell_type": "markdown",
   "metadata": {},
   "source": [
    "O bien, use la formula que incluye numpy"
   ]
  },
  {
   "cell_type": "code",
   "execution_count": 41,
   "metadata": {},
   "outputs": [
    {
     "data": {
      "text/plain": [
       "39.584992499755174"
      ]
     },
     "execution_count": 41,
     "metadata": {},
     "output_type": "execute_result"
    }
   ],
   "source": [
    "# aqui tambien ocupa el parametro ddof = 1\n",
    "desv = np.std(x, ddof = 1)\n",
    "desv"
   ]
  },
  {
   "cell_type": "markdown",
   "metadata": {
    "collapsed": false,
    "pycharm": {
     "name": "#%% md\n"
    }
   },
   "source": [
    "##### Cuartiles\n",
    "\n",
    "Son los puntos de division que se le hacen al conjunto de datos ordenados de menor a mayor en partes iguales"
   ]
  },
  {
   "cell_type": "code",
   "execution_count": 42,
   "metadata": {
    "collapsed": false,
    "pycharm": {
     "name": "#%%\n"
    }
   },
   "outputs": [
    {
     "data": {
      "text/plain": [
       "(12, 24, 36)"
      ]
     },
     "execution_count": 42,
     "metadata": {},
     "output_type": "execute_result"
    }
   ],
   "source": [
    "# dividir sobre 4 el tamaño de la muestra\n",
    "q1_pos = int(n / 4)\n",
    "# para obtener la posicion del 2do cuartil\n",
    "q2_pos = q1_pos * 2\n",
    "q3_pos = q1_pos * 3\n",
    "\n",
    "q1_pos, q2_pos, q3_pos"
   ]
  },
  {
   "cell_type": "code",
   "execution_count": 43,
   "metadata": {
    "collapsed": false,
    "pycharm": {
     "name": "#%%\n"
    }
   },
   "outputs": [
    {
     "data": {
      "text/plain": [
       "(133.0, 161.5, 181.0)"
      ]
     },
     "execution_count": 43,
     "metadata": {},
     "output_type": "execute_result"
    }
   ],
   "source": [
    "# ordenar los datos\n",
    "x = sorted(x)\n",
    "# le restamos 1 porque las listas incluyen el 0 como primera posicion\n",
    "# al otro dato no le restamos por lo mismo\n",
    "q1 = (x[q1_pos - 1] + x[q1_pos]) / 2\n",
    "q2 = (x[q2_pos - 1] + x[q2_pos]) / 2\n",
    "q3 = (x[q3_pos - 1] + x[q3_pos]) / 2\n",
    "\n",
    "q1, q2, q3"
   ]
  },
  {
   "cell_type": "markdown",
   "metadata": {},
   "source": [
    "numpy tambien tiene una funcion para sacar los cuartiles que quieras"
   ]
  },
  {
   "cell_type": "code",
   "execution_count": 44,
   "metadata": {
    "collapsed": false,
    "pycharm": {
     "name": "#%%\n"
    }
   },
   "outputs": [
    {
     "data": {
      "text/plain": [
       "(133.0, 161.5, 181.0)"
      ]
     },
     "execution_count": 44,
     "metadata": {},
     "output_type": "execute_result"
    }
   ],
   "source": [
    "# la funcion regresa un array asi que defina las variables de esta manera\n",
    "q1, q2, q3 = np.quantile(x, [0.25, 0.5, 0.75])\n",
    "q1, q2, q3"
   ]
  },
  {
   "cell_type": "markdown",
   "metadata": {},
   "source": [
    "##### Percentiles\n",
    "\n",
    "Son los conjuntos de datos ordenados divididos en 100 partes iguales.\n",
    "\n",
    "* El percentil del 25% P25 = Q1\n",
    "* El percentil del 50% P50 = mediana = Q2\n",
    "* El percentil del 75% P75 = Q3"
   ]
  },
  {
   "cell_type": "code",
   "execution_count": 45,
   "metadata": {},
   "outputs": [],
   "source": [
    "# funcion para redondear para arriba aunque haya decimales de .5 o menos\n",
    "def round_up(n, decimals = 0):\n",
    "    multiplier = 10 ** decimals\n",
    "    return math.ceil(n * multiplier) / multiplier\n",
    "\n",
    "# funcion para sacar los percentiles\n",
    "def percentil(x, k):\n",
    "    x = sorted(x)\n",
    "    if k < 0: return min(x)\n",
    "    if k > 100: return max(x)\n",
    "    # convertir k en base a 1\n",
    "    k = k / 100\n",
    "    # encontrar la posicion i del percentil mediante el calculo de nk\n",
    "    nk = len(x) * k\n",
    "    \n",
    "    # si nk es entero, i va a ser igual a nk + 0.5\n",
    "    if isinstance(nk, int): i = nk + 0.5\n",
    "    # si nk no es entero, entonces i es el siguiente entero mas grande\n",
    "    else: i = int(round_up(nk))\n",
    "\n",
    "    # si i es entero, se cuentan las observaciones desde la mas chica hasta hallar el i-esimo valor\n",
    "    if isinstance(i, int): pk = x[i - 1]\n",
    "    # si i no es entero, entonces contiene una fraccion igual a un medio, con lo que el valor de pk es el promedio de las observaciones ordenadas nk y nk + 1\n",
    "    else: pk = (x[nk - 1] + x[nk]) / 2\n",
    "    # OJO, a la posicion se le resta 1 porque las posiciones empiezan del 0\n",
    "\n",
    "    return pk"
   ]
  },
  {
   "cell_type": "code",
   "execution_count": 46,
   "metadata": {},
   "outputs": [],
   "source": [
    "def percentile(x, percent, key = lambda x:x):\n",
    "    \"\"\"\n",
    "    Find the percentile of a list of values.\n",
    "\n",
    "    @parameter x - is a list of values.\n",
    "    @parameter percent - an int value from 0 to 100.\n",
    "    @parameter key - optional key function to compute value from each element of x.\n",
    "\n",
    "    @return - the percentile of the values\n",
    "    \"\"\"\n",
    "    if not x: return None\n",
    "    if percent <= 0: return min(x)\n",
    "    if percent >= 100: return max(x)\n",
    "\n",
    "    x = sorted(x)\n",
    "    percent = percent / 100\n",
    "\n",
    "    k = (len(x) - 1) * percent\n",
    "    f = math.floor(k)\n",
    "    c = math.ceil(k)\n",
    "    if f == c: return key(x[int(k)])\n",
    "    d0 = key(x[int(f)]) * (c - k)\n",
    "    d1 = key(x[int(c)]) * (k - f)\n",
    "    return d0 + d1"
   ]
  },
  {
   "cell_type": "code",
   "execution_count": 47,
   "metadata": {
    "collapsed": false,
    "pycharm": {
     "name": "#%%\n"
    }
   },
   "outputs": [
    {
     "data": {
      "text/plain": [
       "(108.5, 211.20000000000007)"
      ]
     },
     "execution_count": 47,
     "metadata": {},
     "output_type": "execute_result"
    }
   ],
   "source": [
    "# si queremos encontrar el percentil 10\n",
    "p10 = percentile(x, 10)\n",
    "# para encontrar el percentil 90\n",
    "p90 = percentile(x, 90)\n",
    "p10, p90"
   ]
  },
  {
   "cell_type": "markdown",
   "metadata": {},
   "source": [
    "o bien"
   ]
  },
  {
   "cell_type": "code",
   "execution_count": 48,
   "metadata": {},
   "outputs": [
    {
     "data": {
      "text/plain": [
       "(108.5, 211.20000000000005)"
      ]
     },
     "execution_count": 48,
     "metadata": {},
     "output_type": "execute_result"
    }
   ],
   "source": [
    "p10 = np.percentile(x, 10)\n",
    "p90 = np.percentile(x, 90)\n",
    "p10, p90"
   ]
  },
  {
   "cell_type": "markdown",
   "metadata": {},
   "source": [
    "##### Sesgo (o asimetria)\n",
    "\n",
    "Si los datos están sesgados, su media, mediana y moda son diferentes.\n",
    "* Si la *moda = mediana = media* la distribución es simétrica.\n",
    "* Si la *moda < mediana < media* la distribución esta sesgada a la derecha o tiene sesgo positivo.\n",
    "* Si la *moda > mediana > media* la distribución esta sesgada a la izquierda o tiene sesgo negativo.\n",
    "\n",
    "##### Curtosis\n",
    "\n",
    "Hay 3 tipos de curtosis para las distribuciones de datos:\n",
    "* Si *Cu > 0* es Leptocúrtica. Hay mucha concentración de datos en la media.\n",
    "* Si *Cu = 0* es Mesocúrtica. Tiene una distribución normal.\n",
    "* Si *Cu < 0* es Platicúrtica. Hay muy poca concentración de datos en la media."
   ]
  },
  {
   "cell_type": "code",
   "execution_count": 49,
   "metadata": {
    "collapsed": false,
    "pycharm": {
     "name": "#%%\n"
    }
   },
   "outputs": [
    {
     "data": {
      "text/plain": [
       "(-0.1875, 0.23369036027263865)"
      ]
     },
     "execution_count": 49,
     "metadata": {},
     "output_type": "execute_result"
    }
   ],
   "source": [
    "# para sacar el sesgo y la curtosis\n",
    "sesgo = (q1 + q3 - (2 * q2)) / (q3 - q1)\n",
    "curtosis = (q3 - q1) / (2 * (p90 - p10))\n",
    "sesgo, curtosis"
   ]
  },
  {
   "cell_type": "code",
   "execution_count": 50,
   "metadata": {},
   "outputs": [
    {
     "data": {
      "text/plain": [
       "(0.04102203130909817, -0.4047075284407917)"
      ]
     },
     "execution_count": 50,
     "metadata": {},
     "output_type": "execute_result"
    }
   ],
   "source": [
    "sesgo = st.skew(x)\n",
    "curtosis = st.kurtosis(x)\n",
    "sesgo, curtosis"
   ]
  },
  {
   "cell_type": "markdown",
   "metadata": {},
   "source": [
    "Hay un dato que se llama **error tipico** o **error estandar**.\n",
    "Este vendria siendo parte del margen de error que se calcula para encontrar el promedio poblacional.\n",
    "Se halla dividiendo la desviación estandar entre la raíz cuadrada del tamaño de la muestra."
   ]
  },
  {
   "cell_type": "code",
   "execution_count": 51,
   "metadata": {},
   "outputs": [
    {
     "data": {
      "text/plain": [
       "5.713601518900742"
      ]
     },
     "execution_count": 51,
     "metadata": {},
     "output_type": "execute_result"
    }
   ],
   "source": [
    "error_tipico = desv / (n ** 0.5)\n",
    "error_tipico"
   ]
  },
  {
   "cell_type": "markdown",
   "metadata": {},
   "source": [
    "Acomodamos todo para presentar la estadistica descriptiva de los datos"
   ]
  },
  {
   "cell_type": "code",
   "execution_count": 52,
   "metadata": {},
   "outputs": [
    {
     "data": {
      "text/html": [
       "<div>\n",
       "<style scoped>\n",
       "    .dataframe tbody tr th:only-of-type {\n",
       "        vertical-align: middle;\n",
       "    }\n",
       "\n",
       "    .dataframe tbody tr th {\n",
       "        vertical-align: top;\n",
       "    }\n",
       "\n",
       "    .dataframe thead th {\n",
       "        text-align: right;\n",
       "    }\n",
       "</style>\n",
       "<table border=\"1\" class=\"dataframe\">\n",
       "  <thead>\n",
       "    <tr style=\"text-align: right;\">\n",
       "      <th></th>\n",
       "      <th>valor</th>\n",
       "    </tr>\n",
       "  </thead>\n",
       "  <tbody>\n",
       "    <tr>\n",
       "      <th>n</th>\n",
       "      <td>48.000000</td>\n",
       "    </tr>\n",
       "    <tr>\n",
       "      <th>minimo</th>\n",
       "      <td>76.000000</td>\n",
       "    </tr>\n",
       "    <tr>\n",
       "      <th>maximo</th>\n",
       "      <td>245.000000</td>\n",
       "    </tr>\n",
       "    <tr>\n",
       "      <th>rango</th>\n",
       "      <td>169.000000</td>\n",
       "    </tr>\n",
       "    <tr>\n",
       "      <th>promedio</th>\n",
       "      <td>160.416667</td>\n",
       "    </tr>\n",
       "    <tr>\n",
       "      <th>mediana</th>\n",
       "      <td>161.500000</td>\n",
       "    </tr>\n",
       "    <tr>\n",
       "      <th>moda</th>\n",
       "      <td>133.000000</td>\n",
       "    </tr>\n",
       "    <tr>\n",
       "      <th>varianza</th>\n",
       "      <td>1566.971631</td>\n",
       "    </tr>\n",
       "    <tr>\n",
       "      <th>desv</th>\n",
       "      <td>39.584992</td>\n",
       "    </tr>\n",
       "    <tr>\n",
       "      <th>Q1</th>\n",
       "      <td>133.000000</td>\n",
       "    </tr>\n",
       "    <tr>\n",
       "      <th>Q2</th>\n",
       "      <td>161.500000</td>\n",
       "    </tr>\n",
       "    <tr>\n",
       "      <th>Q3</th>\n",
       "      <td>181.000000</td>\n",
       "    </tr>\n",
       "    <tr>\n",
       "      <th>sesgo</th>\n",
       "      <td>0.041022</td>\n",
       "    </tr>\n",
       "    <tr>\n",
       "      <th>curtosis</th>\n",
       "      <td>-0.404708</td>\n",
       "    </tr>\n",
       "    <tr>\n",
       "      <th>error tipico</th>\n",
       "      <td>5.713602</td>\n",
       "    </tr>\n",
       "  </tbody>\n",
       "</table>\n",
       "</div>"
      ],
      "text/plain": [
       "                    valor\n",
       "n               48.000000\n",
       "minimo          76.000000\n",
       "maximo         245.000000\n",
       "rango          169.000000\n",
       "promedio       160.416667\n",
       "mediana        161.500000\n",
       "moda           133.000000\n",
       "varianza      1566.971631\n",
       "desv            39.584992\n",
       "Q1             133.000000\n",
       "Q2             161.500000\n",
       "Q3             181.000000\n",
       "sesgo            0.041022\n",
       "curtosis        -0.404708\n",
       "error tipico     5.713602"
      ]
     },
     "execution_count": 52,
     "metadata": {},
     "output_type": "execute_result"
    }
   ],
   "source": [
    "tabla = pd.DataFrame(\n",
    "\tdata = {'valor': [n, minimo, maximo, rango, promedio, mediana, moda, varianza, desv, q1, q2, q3, sesgo, curtosis, error_tipico]},\n",
    "\tindex = ['n', 'minimo', 'maximo', 'rango', 'promedio', 'mediana', 'moda', 'varianza', 'desv', 'Q1', 'Q2', 'Q3', 'sesgo', 'curtosis', 'error tipico']\n",
    ")\n",
    "tabla"
   ]
  },
  {
   "cell_type": "code",
   "execution_count": 53,
   "metadata": {},
   "outputs": [
    {
     "data": {
      "text/plain": [
       "n                 48.000000\n",
       "minimo            76.000000\n",
       "maximo           245.000000\n",
       "rango            169.000000\n",
       "promedio         160.416667\n",
       "mediana          161.500000\n",
       "moda             133.000000\n",
       "varianza        1566.971631\n",
       "desv              39.584992\n",
       "q1               133.000000\n",
       "q2               161.500000\n",
       "q3               181.000000\n",
       "sesgo              0.041022\n",
       "curtosis          -0.404708\n",
       "error_tipico       5.713602\n",
       "dtype: float64"
      ]
     },
     "execution_count": 53,
     "metadata": {},
     "output_type": "execute_result"
    }
   ],
   "source": [
    "tabla = pd.Series(\n",
    "\tdata = {\n",
    "        'n': n,\n",
    "        'minimo': minimo,\n",
    "        'maximo': maximo,\n",
    "        'rango': rango,\n",
    "        'promedio': promedio,\n",
    "        'mediana': mediana,\n",
    "        'moda': moda,\n",
    "        'varianza': varianza,\n",
    "        'desv': desv,\n",
    "        'q1': q1,\n",
    "        'q2': q2,\n",
    "        'q3': q3,\n",
    "        'sesgo': sesgo,\n",
    "        'curtosis': curtosis,\n",
    "        'error_tipico': error_tipico\n",
    "    },\n",
    "\tindex = ['n', 'minimo', 'maximo', 'rango', 'promedio', 'mediana', 'moda', 'varianza', 'desv', 'q1', 'q2', 'q3', 'sesgo', 'curtosis', 'error_tipico']\n",
    ")\n",
    "tabla"
   ]
  },
  {
   "cell_type": "markdown",
   "metadata": {},
   "source": [
    "O bien, puede usar una de estas funciones"
   ]
  },
  {
   "cell_type": "code",
   "execution_count": 54,
   "metadata": {},
   "outputs": [
    {
     "data": {
      "text/plain": [
       "DescribeResult(nobs=48, minmax=(76, 245), mean=160.41666666666666, variance=1566.9716312056735, skewness=0.04102203130909817, kurtosis=-0.4047075284407917)"
      ]
     },
     "execution_count": 54,
     "metadata": {},
     "output_type": "execute_result"
    }
   ],
   "source": [
    "st.describe(x)"
   ]
  },
  {
   "cell_type": "code",
   "execution_count": 55,
   "metadata": {},
   "outputs": [
    {
     "data": {
      "text/html": [
       "<div>\n",
       "<style scoped>\n",
       "    .dataframe tbody tr th:only-of-type {\n",
       "        vertical-align: middle;\n",
       "    }\n",
       "\n",
       "    .dataframe tbody tr th {\n",
       "        vertical-align: top;\n",
       "    }\n",
       "\n",
       "    .dataframe thead th {\n",
       "        text-align: right;\n",
       "    }\n",
       "</style>\n",
       "<table border=\"1\" class=\"dataframe\">\n",
       "  <thead>\n",
       "    <tr style=\"text-align: right;\">\n",
       "      <th></th>\n",
       "      <th>0</th>\n",
       "    </tr>\n",
       "  </thead>\n",
       "  <tbody>\n",
       "    <tr>\n",
       "      <th>count</th>\n",
       "      <td>48.000000</td>\n",
       "    </tr>\n",
       "    <tr>\n",
       "      <th>mean</th>\n",
       "      <td>160.416667</td>\n",
       "    </tr>\n",
       "    <tr>\n",
       "      <th>std</th>\n",
       "      <td>39.584992</td>\n",
       "    </tr>\n",
       "    <tr>\n",
       "      <th>min</th>\n",
       "      <td>76.000000</td>\n",
       "    </tr>\n",
       "    <tr>\n",
       "      <th>25%</th>\n",
       "      <td>133.000000</td>\n",
       "    </tr>\n",
       "    <tr>\n",
       "      <th>50%</th>\n",
       "      <td>161.500000</td>\n",
       "    </tr>\n",
       "    <tr>\n",
       "      <th>75%</th>\n",
       "      <td>181.000000</td>\n",
       "    </tr>\n",
       "    <tr>\n",
       "      <th>max</th>\n",
       "      <td>245.000000</td>\n",
       "    </tr>\n",
       "  </tbody>\n",
       "</table>\n",
       "</div>"
      ],
      "text/plain": [
       "                0\n",
       "count   48.000000\n",
       "mean   160.416667\n",
       "std     39.584992\n",
       "min     76.000000\n",
       "25%    133.000000\n",
       "50%    161.500000\n",
       "75%    181.000000\n",
       "max    245.000000"
      ]
     },
     "execution_count": 55,
     "metadata": {},
     "output_type": "execute_result"
    }
   ],
   "source": [
    "pd.DataFrame(x).describe()"
   ]
  }
 ],
 "metadata": {
  "interpreter": {
   "hash": "d1d36ff2b2d56704b5886b300809e7ae7b71f63f5d49375ee129e81da3216a45"
  },
  "kernelspec": {
   "display_name": "Python 3.9.10 64-bit (windows store)",
   "language": "python",
   "name": "python3"
  },
  "language_info": {
   "codemirror_mode": {
    "name": "ipython",
    "version": 3
   },
   "file_extension": ".py",
   "mimetype": "text/x-python",
   "name": "python",
   "nbconvert_exporter": "python",
   "pygments_lexer": "ipython3",
   "version": "3.9.10"
  },
  "orig_nbformat": 4
 },
 "nbformat": 4,
 "nbformat_minor": 2
}
