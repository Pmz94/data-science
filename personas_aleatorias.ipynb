{
 "cells": [
  {
   "cell_type": "markdown",
   "metadata": {},
   "source": [
    "# Generador de personas aleatorias"
   ]
  },
  {
   "cell_type": "code",
   "execution_count": 169,
   "metadata": {},
   "outputs": [],
   "source": [
    "import random as rm\n",
    "import numpy as np\n",
    "import pandas as pd\n",
    "from faker import Faker\n",
    "import datetime as dt\n",
    "import unicodedata\n",
    "from geopy.geocoders import Nominatim\n",
    "from timezonefinder import TimezoneFinder"
   ]
  },
  {
   "cell_type": "code",
   "execution_count": 170,
   "metadata": {},
   "outputs": [],
   "source": [
    "reap = pd.read_csv('./conjunto_datos/relacion_edad_altura_peso.csv')\n",
    "nombres = pd.read_csv('./catalogos/nombres.csv')\n",
    "profesiones = pd.read_csv('./catalogos/profesiones.csv')\n",
    "ciudades = pd.read_csv('./catalogos/ciudades.csv', encoding = 'UTF-16')\n",
    "\n",
    "def quitar_acentos(s):\n",
    "\treturn ''.join(c for c in unicodedata.normalize('NFD', s) if unicodedata.category(c) != 'Mn')"
   ]
  },
  {
   "cell_type": "code",
   "execution_count": 187,
   "metadata": {},
   "outputs": [
    {
     "data": {
      "text/plain": "  titulo   nombre apellido_paterno apellido_materno   fecha_nac sexo  \\\n0   Dra.    Itzel        Jaramillo           Montez  1992-09-19    M   \n1   None  Antonio         Saavedra        Rodríquez  1928-02-15    H   \n2   Sra.   Noelia         Grijalva            Nieto  1917-05-03    M   \n3  Mtro.   Xavier           Lozada           Pelayo  1998-06-03    H   \n4   None   Raquel             Maya         Guajardo  1928-03-19    M   \n\n  tipo_sangre  altura   peso                                correo  ... calle  \\\n0          A+  168.33  60.82                     ijm92@example.org  ...         \n1          O+  181.54  58.93  antoniosaavedrarodriquez@example.net  ...         \n2          A+  172.87  81.08                   ngn1917@example.gob  ...         \n3          A+  166.86  76.48                    xlozada@example.io  ...         \n4         AB-  165.43  77.67               raquel_maya@example.gob  ...         \n\n  numero cp                  ciudad               estado        lat  \\\n0            Felipe Neri (Cuatepec)              Morelos        NaN   \n1              Tamazula de Victoria              Durango  24.969009   \n2                Ixhuatlán del Café             Veracruz  19.026624   \n3                          Santiago  Baja California Sur  23.481372   \n4                          Coamiles              Nayarit  21.921329   \n\n          lon         zona_horaria                             profesion  \\\n0         NaN                 None                    Bioquímico clínico   \n1 -106.967050    America/Monterrey  Trabajador de las artes comunitarias   \n2  -96.927312  America/Mexico_City     Ajustador de siniestros colegiado   \n3 -109.714600     America/Mazatlan                               Barista   \n4 -105.254371     America/Mazatlan           Periodista de radiodifusión   \n\n  color_fav  \n0    purple  \n1      gray  \n2     olive  \n3      blue  \n4      lime  \n\n[5 rows x 21 columns]",
      "text/html": "<div>\n<style scoped>\n    .dataframe tbody tr th:only-of-type {\n        vertical-align: middle;\n    }\n\n    .dataframe tbody tr th {\n        vertical-align: top;\n    }\n\n    .dataframe thead th {\n        text-align: right;\n    }\n</style>\n<table border=\"1\" class=\"dataframe\">\n  <thead>\n    <tr style=\"text-align: right;\">\n      <th></th>\n      <th>titulo</th>\n      <th>nombre</th>\n      <th>apellido_paterno</th>\n      <th>apellido_materno</th>\n      <th>fecha_nac</th>\n      <th>sexo</th>\n      <th>tipo_sangre</th>\n      <th>altura</th>\n      <th>peso</th>\n      <th>correo</th>\n      <th>...</th>\n      <th>calle</th>\n      <th>numero</th>\n      <th>cp</th>\n      <th>ciudad</th>\n      <th>estado</th>\n      <th>lat</th>\n      <th>lon</th>\n      <th>zona_horaria</th>\n      <th>profesion</th>\n      <th>color_fav</th>\n    </tr>\n  </thead>\n  <tbody>\n    <tr>\n      <th>0</th>\n      <td>Dra.</td>\n      <td>Itzel</td>\n      <td>Jaramillo</td>\n      <td>Montez</td>\n      <td>1992-09-19</td>\n      <td>M</td>\n      <td>A+</td>\n      <td>168.33</td>\n      <td>60.82</td>\n      <td>ijm92@example.org</td>\n      <td>...</td>\n      <td></td>\n      <td></td>\n      <td></td>\n      <td>Felipe Neri (Cuatepec)</td>\n      <td>Morelos</td>\n      <td>NaN</td>\n      <td>NaN</td>\n      <td>None</td>\n      <td>Bioquímico clínico</td>\n      <td>purple</td>\n    </tr>\n    <tr>\n      <th>1</th>\n      <td>None</td>\n      <td>Antonio</td>\n      <td>Saavedra</td>\n      <td>Rodríquez</td>\n      <td>1928-02-15</td>\n      <td>H</td>\n      <td>O+</td>\n      <td>181.54</td>\n      <td>58.93</td>\n      <td>antoniosaavedrarodriquez@example.net</td>\n      <td>...</td>\n      <td></td>\n      <td></td>\n      <td></td>\n      <td>Tamazula de Victoria</td>\n      <td>Durango</td>\n      <td>24.969009</td>\n      <td>-106.967050</td>\n      <td>America/Monterrey</td>\n      <td>Trabajador de las artes comunitarias</td>\n      <td>gray</td>\n    </tr>\n    <tr>\n      <th>2</th>\n      <td>Sra.</td>\n      <td>Noelia</td>\n      <td>Grijalva</td>\n      <td>Nieto</td>\n      <td>1917-05-03</td>\n      <td>M</td>\n      <td>A+</td>\n      <td>172.87</td>\n      <td>81.08</td>\n      <td>ngn1917@example.gob</td>\n      <td>...</td>\n      <td></td>\n      <td></td>\n      <td></td>\n      <td>Ixhuatlán del Café</td>\n      <td>Veracruz</td>\n      <td>19.026624</td>\n      <td>-96.927312</td>\n      <td>America/Mexico_City</td>\n      <td>Ajustador de siniestros colegiado</td>\n      <td>olive</td>\n    </tr>\n    <tr>\n      <th>3</th>\n      <td>Mtro.</td>\n      <td>Xavier</td>\n      <td>Lozada</td>\n      <td>Pelayo</td>\n      <td>1998-06-03</td>\n      <td>H</td>\n      <td>A+</td>\n      <td>166.86</td>\n      <td>76.48</td>\n      <td>xlozada@example.io</td>\n      <td>...</td>\n      <td></td>\n      <td></td>\n      <td></td>\n      <td>Santiago</td>\n      <td>Baja California Sur</td>\n      <td>23.481372</td>\n      <td>-109.714600</td>\n      <td>America/Mazatlan</td>\n      <td>Barista</td>\n      <td>blue</td>\n    </tr>\n    <tr>\n      <th>4</th>\n      <td>None</td>\n      <td>Raquel</td>\n      <td>Maya</td>\n      <td>Guajardo</td>\n      <td>1928-03-19</td>\n      <td>M</td>\n      <td>AB-</td>\n      <td>165.43</td>\n      <td>77.67</td>\n      <td>raquel_maya@example.gob</td>\n      <td>...</td>\n      <td></td>\n      <td></td>\n      <td></td>\n      <td>Coamiles</td>\n      <td>Nayarit</td>\n      <td>21.921329</td>\n      <td>-105.254371</td>\n      <td>America/Mazatlan</td>\n      <td>Periodista de radiodifusión</td>\n      <td>lime</td>\n    </tr>\n  </tbody>\n</table>\n<p>5 rows × 21 columns</p>\n</div>"
     },
     "execution_count": 187,
     "metadata": {},
     "output_type": "execute_result"
    }
   ],
   "source": [
    "fake = Faker(['es_MX'])\n",
    "personas = []\n",
    "for _ in range(5):\n",
    "\tsexo = rm.choice(['H', 'M'])\n",
    "\t# generar tipo de sangre y asignar probabilidad a cada valor para que salga\n",
    "\ttipo_sangre = rm.choices(['A+', 'A-', 'B+', 'B-', 'AB+', 'AB-', 'O+', 'O-'], weights = [30, 6, 9, 2, 4, 1, 39, 9])\n",
    "\ttipo_sangre = tipo_sangre[0]\n",
    "\n",
    "\tfecha_nac = fake.date_of_birth(minimum_age = int(reap['edad'].min()))\n",
    "\t# calcular edad en base a la fecha de nacimiento\n",
    "\tdia_actual = dt.date.today()\n",
    "\tedad = dia_actual.year - fecha_nac.year - ((dia_actual.month, dia_actual.day) < (fecha_nac.month, fecha_nac.day))\n",
    "\n",
    "\t# dependiendo de la edad se busca el margen de alturas y pesos que tenga esa edad\n",
    "\t# si es mayor que la edad maxima que este registrada se le da el margen de esa edad maxima\n",
    "\t# mucha gente deja de crecer a los 20\n",
    "\tmargen_ap = reap[(reap['edad'] == edad) if edad <= reap['edad'].max() else (reap['edad'] == reap['edad'].max())].reset_index()\n",
    "\n",
    "\t# dependiendo del sexo se generan nombres femeninos o masculinos\n",
    "\t# y estaturas y pesos dentro de su margen correspondiente\n",
    "\tif sexo == 'H':\n",
    "\t\ttitulo = rm.choice(['Sr.', 'Dr.', 'Mtro.', 'Lic.', 'Ing.']) if edad >= 18 and rm.randint(0, 1) else None\n",
    "\t\tnombre = rm.choice(nombres['h'])\n",
    "\t\taltura = round(rm.uniform(margen_ap['lim_inf.altura.h.cm'][0], margen_ap['lim_sup.altura.h.cm'][0]), 2)\n",
    "\t\tpeso = round(rm.uniform(margen_ap['lim_inf.peso.h.kg'][0], margen_ap['lim_sup.peso.h.kg'][0]), 2)\n",
    "\telse:\n",
    "\t\ttitulo = rm.choice(['Sra.', 'Dra.', 'Mtra.', 'Lic.', 'Ing.']) if edad >= 18 and rm.randint(0, 1) else None\n",
    "\t\tnombre = rm.choice(nombres['m'])\n",
    "\t\taltura = round(rm.uniform(margen_ap['lim_inf.altura.m.cm'][0], margen_ap['lim_sup.altura.m.cm'][0]), 2)\n",
    "\t\tpeso = round(rm.uniform(margen_ap['lim_inf.peso.m.kg'][0], margen_ap['lim_sup.peso.m.kg'][0]), 2)\n",
    "\n",
    "\tapellido_paterno = fake.last_name()\n",
    "\tapellido_materno = fake.last_name()\n",
    "\n",
    "\t# Generar un nombre de usuario para un email\n",
    "\tswitcher = {\n",
    "\t\t1: fake.user_name(),\n",
    "\t\t# aperez\n",
    "\t\t2: f'{nombre[0]}{apellido_paterno}',\n",
    "\t\t# alonso_perez\n",
    "\t\t3: f'{nombre}_{apellido_paterno}',\n",
    "\t\t# aps70\n",
    "\t\t4: f'{nombre[0]}{apellido_paterno[0]}{apellido_materno[0]}{fecha_nac.strftime(\"%y\")}',\n",
    "\t\t# aps1970\n",
    "\t\t5: f'{nombre[0]}{apellido_paterno[0]}{apellido_materno[0]}{fecha_nac.year}',\n",
    "\t\t# alonsoperezsoltero\n",
    "\t\t6: f'{nombre}{apellido_paterno}{apellido_materno}'\n",
    "\t}\n",
    "\trand_int = rm.randint(min(list(switcher.keys())), max(list(switcher.keys())))\n",
    "\tusuario = switcher.get(rand_int, 'usuario')\n",
    "\t# quitar espacios o reemplazarlos por un _\n",
    "\tusuario = usuario.replace(' ', rm.choice(['', '_'])).lower()\n",
    "\tusuario = quitar_acentos(usuario)\n",
    "\n",
    "\tsubdominio = rm.choice(['.com', '.net', '.io', '.gob', '.org', '.edu'])\n",
    "\tcorreo = usuario + f'@example{subdominio}'\n",
    "\n",
    "\tid_estado = rm.choice(ciudades['id_estado'].unique())\n",
    "\tct_ciudad = ciudades[ciudades['id_estado'] == id_estado].sample().values[0]\n",
    "\n",
    "\tciudad = ct_ciudad[2]\n",
    "\testado = ct_ciudad[1]\n",
    "\ttel = f'({ct_ciudad[3]})' + str(rm.randint(1000000, 9999999))\n",
    "\n",
    "\tdireccion = fake.street_address()\n",
    "\n",
    "\tdirecc_calle = fake.street_name()\n",
    "\tdirecc_numero = fake.building_number()\n",
    "\tdirecc_cp = fake.postcode()\n",
    "\n",
    "\tprofesion = profesiones.sample().values[0][0] if edad >= 18 else None\n",
    "\n",
    "\t# TODO si el catalogo ya tiene coordenadas puestas, tomar esas\n",
    "\n",
    "\t# obtener latitud y longitud segun la ciudad\n",
    "\tgeolocator = Nominatim(user_agent = 'geoapiExercises')\n",
    "\tlocation = geolocator.geocode(f'{ciudad}, {estado}, Mexico')\n",
    "\tif location:\n",
    "\t\tlat = location.latitude\n",
    "\t\tlon = location.longitude\n",
    "\t\t# obtener zona horaria segun latitud y longitud\n",
    "\t\tobj = TimezoneFinder()\n",
    "\t\ttimezone = obj.timezone_at(lng = location.longitude, lat = location.latitude)\n",
    "\telse:\n",
    "\t\tlat = lon = timezone = None\n",
    "\n",
    "\tpersonas.append({\n",
    "\t\t'titulo': titulo,\n",
    "\t\t'nombre': nombre,\n",
    "\t\t'apellido_paterno': apellido_paterno,\n",
    "\t\t'apellido_materno': apellido_materno,\n",
    "\t\t'fecha_nac': fecha_nac.strftime('%Y-%m-%d'),\n",
    "\t\t'sexo': sexo,\n",
    "\t\t'tipo_sangre': tipo_sangre,\n",
    "\t\t'altura': altura,\n",
    "\t\t'peso': peso,\n",
    "\t\t'correo': correo,\n",
    "\t\t'tel': tel,\n",
    "\t\t'calle': '',\n",
    "\t\t'numero': '',\n",
    "\t\t'cp': '',\n",
    "\t\t'ciudad': ciudad,\n",
    "\t\t'estado': estado,\n",
    "\t\t'lat': lat,\n",
    "\t\t'lon': lon,\n",
    "\t\t'zona_horaria': timezone,\n",
    "\t\t'profesion': profesion,\n",
    "\t\t'color_fav': fake.safe_color_name(),\n",
    "\t})\n",
    "pd.DataFrame(personas)"
   ]
  },
  {
   "cell_type": "code",
   "execution_count": 184,
   "metadata": {},
   "outputs": [
    {
     "data": {
      "text/plain": "    gender name.title name.first   name.last  location.street.number  \\\n56    male         Mr       Birk  Valderhaug                    5747   \n85    male         Mr      Daryl        Diaz                    9276   \n30    male   Monsieur      Mirco    Marchand                    8927   \n23    male         Mr     Timian        Horn                    5011   \n94  female     Madame     Celina     Lecomte                    2729   \n92  female         Ms     Sophie        Cole                    6304   \n87  female       Miss     Olivia       Brown                    5999   \n61    male         Mr    Léonard        Jean                    3472   \n\n       location.street.name location.city      location.state  \\\n56               Bryggegata       Arendal            Nordland   \n85          Pockrus Page Rd        Albany          Queensland   \n30        Cours Charlemagne       Albinen          Graubünden   \n23               Tåsenveien       Frogner          Aust-Agder   \n94  Avenue de la République      Courroux            Obwalden   \n92                 Green Rd     Melbourne  Northern Territory   \n87            Stuart Street       Rotorua          Wellington   \n61  Boulevard de la Duchère          Lyon              Loiret   \n\n   location.country location.postcode  location.coordinates.latitude  \\\n56           Norway              0440                        55.1941   \n85        Australia              8005                        10.7341   \n30      Switzerland              6604                       -37.5475   \n23           Norway              3725                        63.0719   \n94      Switzerland              6506                       -79.8239   \n92        Australia              8498                       -72.4738   \n87      New Zealand             76858                        81.3708   \n61           France             75250                        33.8556   \n\n    location.coordinates.longitude location.timezone.offset  \\\n56                       -101.4279                    +6:00   \n85                        100.3827                    +5:45   \n30                          6.5309                    +1:00   \n23                        -59.6271                    +8:00   \n94                         70.1142                    +6:00   \n92                         18.9564                    +9:00   \n87                        -84.4374                   +11:00   \n61                        -12.3204                     0:00   \n\n                      location.timezone.description  \\\n56                           Almaty, Dhaka, Colombo   \n85                                        Kathmandu   \n30              Brussels, Copenhagen, Madrid, Paris   \n23             Beijing, Perth, Singapore, Hong Kong   \n94                           Almaty, Dhaka, Colombo   \n92            Tokyo, Seoul, Osaka, Sapporo, Yakutsk   \n87          Magadan, Solomon Islands, New Caledonia   \n61  Western Europe Time, London, Lisbon, Casablanca   \n\n                          email                  dob.date  dob.age  \\\n56  birk.valderhaug@example.com  1986-09-23T07:27:29.397Z       36   \n85       daryl.diaz@example.com  1970-04-08T19:19:38.244Z       52   \n30   mirco.marchand@example.com  1983-11-05T21:01:31.023Z       39   \n23      timian.horn@example.com  1979-08-17T03:34:05.927Z       43   \n94   celina.lecomte@example.com  1961-08-29T10:30:07.010Z       61   \n92      sophie.cole@example.com  1994-05-23T12:33:48.602Z       28   \n87     olivia.brown@example.com  1963-01-29T02:56:26.430Z       59   \n61     leonard.jean@example.com  1978-06-28T13:59:42.263Z       44   \n\n             phone            cell  \n56        53371607        42579081  \n85    06-6232-6252    0448-354-319  \n30   077 332 38 43   079 849 88 82  \n23        67940365        43000066  \n94   079 154 62 70   075 509 81 45  \n92    02-4126-3787    0489-108-182  \n87  (137)-771-2991  (110)-352-6079  \n61  02-35-50-81-81  06-37-84-12-75  ",
      "text/html": "<div>\n<style scoped>\n    .dataframe tbody tr th:only-of-type {\n        vertical-align: middle;\n    }\n\n    .dataframe tbody tr th {\n        vertical-align: top;\n    }\n\n    .dataframe thead th {\n        text-align: right;\n    }\n</style>\n<table border=\"1\" class=\"dataframe\">\n  <thead>\n    <tr style=\"text-align: right;\">\n      <th></th>\n      <th>gender</th>\n      <th>name.title</th>\n      <th>name.first</th>\n      <th>name.last</th>\n      <th>location.street.number</th>\n      <th>location.street.name</th>\n      <th>location.city</th>\n      <th>location.state</th>\n      <th>location.country</th>\n      <th>location.postcode</th>\n      <th>location.coordinates.latitude</th>\n      <th>location.coordinates.longitude</th>\n      <th>location.timezone.offset</th>\n      <th>location.timezone.description</th>\n      <th>email</th>\n      <th>dob.date</th>\n      <th>dob.age</th>\n      <th>phone</th>\n      <th>cell</th>\n    </tr>\n  </thead>\n  <tbody>\n    <tr>\n      <th>56</th>\n      <td>male</td>\n      <td>Mr</td>\n      <td>Birk</td>\n      <td>Valderhaug</td>\n      <td>5747</td>\n      <td>Bryggegata</td>\n      <td>Arendal</td>\n      <td>Nordland</td>\n      <td>Norway</td>\n      <td>0440</td>\n      <td>55.1941</td>\n      <td>-101.4279</td>\n      <td>+6:00</td>\n      <td>Almaty, Dhaka, Colombo</td>\n      <td>birk.valderhaug@example.com</td>\n      <td>1986-09-23T07:27:29.397Z</td>\n      <td>36</td>\n      <td>53371607</td>\n      <td>42579081</td>\n    </tr>\n    <tr>\n      <th>85</th>\n      <td>male</td>\n      <td>Mr</td>\n      <td>Daryl</td>\n      <td>Diaz</td>\n      <td>9276</td>\n      <td>Pockrus Page Rd</td>\n      <td>Albany</td>\n      <td>Queensland</td>\n      <td>Australia</td>\n      <td>8005</td>\n      <td>10.7341</td>\n      <td>100.3827</td>\n      <td>+5:45</td>\n      <td>Kathmandu</td>\n      <td>daryl.diaz@example.com</td>\n      <td>1970-04-08T19:19:38.244Z</td>\n      <td>52</td>\n      <td>06-6232-6252</td>\n      <td>0448-354-319</td>\n    </tr>\n    <tr>\n      <th>30</th>\n      <td>male</td>\n      <td>Monsieur</td>\n      <td>Mirco</td>\n      <td>Marchand</td>\n      <td>8927</td>\n      <td>Cours Charlemagne</td>\n      <td>Albinen</td>\n      <td>Graubünden</td>\n      <td>Switzerland</td>\n      <td>6604</td>\n      <td>-37.5475</td>\n      <td>6.5309</td>\n      <td>+1:00</td>\n      <td>Brussels, Copenhagen, Madrid, Paris</td>\n      <td>mirco.marchand@example.com</td>\n      <td>1983-11-05T21:01:31.023Z</td>\n      <td>39</td>\n      <td>077 332 38 43</td>\n      <td>079 849 88 82</td>\n    </tr>\n    <tr>\n      <th>23</th>\n      <td>male</td>\n      <td>Mr</td>\n      <td>Timian</td>\n      <td>Horn</td>\n      <td>5011</td>\n      <td>Tåsenveien</td>\n      <td>Frogner</td>\n      <td>Aust-Agder</td>\n      <td>Norway</td>\n      <td>3725</td>\n      <td>63.0719</td>\n      <td>-59.6271</td>\n      <td>+8:00</td>\n      <td>Beijing, Perth, Singapore, Hong Kong</td>\n      <td>timian.horn@example.com</td>\n      <td>1979-08-17T03:34:05.927Z</td>\n      <td>43</td>\n      <td>67940365</td>\n      <td>43000066</td>\n    </tr>\n    <tr>\n      <th>94</th>\n      <td>female</td>\n      <td>Madame</td>\n      <td>Celina</td>\n      <td>Lecomte</td>\n      <td>2729</td>\n      <td>Avenue de la République</td>\n      <td>Courroux</td>\n      <td>Obwalden</td>\n      <td>Switzerland</td>\n      <td>6506</td>\n      <td>-79.8239</td>\n      <td>70.1142</td>\n      <td>+6:00</td>\n      <td>Almaty, Dhaka, Colombo</td>\n      <td>celina.lecomte@example.com</td>\n      <td>1961-08-29T10:30:07.010Z</td>\n      <td>61</td>\n      <td>079 154 62 70</td>\n      <td>075 509 81 45</td>\n    </tr>\n    <tr>\n      <th>92</th>\n      <td>female</td>\n      <td>Ms</td>\n      <td>Sophie</td>\n      <td>Cole</td>\n      <td>6304</td>\n      <td>Green Rd</td>\n      <td>Melbourne</td>\n      <td>Northern Territory</td>\n      <td>Australia</td>\n      <td>8498</td>\n      <td>-72.4738</td>\n      <td>18.9564</td>\n      <td>+9:00</td>\n      <td>Tokyo, Seoul, Osaka, Sapporo, Yakutsk</td>\n      <td>sophie.cole@example.com</td>\n      <td>1994-05-23T12:33:48.602Z</td>\n      <td>28</td>\n      <td>02-4126-3787</td>\n      <td>0489-108-182</td>\n    </tr>\n    <tr>\n      <th>87</th>\n      <td>female</td>\n      <td>Miss</td>\n      <td>Olivia</td>\n      <td>Brown</td>\n      <td>5999</td>\n      <td>Stuart Street</td>\n      <td>Rotorua</td>\n      <td>Wellington</td>\n      <td>New Zealand</td>\n      <td>76858</td>\n      <td>81.3708</td>\n      <td>-84.4374</td>\n      <td>+11:00</td>\n      <td>Magadan, Solomon Islands, New Caledonia</td>\n      <td>olivia.brown@example.com</td>\n      <td>1963-01-29T02:56:26.430Z</td>\n      <td>59</td>\n      <td>(137)-771-2991</td>\n      <td>(110)-352-6079</td>\n    </tr>\n    <tr>\n      <th>61</th>\n      <td>male</td>\n      <td>Mr</td>\n      <td>Léonard</td>\n      <td>Jean</td>\n      <td>3472</td>\n      <td>Boulevard de la Duchère</td>\n      <td>Lyon</td>\n      <td>Loiret</td>\n      <td>France</td>\n      <td>75250</td>\n      <td>33.8556</td>\n      <td>-12.3204</td>\n      <td>0:00</td>\n      <td>Western Europe Time, London, Lisbon, Casablanca</td>\n      <td>leonard.jean@example.com</td>\n      <td>1978-06-28T13:59:42.263Z</td>\n      <td>44</td>\n      <td>02-35-50-81-81</td>\n      <td>06-37-84-12-75</td>\n    </tr>\n  </tbody>\n</table>\n</div>"
     },
     "execution_count": 184,
     "metadata": {},
     "output_type": "execute_result"
    }
   ],
   "source": [
    "# mas info en https://randomuser.me/documentation\n",
    "url_api = 'https://randomuser.me/api?format=csv'\n",
    "params = {\n",
    "\t'results': 100,\n",
    "\t#'nat': 'es',\n",
    "\t#'password': '8-16,lower,upper,number,special',\n",
    "\t'exc': 'nat,picture,id,login,registered'\n",
    "}\n",
    "query = ''\n",
    "for k, v in params.items():\n",
    "\tif isinstance(v, int): v = str(v)\n",
    "\tquery += '&' + k + '=' + v\n",
    "url = url_api + query\n",
    "\n",
    "personas = pd.read_csv(url)\n",
    "personas.sample(8)"
   ]
  },
  {
   "cell_type": "code",
   "execution_count": 172,
   "outputs": [],
   "source": [],
   "metadata": {
    "collapsed": false,
    "pycharm": {
     "name": "#%%\n"
    }
   }
  }
 ],
 "metadata": {
  "interpreter": {
   "hash": "d1d36ff2b2d56704b5886b300809e7ae7b71f63f5d49375ee129e81da3216a45"
  },
  "kernelspec": {
   "display_name": "Python 3.9.11 64-bit (windows store)",
   "language": "python",
   "name": "python3"
  },
  "language_info": {
   "codemirror_mode": {
    "name": "ipython",
    "version": 3
   },
   "file_extension": ".py",
   "mimetype": "text/x-python",
   "name": "python",
   "nbconvert_exporter": "python",
   "pygments_lexer": "ipython3",
   "version": "3.9.12"
  },
  "orig_nbformat": 4
 },
 "nbformat": 4,
 "nbformat_minor": 2
}