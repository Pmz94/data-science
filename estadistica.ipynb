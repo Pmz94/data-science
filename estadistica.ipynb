{
 "cells": [
  {
   "cell_type": "markdown",
   "metadata": {},
   "source": [
    "# Estadistica descriptiva"
   ]
  },
  {
   "cell_type": "code",
   "execution_count": 1,
   "metadata": {},
   "outputs": [],
   "source": [
    "# Importar los paquetes que necesitaremos\n",
    "import math\n",
    "import numpy as np\n",
    "import scipy.stats as st\n",
    "import pandas as pd\n",
    "from prettytable import PrettyTable"
   ]
  },
  {
   "cell_type": "markdown",
   "metadata": {},
   "source": [
    "Se tiene una muestra de 48 piezas hechas de una aleación de aluminio y litio para probar su resistencia a la tension y ver si sirve como material para fabricar un avión, se prueban y se anotan las libras por pulgada (psi) a las que aguantó cada pieza."
   ]
  },
  {
   "cell_type": "code",
   "execution_count": 2,
   "metadata": {},
   "outputs": [],
   "source": [
    "x = [\n",
    "    105,97,245,163,207,134,221,154,\n",
    "    228,131,180,178,190,76,101,142,\n",
    "    149,200,186,174,199,115,87,176,\n",
    "    121,120,181,160,194,160,181,170,\n",
    "    237,171,172,133,180,167,176,158,\n",
    "    156,229,143,141,110,133,123,146\n",
    "]"
   ]
  },
  {
   "cell_type": "markdown",
   "metadata": {},
   "source": [
    "Primero vamos a sacar alguna informacion basica"
   ]
  },
  {
   "cell_type": "code",
   "execution_count": 3,
   "metadata": {},
   "outputs": [
    {
     "data": {
      "text/plain": "(48, 76, 245, 169, 160.41666666666666)"
     },
     "execution_count": 3,
     "metadata": {},
     "output_type": "execute_result"
    }
   ],
   "source": [
    "n = len(x) # tamaño de muestra\n",
    "minimo = min(x) # dato mas chico de la muestra\n",
    "maximo = max(x) # dato mas grande de la muestra\n",
    "rango = maximo - minimo\n",
    "promedio = sum(x) / n\n",
    "n, minimo, maximo, rango, promedio"
   ]
  },
  {
   "cell_type": "markdown",
   "metadata": {},
   "source": [
    "Para sacar la mediana hay que ordenar de menor a mayor los datos y encontrar el dato que este justo en medio"
   ]
  },
  {
   "cell_type": "code",
   "execution_count": 4,
   "metadata": {},
   "outputs": [
    {
     "data": {
      "text/plain": "161.5"
     },
     "execution_count": 4,
     "metadata": {},
     "output_type": "execute_result"
    }
   ],
   "source": [
    "# ordenar los datos\n",
    "x = sorted(x)\n",
    "# ver si n es par o impar\n",
    "# a n le restamos 1 porque las listas incluyen el 0 como primera posicion\n",
    "if n % 2 == 0:\n",
    "   # si es par\n",
    "   mediana = (x[int((n - 1) / 2)] + x[int((n - 1) / 2) + 1]) / 2\n",
    "else:\n",
    "   # si es impar\n",
    "   mediana = x[int(((n - 1) + 1) / 2)]\n",
    "mediana"
   ]
  },
  {
   "cell_type": "markdown",
   "metadata": {},
   "source": [
    "Tambien puede ser sacada con una funcion que tiene el paquete numpy"
   ]
  },
  {
   "cell_type": "code",
   "execution_count": 5,
   "metadata": {},
   "outputs": [
    {
     "data": {
      "text/plain": "161.5"
     },
     "execution_count": 5,
     "metadata": {},
     "output_type": "execute_result"
    }
   ],
   "source": [
    "mediana = np.median(x)\n",
    "mediana"
   ]
  },
  {
   "cell_type": "markdown",
   "metadata": {},
   "source": [
    "Para sacar la moda, nomas hay que buscar el dato que mas frecuencia tenga"
   ]
  },
  {
   "cell_type": "code",
   "execution_count": 6,
   "metadata": {},
   "outputs": [
    {
     "data": {
      "text/plain": "133"
     },
     "execution_count": 6,
     "metadata": {},
     "output_type": "execute_result"
    }
   ],
   "source": [
    "moda = x[0]\n",
    "counter = 0\n",
    "for i in x:\n",
    "    curr_frequency = x.count(i)\n",
    "    if curr_frequency > counter:\n",
    "        counter = curr_frequency\n",
    "        moda = i\n",
    "del i, counter, curr_frequency\n",
    "moda"
   ]
  },
  {
   "cell_type": "markdown",
   "metadata": {},
   "source": [
    "O bien, con una funcion que tiene el paquete de scipy.stats"
   ]
  },
  {
   "cell_type": "code",
   "execution_count": 7,
   "metadata": {},
   "outputs": [
    {
     "data": {
      "text/plain": "133"
     },
     "execution_count": 7,
     "metadata": {},
     "output_type": "execute_result"
    }
   ],
   "source": [
    "moda = st.mode(x)\n",
    "moda.mode[0]"
   ]
  },
  {
   "cell_type": "markdown",
   "metadata": {},
   "source": [
    "Para sacar la varianza\n",
    "* Primero se saca la resta de cada dato con el promedio y luego se eleva al cuadrado\n",
    "* Luego se suman entre si los resultados de estas restas\n",
    "* Luego se divide entre la resta de n y 1\n",
    "\n",
    "OJO, cuando es una muestra se resta n - 1, cuando es una poblacion, a n no se le resta nada"
   ]
  },
  {
   "cell_type": "code",
   "execution_count": 8,
   "metadata": {},
   "outputs": [
    {
     "data": {
      "text/plain": "1566.9716312056742"
     },
     "execution_count": 8,
     "metadata": {},
     "output_type": "execute_result"
    }
   ],
   "source": [
    "sum([(i - promedio) ** 2 for i in x]) / (n - 1)"
   ]
  },
  {
   "cell_type": "markdown",
   "metadata": {},
   "source": [
    "Pero tambien existe esta funcion dentro del paquete de numpy"
   ]
  },
  {
   "cell_type": "code",
   "execution_count": 9,
   "metadata": {},
   "outputs": [
    {
     "data": {
      "text/plain": "1566.9716312056735"
     },
     "execution_count": 9,
     "metadata": {},
     "output_type": "execute_result"
    }
   ],
   "source": [
    "# como x es una muestra, se agrega el parametro ddof con valor 1 para que haga la resta de (n - 1) al dividir\n",
    "varianza = np.var(x, ddof = 1)\n",
    "varianza"
   ]
  },
  {
   "cell_type": "markdown",
   "metadata": {},
   "source": [
    "Para sacar la desviacion estandar nomas saque la raiz cuadrada de la varianza"
   ]
  },
  {
   "cell_type": "code",
   "execution_count": 10,
   "metadata": {},
   "outputs": [
    {
     "data": {
      "text/plain": "(39.584992499755174, 39.584992499755174)"
     },
     "execution_count": 10,
     "metadata": {},
     "output_type": "execute_result"
    }
   ],
   "source": [
    "# puede sacarse de estas dos maneras\n",
    "varianza ** 0.5, math.sqrt(varianza)"
   ]
  },
  {
   "cell_type": "markdown",
   "metadata": {},
   "source": [
    "O bien, use la formula que incluye numpy"
   ]
  },
  {
   "cell_type": "code",
   "execution_count": 11,
   "metadata": {},
   "outputs": [
    {
     "data": {
      "text/plain": "39.584992499755174"
     },
     "execution_count": 11,
     "metadata": {},
     "output_type": "execute_result"
    }
   ],
   "source": [
    "# aqui tambien ocupa el parametro ddof = 1\n",
    "desv = np.std(x, ddof = 1)\n",
    "desv"
   ]
  },
  {
   "cell_type": "markdown",
   "metadata": {},
   "source": [
    "Sesgo (o asimetria)\n",
    "\n",
    "Si los datos están sesgados, su media, mediana y moda son diferentes.\n",
    "* Si la moda = mediana = media la distribución es simétrica.\n",
    "* Si la moda < mediana < media la distribución esta sesgada a la derecha o tiene sesgo positivo.\n",
    "* Si la moda > mediana > media la distribución esta sesgada a la izquierda o tiene sesgo negativo.\n",
    "\n",
    "Curtosis\n",
    "\n",
    "Hay 3 tipos de curtosis para las distribuciones de datos:\n",
    "* Si la curtosis > 0 es Leptocúrtica. Hay mucha concentración de datos en la media.\n",
    "* Si la curtosis = 0 es Mesocúrtica. Tiene una distribución normal.\n",
    "* Si la curtosis < 0 es Platicúrtica. Hay muy poca concentración de datos en la media."
   ]
  },
  {
   "cell_type": "code",
   "execution_count": 12,
   "metadata": {},
   "outputs": [
    {
     "data": {
      "text/plain": "(0.04102203130909817, -0.4047075284407917)"
     },
     "execution_count": 12,
     "metadata": {},
     "output_type": "execute_result"
    }
   ],
   "source": [
    "sesgo = st.skew(x)\n",
    "curtosis = st.kurtosis(x)\n",
    "sesgo, curtosis"
   ]
  },
  {
   "cell_type": "markdown",
   "metadata": {},
   "source": [
    "Hay un dato que se llama error tipico o error estandar.\n",
    "Este vendria siendo parte del margen de error que se calcula para encontrar el promedio poblacional.\n",
    "Se halla dividiendo la desviación estandar entre la raíz cuadrada del tamaño de la muestra."
   ]
  },
  {
   "cell_type": "code",
   "execution_count": 13,
   "metadata": {},
   "outputs": [
    {
     "data": {
      "text/plain": "5.713601518900742"
     },
     "execution_count": 13,
     "metadata": {},
     "output_type": "execute_result"
    }
   ],
   "source": [
    "error_tipico = desv / (n ** 0.5)\n",
    "error_tipico"
   ]
  },
  {
   "cell_type": "markdown",
   "metadata": {},
   "source": [
    "Acomodamos todo para presentar la estadistica descriptiva de los datos"
   ]
  },
  {
   "cell_type": "code",
   "execution_count": 14,
   "metadata": {},
   "outputs": [
    {
     "data": {
      "text/plain": "+----------+-------------------------------------------------+\n|  campo   |                      valor                      |\n+----------+-------------------------------------------------+\n|    n     |                        48                       |\n|  minimo  |                        76                       |\n|  maximo  |                       245                       |\n|  rango   |                       169                       |\n| promedio |                160.41666666666666               |\n| mediana  |                      161.5                      |\n|   moda   | ModeResult(mode=array([133]), count=array([2])) |\n| varianza |                1566.9716312056735               |\n|   desv   |                39.584992499755174               |\n|  sesgo   |               0.04102203130909817               |\n| curtosis |               -0.4047075284407917               |\n+----------+-------------------------------------------------+",
      "text/html": "<table>\n    <thead>\n        <tr>\n            <th>campo</th>\n            <th>valor</th>\n        </tr>\n    </thead>\n    <tbody>\n        <tr>\n            <td>n</td>\n            <td>48</td>\n        </tr>\n        <tr>\n            <td>minimo</td>\n            <td>76</td>\n        </tr>\n        <tr>\n            <td>maximo</td>\n            <td>245</td>\n        </tr>\n        <tr>\n            <td>rango</td>\n            <td>169</td>\n        </tr>\n        <tr>\n            <td>promedio</td>\n            <td>160.41666666666666</td>\n        </tr>\n        <tr>\n            <td>mediana</td>\n            <td>161.5</td>\n        </tr>\n        <tr>\n            <td>moda</td>\n            <td>ModeResult(mode=array([133]), count=array([2]))</td>\n        </tr>\n        <tr>\n            <td>varianza</td>\n            <td>1566.9716312056735</td>\n        </tr>\n        <tr>\n            <td>desv</td>\n            <td>39.584992499755174</td>\n        </tr>\n        <tr>\n            <td>sesgo</td>\n            <td>0.04102203130909817</td>\n        </tr>\n        <tr>\n            <td>curtosis</td>\n            <td>-0.4047075284407917</td>\n        </tr>\n    </tbody>\n</table>"
     },
     "execution_count": 14,
     "metadata": {},
     "output_type": "execute_result"
    }
   ],
   "source": [
    "tabla = PrettyTable(['campo', 'valor'])\n",
    "tabla.add_rows([\n",
    "    ('n', n),\n",
    "    ('minimo', minimo),\n",
    "    ('maximo', maximo),\n",
    "    ('rango', rango),\n",
    "    ('promedio', promedio),\n",
    "    ('mediana', mediana),\n",
    "    ('moda', moda),\n",
    "    ('varianza', varianza),\n",
    "    ('desv', desv),\n",
    "    ('sesgo', sesgo),\n",
    "    ('curtosis', curtosis)\n",
    "])\n",
    "\n",
    "tabla"
   ]
  },
  {
   "cell_type": "markdown",
   "metadata": {},
   "source": [
    "O bien, puede usar una de estas funciones"
   ]
  },
  {
   "cell_type": "code",
   "execution_count": 15,
   "metadata": {},
   "outputs": [
    {
     "data": {
      "text/plain": "DescribeResult(nobs=48, minmax=(76, 245), mean=160.41666666666666, variance=1566.9716312056735, skewness=0.04102203130909817, kurtosis=-0.4047075284407917)"
     },
     "execution_count": 15,
     "metadata": {},
     "output_type": "execute_result"
    }
   ],
   "source": [
    "st.describe(x)"
   ]
  },
  {
   "cell_type": "code",
   "execution_count": 16,
   "metadata": {},
   "outputs": [
    {
     "data": {
      "text/plain": "                0\ncount   48.000000\nmean   160.416667\nstd     39.584992\nmin     76.000000\n25%    133.000000\n50%    161.500000\n75%    181.000000\nmax    245.000000",
      "text/html": "<div>\n<style scoped>\n    .dataframe tbody tr th:only-of-type {\n        vertical-align: middle;\n    }\n\n    .dataframe tbody tr th {\n        vertical-align: top;\n    }\n\n    .dataframe thead th {\n        text-align: right;\n    }\n</style>\n<table border=\"1\" class=\"dataframe\">\n  <thead>\n    <tr style=\"text-align: right;\">\n      <th></th>\n      <th>0</th>\n    </tr>\n  </thead>\n  <tbody>\n    <tr>\n      <th>count</th>\n      <td>48.000000</td>\n    </tr>\n    <tr>\n      <th>mean</th>\n      <td>160.416667</td>\n    </tr>\n    <tr>\n      <th>std</th>\n      <td>39.584992</td>\n    </tr>\n    <tr>\n      <th>min</th>\n      <td>76.000000</td>\n    </tr>\n    <tr>\n      <th>25%</th>\n      <td>133.000000</td>\n    </tr>\n    <tr>\n      <th>50%</th>\n      <td>161.500000</td>\n    </tr>\n    <tr>\n      <th>75%</th>\n      <td>181.000000</td>\n    </tr>\n    <tr>\n      <th>max</th>\n      <td>245.000000</td>\n    </tr>\n  </tbody>\n</table>\n</div>"
     },
     "execution_count": 16,
     "metadata": {},
     "output_type": "execute_result"
    }
   ],
   "source": [
    "pd.DataFrame(x).describe()"
   ]
  }
 ],
 "metadata": {
  "interpreter": {
   "hash": "d1d36ff2b2d56704b5886b300809e7ae7b71f63f5d49375ee129e81da3216a45"
  },
  "kernelspec": {
   "display_name": "Python 3.9.10 64-bit (windows store)",
   "language": "python",
   "name": "python3"
  },
  "language_info": {
   "codemirror_mode": {
    "name": "ipython",
    "version": 3
   },
   "file_extension": ".py",
   "mimetype": "text/x-python",
   "name": "python",
   "nbconvert_exporter": "python",
   "pygments_lexer": "ipython3",
   "version": "3.9.10"
  },
  "orig_nbformat": 4
 },
 "nbformat": 4,
 "nbformat_minor": 2
}