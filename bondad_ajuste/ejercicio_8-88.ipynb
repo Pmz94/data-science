{
 "cells": [
  {
   "cell_type": "markdown",
   "metadata": {
    "collapsed": true,
    "pycharm": {
     "name": "#%% md\n"
    }
   },
   "source": [
    "# Prueba de bondad de ajuste"
   ]
  },
  {
   "cell_type": "code",
   "execution_count": 1,
   "metadata": {
    "collapsed": false,
    "pycharm": {
     "name": "#%%\n"
    }
   },
   "outputs": [],
   "source": [
    "import numpy as np\n",
    "import pandas as pd\n",
    "import seaborn as sns\n",
    "import matplotlib.pyplot as plt\n",
    "import scipy.stats as st\n",
    "from fitter import Fitter"
   ]
  },
  {
   "cell_type": "markdown",
   "metadata": {
    "collapsed": false
   },
   "source": [
    "## Ejercicio 8-88\n",
    "\n",
    "Se observa y se anota la duracion en segundos que tarda un programa en ejecutarse."
   ]
  },
  {
   "cell_type": "code",
   "execution_count": 2,
   "metadata": {
    "collapsed": false,
    "pycharm": {
     "name": "#%%\n"
    }
   },
   "outputs": [],
   "source": [
    "tiempos = [\n",
    "\t(2.10, 16),\n",
    "\t(2.11, 28),\n",
    "\t(2.12, 41),\n",
    "\t(2.13, 74),\n",
    "\t(2.14, 149),\n",
    "\t(2.15, 256),\n",
    "\t(2.16, 137),\n",
    "\t(2.17, 82),\n",
    "\t(2.18, 40),\n",
    "\t(2.19, 19),\n",
    "\t(2.20, 11),\n",
    "]"
   ]
  },
  {
   "cell_type": "markdown",
   "metadata": {
    "collapsed": false
   },
   "source": [
    "a) La distribucion normal parece ser un modelo de probabilidad razonable para la duracion de la ejecucion? Utilize $\\alpha$ = 0.05\n",
    "<br>\n",
    "b) Encuentre el P-valor de esta prueba."
   ]
  },
  {
   "cell_type": "code",
   "execution_count": 3,
   "metadata": {
    "collapsed": false,
    "pycharm": {
     "name": "#%%\n"
    }
   },
   "outputs": [],
   "source": [
    "tiempos_des = []\n",
    "for tupla in tiempos:\n",
    "\tfor _ in range(tupla[1]):\n",
    "\t\ttiempos_des.append(tupla[0])\n",
    "tiempos = tiempos_des\n",
    "del tiempos_des"
   ]
  },
  {
   "cell_type": "code",
   "execution_count": 4,
   "metadata": {
    "collapsed": false,
    "pycharm": {
     "name": "#%%\n"
    }
   },
   "outputs": [
    {
     "data": {
      "image/png": "[encoded data removed]",
      "text/plain": [
       "<Figure size 432x288 with 1 Axes>"
      ]
     },
     "metadata": {},
     "output_type": "display_data"
    }
   ],
   "source": [
    "sns.set_style('darkgrid')\n",
    "sns.histplot(tiempos, bins = 'sturges')\n",
    "plt.xlabel('Segundos')\n",
    "plt.title('Segundos en los que tarda en correr un programa')\n",
    "plt.show()"
   ]
  },
  {
   "cell_type": "code",
   "execution_count": 5,
   "metadata": {
    "collapsed": false,
    "pycharm": {
     "name": "#%%\n"
    }
   },
   "outputs": [
    {
     "data": {
      "text/plain": [
       "(853, 2.1492966002344667, 0.018945778130164553)"
      ]
     },
     "execution_count": 5,
     "metadata": {},
     "output_type": "execute_result"
    }
   ],
   "source": [
    "n = len(tiempos)\n",
    "media = np.mean(tiempos)\n",
    "desv = np.std(tiempos)\n",
    "n, media, desv"
   ]
  },
  {
   "cell_type": "code",
   "execution_count": 6,
   "metadata": {},
   "outputs": [
    {
     "data": {
      "text/plain": [
       "[-inf,\n",
       " 2.105,\n",
       " 2.1149999999999998,\n",
       " 2.1249999999999996,\n",
       " 2.1349999999999993,\n",
       " 2.144999999999999,\n",
       " 2.154999999999999,\n",
       " 2.1649999999999987,\n",
       " 2.1749999999999985,\n",
       " 2.1849999999999983,\n",
       " 2.194999999999998,\n",
       " inf]"
      ]
     },
     "execution_count": 6,
     "metadata": {},
     "output_type": "execute_result"
    }
   ],
   "source": [
    "intervalo = np.arange(min(tiempos) + 0.005, max(tiempos), 0.010)\n",
    "intervalo = intervalo.tolist()\n",
    "intervalo.insert(0, -np.inf)\n",
    "intervalo.append(np.inf)\n",
    "intervalo"
   ]
  },
  {
   "cell_type": "code",
   "execution_count": 7,
   "metadata": {
    "collapsed": false,
    "pycharm": {
     "name": "#%%\n"
    }
   },
   "outputs": [
    {
     "data": {
      "text/html": [
       "<div>\n",
       "<style scoped>\n",
       "    .dataframe tbody tr th:only-of-type {\n",
       "        vertical-align: middle;\n",
       "    }\n",
       "\n",
       "    .dataframe tbody tr th {\n",
       "        vertical-align: top;\n",
       "    }\n",
       "\n",
       "    .dataframe thead th {\n",
       "        text-align: right;\n",
       "    }\n",
       "</style>\n",
       "<table border=\"1\" class=\"dataframe\">\n",
       "  <thead>\n",
       "    <tr style=\"text-align: right;\">\n",
       "      <th></th>\n",
       "      <th>lim_inf</th>\n",
       "      <th>lim_sup</th>\n",
       "    </tr>\n",
       "  </thead>\n",
       "  <tbody>\n",
       "    <tr>\n",
       "      <th>0</th>\n",
       "      <td>-inf</td>\n",
       "      <td>2.105</td>\n",
       "    </tr>\n",
       "    <tr>\n",
       "      <th>1</th>\n",
       "      <td>2.105</td>\n",
       "      <td>2.115</td>\n",
       "    </tr>\n",
       "    <tr>\n",
       "      <th>2</th>\n",
       "      <td>2.115</td>\n",
       "      <td>2.125</td>\n",
       "    </tr>\n",
       "    <tr>\n",
       "      <th>3</th>\n",
       "      <td>2.125</td>\n",
       "      <td>2.135</td>\n",
       "    </tr>\n",
       "    <tr>\n",
       "      <th>4</th>\n",
       "      <td>2.135</td>\n",
       "      <td>2.145</td>\n",
       "    </tr>\n",
       "    <tr>\n",
       "      <th>5</th>\n",
       "      <td>2.145</td>\n",
       "      <td>2.155</td>\n",
       "    </tr>\n",
       "    <tr>\n",
       "      <th>6</th>\n",
       "      <td>2.155</td>\n",
       "      <td>2.165</td>\n",
       "    </tr>\n",
       "    <tr>\n",
       "      <th>7</th>\n",
       "      <td>2.165</td>\n",
       "      <td>2.175</td>\n",
       "    </tr>\n",
       "    <tr>\n",
       "      <th>8</th>\n",
       "      <td>2.175</td>\n",
       "      <td>2.185</td>\n",
       "    </tr>\n",
       "    <tr>\n",
       "      <th>9</th>\n",
       "      <td>2.185</td>\n",
       "      <td>2.195</td>\n",
       "    </tr>\n",
       "    <tr>\n",
       "      <th>10</th>\n",
       "      <td>2.195</td>\n",
       "      <td>inf</td>\n",
       "    </tr>\n",
       "  </tbody>\n",
       "</table>\n",
       "</div>"
      ],
      "text/plain": [
       "    lim_inf  lim_sup\n",
       "0      -inf    2.105\n",
       "1     2.105    2.115\n",
       "2     2.115    2.125\n",
       "3     2.125    2.135\n",
       "4     2.135    2.145\n",
       "5     2.145    2.155\n",
       "6     2.155    2.165\n",
       "7     2.165    2.175\n",
       "8     2.175    2.185\n",
       "9     2.185    2.195\n",
       "10    2.195      inf"
      ]
     },
     "execution_count": 7,
     "metadata": {},
     "output_type": "execute_result"
    }
   ],
   "source": [
    "df = pd.DataFrame({'lim_inf': intervalo[:-1], 'lim_sup': intervalo[1:]})\n",
    "df"
   ]
  },
  {
   "cell_type": "code",
   "execution_count": 8,
   "metadata": {
    "collapsed": false,
    "pycharm": {
     "name": "#%%\n"
    }
   },
   "outputs": [
    {
     "data": {
      "text/html": [
       "<div>\n",
       "<style scoped>\n",
       "    .dataframe tbody tr th:only-of-type {\n",
       "        vertical-align: middle;\n",
       "    }\n",
       "\n",
       "    .dataframe tbody tr th {\n",
       "        vertical-align: top;\n",
       "    }\n",
       "\n",
       "    .dataframe thead th {\n",
       "        text-align: right;\n",
       "    }\n",
       "</style>\n",
       "<table border=\"1\" class=\"dataframe\">\n",
       "  <thead>\n",
       "    <tr style=\"text-align: right;\">\n",
       "      <th></th>\n",
       "      <th>lim_inf</th>\n",
       "      <th>lim_sup</th>\n",
       "      <th>oi</th>\n",
       "    </tr>\n",
       "  </thead>\n",
       "  <tbody>\n",
       "    <tr>\n",
       "      <th>0</th>\n",
       "      <td>-inf</td>\n",
       "      <td>2.105</td>\n",
       "      <td>16</td>\n",
       "    </tr>\n",
       "    <tr>\n",
       "      <th>1</th>\n",
       "      <td>2.105</td>\n",
       "      <td>2.115</td>\n",
       "      <td>28</td>\n",
       "    </tr>\n",
       "    <tr>\n",
       "      <th>2</th>\n",
       "      <td>2.115</td>\n",
       "      <td>2.125</td>\n",
       "      <td>41</td>\n",
       "    </tr>\n",
       "    <tr>\n",
       "      <th>3</th>\n",
       "      <td>2.125</td>\n",
       "      <td>2.135</td>\n",
       "      <td>74</td>\n",
       "    </tr>\n",
       "    <tr>\n",
       "      <th>4</th>\n",
       "      <td>2.135</td>\n",
       "      <td>2.145</td>\n",
       "      <td>149</td>\n",
       "    </tr>\n",
       "    <tr>\n",
       "      <th>5</th>\n",
       "      <td>2.145</td>\n",
       "      <td>2.155</td>\n",
       "      <td>256</td>\n",
       "    </tr>\n",
       "    <tr>\n",
       "      <th>6</th>\n",
       "      <td>2.155</td>\n",
       "      <td>2.165</td>\n",
       "      <td>137</td>\n",
       "    </tr>\n",
       "    <tr>\n",
       "      <th>7</th>\n",
       "      <td>2.165</td>\n",
       "      <td>2.175</td>\n",
       "      <td>82</td>\n",
       "    </tr>\n",
       "    <tr>\n",
       "      <th>8</th>\n",
       "      <td>2.175</td>\n",
       "      <td>2.185</td>\n",
       "      <td>40</td>\n",
       "    </tr>\n",
       "    <tr>\n",
       "      <th>9</th>\n",
       "      <td>2.185</td>\n",
       "      <td>2.195</td>\n",
       "      <td>19</td>\n",
       "    </tr>\n",
       "    <tr>\n",
       "      <th>10</th>\n",
       "      <td>2.195</td>\n",
       "      <td>inf</td>\n",
       "      <td>11</td>\n",
       "    </tr>\n",
       "  </tbody>\n",
       "</table>\n",
       "</div>"
      ],
      "text/plain": [
       "    lim_inf  lim_sup   oi\n",
       "0      -inf    2.105   16\n",
       "1     2.105    2.115   28\n",
       "2     2.115    2.125   41\n",
       "3     2.125    2.135   74\n",
       "4     2.135    2.145  149\n",
       "5     2.145    2.155  256\n",
       "6     2.155    2.165  137\n",
       "7     2.165    2.175   82\n",
       "8     2.175    2.185   40\n",
       "9     2.185    2.195   19\n",
       "10    2.195      inf   11"
      ]
     },
     "execution_count": 8,
     "metadata": {},
     "output_type": "execute_result"
    }
   ],
   "source": [
    "df['oi'] = df.apply(lambda i: sum([i['lim_inf'] <= x < i['lim_sup'] for x in sorted(tiempos)]), axis = 1)\n",
    "df"
   ]
  },
  {
   "cell_type": "markdown",
   "metadata": {
    "collapsed": false
   },
   "source": [
    "Para sacar la probabilidad de una distribucion normal, primero hay que sacar *\"la ultima letra\"*\n",
    "<br>\n",
    "$Z = \\frac{x - \\mu}{\\sigma}$\n",
    "<br>\n",
    "Ya con esto podemos sacar la probabilidad en base a lo que obtuvimos en *Z*\n",
    "<br>\n",
    "$P(Z \\le Z_{li})$\n",
    "<br>\n",
    "Pero como aqui son intervalos hay que hacerlo asi:\n",
    "<br>\n",
    "$P(li \\le x < ls) = P(Z_{li} \\le Z < Z_{ls})$\n",
    "<br>\n",
    "que puede sacarse como la resta de dos probabilidades\n",
    "<br>\n",
    "$p_{i} = P(Z < Z_{ls}) - P(Z \\le Z_{li})$\n",
    "<br>\n",
    "Y para el ultimo intervalo\n",
    "<br>\n",
    "$1 - P(Z > Z_{li})$\n",
    "<br>"
   ]
  },
  {
   "cell_type": "code",
   "execution_count": 9,
   "metadata": {
    "collapsed": false,
    "pycharm": {
     "name": "#%%\n"
    }
   },
   "outputs": [
    {
     "data": {
      "text/html": [
       "<div>\n",
       "<style scoped>\n",
       "    .dataframe tbody tr th:only-of-type {\n",
       "        vertical-align: middle;\n",
       "    }\n",
       "\n",
       "    .dataframe tbody tr th {\n",
       "        vertical-align: top;\n",
       "    }\n",
       "\n",
       "    .dataframe thead th {\n",
       "        text-align: right;\n",
       "    }\n",
       "</style>\n",
       "<table border=\"1\" class=\"dataframe\">\n",
       "  <thead>\n",
       "    <tr style=\"text-align: right;\">\n",
       "      <th></th>\n",
       "      <th>lim_inf</th>\n",
       "      <th>lim_sup</th>\n",
       "      <th>oi</th>\n",
       "      <th>z_inf</th>\n",
       "      <th>z_sup</th>\n",
       "      <th>p</th>\n",
       "    </tr>\n",
       "  </thead>\n",
       "  <tbody>\n",
       "    <tr>\n",
       "      <th>0</th>\n",
       "      <td>-inf</td>\n",
       "      <td>2.105</td>\n",
       "      <td>16</td>\n",
       "      <td>-inf</td>\n",
       "      <td>-2.338072</td>\n",
       "      <td>0.009692</td>\n",
       "    </tr>\n",
       "    <tr>\n",
       "      <th>1</th>\n",
       "      <td>2.105</td>\n",
       "      <td>2.115</td>\n",
       "      <td>28</td>\n",
       "      <td>-2.338072</td>\n",
       "      <td>-1.810250</td>\n",
       "      <td>0.025437</td>\n",
       "    </tr>\n",
       "    <tr>\n",
       "      <th>2</th>\n",
       "      <td>2.115</td>\n",
       "      <td>2.125</td>\n",
       "      <td>41</td>\n",
       "      <td>-1.810250</td>\n",
       "      <td>-1.282428</td>\n",
       "      <td>0.064718</td>\n",
       "    </tr>\n",
       "    <tr>\n",
       "      <th>3</th>\n",
       "      <td>2.125</td>\n",
       "      <td>2.135</td>\n",
       "      <td>74</td>\n",
       "      <td>-1.282428</td>\n",
       "      <td>-0.754606</td>\n",
       "      <td>0.125396</td>\n",
       "    </tr>\n",
       "    <tr>\n",
       "      <th>4</th>\n",
       "      <td>2.135</td>\n",
       "      <td>2.145</td>\n",
       "      <td>149</td>\n",
       "      <td>-0.754606</td>\n",
       "      <td>-0.226784</td>\n",
       "      <td>0.185053</td>\n",
       "    </tr>\n",
       "    <tr>\n",
       "      <th>5</th>\n",
       "      <td>2.145</td>\n",
       "      <td>2.155</td>\n",
       "      <td>256</td>\n",
       "      <td>-0.226784</td>\n",
       "      <td>0.301038</td>\n",
       "      <td>0.208011</td>\n",
       "    </tr>\n",
       "    <tr>\n",
       "      <th>6</th>\n",
       "      <td>2.155</td>\n",
       "      <td>2.165</td>\n",
       "      <td>137</td>\n",
       "      <td>0.301038</td>\n",
       "      <td>0.828860</td>\n",
       "      <td>0.178101</td>\n",
       "    </tr>\n",
       "    <tr>\n",
       "      <th>7</th>\n",
       "      <td>2.165</td>\n",
       "      <td>2.175</td>\n",
       "      <td>82</td>\n",
       "      <td>0.828860</td>\n",
       "      <td>1.356682</td>\n",
       "      <td>0.116151</td>\n",
       "    </tr>\n",
       "    <tr>\n",
       "      <th>8</th>\n",
       "      <td>2.175</td>\n",
       "      <td>2.185</td>\n",
       "      <td>40</td>\n",
       "      <td>1.356682</td>\n",
       "      <td>1.884504</td>\n",
       "      <td>0.057693</td>\n",
       "    </tr>\n",
       "    <tr>\n",
       "      <th>9</th>\n",
       "      <td>2.185</td>\n",
       "      <td>2.195</td>\n",
       "      <td>19</td>\n",
       "      <td>1.884504</td>\n",
       "      <td>2.412326</td>\n",
       "      <td>0.021823</td>\n",
       "    </tr>\n",
       "    <tr>\n",
       "      <th>10</th>\n",
       "      <td>2.195</td>\n",
       "      <td>inf</td>\n",
       "      <td>11</td>\n",
       "      <td>2.412326</td>\n",
       "      <td>inf</td>\n",
       "      <td>0.007926</td>\n",
       "    </tr>\n",
       "  </tbody>\n",
       "</table>\n",
       "</div>"
      ],
      "text/plain": [
       "    lim_inf  lim_sup   oi     z_inf     z_sup         p\n",
       "0      -inf    2.105   16      -inf -2.338072  0.009692\n",
       "1     2.105    2.115   28 -2.338072 -1.810250  0.025437\n",
       "2     2.115    2.125   41 -1.810250 -1.282428  0.064718\n",
       "3     2.125    2.135   74 -1.282428 -0.754606  0.125396\n",
       "4     2.135    2.145  149 -0.754606 -0.226784  0.185053\n",
       "5     2.145    2.155  256 -0.226784  0.301038  0.208011\n",
       "6     2.155    2.165  137  0.301038  0.828860  0.178101\n",
       "7     2.165    2.175   82  0.828860  1.356682  0.116151\n",
       "8     2.175    2.185   40  1.356682  1.884504  0.057693\n",
       "9     2.185    2.195   19  1.884504  2.412326  0.021823\n",
       "10    2.195      inf   11  2.412326       inf  0.007926"
      ]
     },
     "execution_count": 9,
     "metadata": {},
     "output_type": "execute_result"
    }
   ],
   "source": [
    "def sacar_z(x):\n",
    "\treturn (x - media) / desv\n",
    "\n",
    "def sacar_p(i):\n",
    "\tzi = sacar_z(i['lim_inf'])\n",
    "\tzs = sacar_z(i['lim_sup'])\n",
    "\t# si es el primer renglon\n",
    "\tif i['lim_inf'] == -np.inf:\n",
    "\t\tp = st.norm.cdf(zs)\n",
    "\t# si es el ultimo renglon\n",
    "\telif i['lim_sup'] == np.inf:\n",
    "\t\tp = st.norm.sf(zi)\n",
    "\telse:\n",
    "\t\tp = st.norm.cdf(zs) - st.norm.cdf(zi)\n",
    "\treturn p\n",
    "\n",
    "df['z_inf'] = df.apply(lambda i: sacar_z(i['lim_inf']), axis = 1)\n",
    "df['z_sup'] = df.apply(lambda i: sacar_z(i['lim_sup']), axis = 1)\n",
    "df['p'] = df.apply(lambda i: sacar_p(i), axis = 1)\n",
    "df"
   ]
  },
  {
   "cell_type": "code",
   "execution_count": 10,
   "metadata": {
    "collapsed": false,
    "pycharm": {
     "name": "#%%\n"
    }
   },
   "outputs": [
    {
     "data": {
      "text/plain": [
       "1.0"
      ]
     },
     "execution_count": 10,
     "metadata": {},
     "output_type": "execute_result"
    }
   ],
   "source": [
    "df['p'].sum()"
   ]
  },
  {
   "cell_type": "code",
   "execution_count": 11,
   "metadata": {
    "collapsed": false,
    "pycharm": {
     "name": "#%%\n"
    }
   },
   "outputs": [
    {
     "data": {
      "text/html": [
       "<div>\n",
       "<style scoped>\n",
       "    .dataframe tbody tr th:only-of-type {\n",
       "        vertical-align: middle;\n",
       "    }\n",
       "\n",
       "    .dataframe tbody tr th {\n",
       "        vertical-align: top;\n",
       "    }\n",
       "\n",
       "    .dataframe thead th {\n",
       "        text-align: right;\n",
       "    }\n",
       "</style>\n",
       "<table border=\"1\" class=\"dataframe\">\n",
       "  <thead>\n",
       "    <tr style=\"text-align: right;\">\n",
       "      <th></th>\n",
       "      <th>lim_inf</th>\n",
       "      <th>lim_sup</th>\n",
       "      <th>oi</th>\n",
       "      <th>z_inf</th>\n",
       "      <th>z_sup</th>\n",
       "      <th>p</th>\n",
       "      <th>ei</th>\n",
       "    </tr>\n",
       "  </thead>\n",
       "  <tbody>\n",
       "    <tr>\n",
       "      <th>0</th>\n",
       "      <td>-inf</td>\n",
       "      <td>2.105</td>\n",
       "      <td>16</td>\n",
       "      <td>-inf</td>\n",
       "      <td>-2.338072</td>\n",
       "      <td>0.009692</td>\n",
       "      <td>8.267060</td>\n",
       "    </tr>\n",
       "    <tr>\n",
       "      <th>1</th>\n",
       "      <td>2.105</td>\n",
       "      <td>2.115</td>\n",
       "      <td>28</td>\n",
       "      <td>-2.338072</td>\n",
       "      <td>-1.810250</td>\n",
       "      <td>0.025437</td>\n",
       "      <td>21.697543</td>\n",
       "    </tr>\n",
       "    <tr>\n",
       "      <th>2</th>\n",
       "      <td>2.115</td>\n",
       "      <td>2.125</td>\n",
       "      <td>41</td>\n",
       "      <td>-1.810250</td>\n",
       "      <td>-1.282428</td>\n",
       "      <td>0.064718</td>\n",
       "      <td>55.204237</td>\n",
       "    </tr>\n",
       "    <tr>\n",
       "      <th>3</th>\n",
       "      <td>2.125</td>\n",
       "      <td>2.135</td>\n",
       "      <td>74</td>\n",
       "      <td>-1.282428</td>\n",
       "      <td>-0.754606</td>\n",
       "      <td>0.125396</td>\n",
       "      <td>106.963160</td>\n",
       "    </tr>\n",
       "    <tr>\n",
       "      <th>4</th>\n",
       "      <td>2.135</td>\n",
       "      <td>2.145</td>\n",
       "      <td>149</td>\n",
       "      <td>-0.754606</td>\n",
       "      <td>-0.226784</td>\n",
       "      <td>0.185053</td>\n",
       "      <td>157.850346</td>\n",
       "    </tr>\n",
       "    <tr>\n",
       "      <th>5</th>\n",
       "      <td>2.145</td>\n",
       "      <td>2.155</td>\n",
       "      <td>256</td>\n",
       "      <td>-0.226784</td>\n",
       "      <td>0.301038</td>\n",
       "      <td>0.208011</td>\n",
       "      <td>177.433740</td>\n",
       "    </tr>\n",
       "    <tr>\n",
       "      <th>6</th>\n",
       "      <td>2.155</td>\n",
       "      <td>2.165</td>\n",
       "      <td>137</td>\n",
       "      <td>0.301038</td>\n",
       "      <td>0.828860</td>\n",
       "      <td>0.178101</td>\n",
       "      <td>151.920121</td>\n",
       "    </tr>\n",
       "    <tr>\n",
       "      <th>7</th>\n",
       "      <td>2.165</td>\n",
       "      <td>2.175</td>\n",
       "      <td>82</td>\n",
       "      <td>0.828860</td>\n",
       "      <td>1.356682</td>\n",
       "      <td>0.116151</td>\n",
       "      <td>99.076528</td>\n",
       "    </tr>\n",
       "    <tr>\n",
       "      <th>8</th>\n",
       "      <td>2.175</td>\n",
       "      <td>2.185</td>\n",
       "      <td>40</td>\n",
       "      <td>1.356682</td>\n",
       "      <td>1.884504</td>\n",
       "      <td>0.057693</td>\n",
       "      <td>49.211880</td>\n",
       "    </tr>\n",
       "    <tr>\n",
       "      <th>9</th>\n",
       "      <td>2.185</td>\n",
       "      <td>2.195</td>\n",
       "      <td>19</td>\n",
       "      <td>1.884504</td>\n",
       "      <td>2.412326</td>\n",
       "      <td>0.021823</td>\n",
       "      <td>18.614896</td>\n",
       "    </tr>\n",
       "    <tr>\n",
       "      <th>10</th>\n",
       "      <td>2.195</td>\n",
       "      <td>inf</td>\n",
       "      <td>11</td>\n",
       "      <td>2.412326</td>\n",
       "      <td>inf</td>\n",
       "      <td>0.007926</td>\n",
       "      <td>6.760488</td>\n",
       "    </tr>\n",
       "  </tbody>\n",
       "</table>\n",
       "</div>"
      ],
      "text/plain": [
       "    lim_inf  lim_sup   oi     z_inf     z_sup         p          ei\n",
       "0      -inf    2.105   16      -inf -2.338072  0.009692    8.267060\n",
       "1     2.105    2.115   28 -2.338072 -1.810250  0.025437   21.697543\n",
       "2     2.115    2.125   41 -1.810250 -1.282428  0.064718   55.204237\n",
       "3     2.125    2.135   74 -1.282428 -0.754606  0.125396  106.963160\n",
       "4     2.135    2.145  149 -0.754606 -0.226784  0.185053  157.850346\n",
       "5     2.145    2.155  256 -0.226784  0.301038  0.208011  177.433740\n",
       "6     2.155    2.165  137  0.301038  0.828860  0.178101  151.920121\n",
       "7     2.165    2.175   82  0.828860  1.356682  0.116151   99.076528\n",
       "8     2.175    2.185   40  1.356682  1.884504  0.057693   49.211880\n",
       "9     2.185    2.195   19  1.884504  2.412326  0.021823   18.614896\n",
       "10    2.195      inf   11  2.412326       inf  0.007926    6.760488"
      ]
     },
     "execution_count": 11,
     "metadata": {},
     "output_type": "execute_result"
    }
   ],
   "source": [
    "df['ei'] = n * df['p']\n",
    "df"
   ]
  },
  {
   "cell_type": "code",
   "execution_count": 12,
   "metadata": {
    "collapsed": false,
    "pycharm": {
     "name": "#%%\n"
    }
   },
   "outputs": [
    {
     "data": {
      "text/html": [
       "<div>\n",
       "<style scoped>\n",
       "    .dataframe tbody tr th:only-of-type {\n",
       "        vertical-align: middle;\n",
       "    }\n",
       "\n",
       "    .dataframe tbody tr th {\n",
       "        vertical-align: top;\n",
       "    }\n",
       "\n",
       "    .dataframe thead th {\n",
       "        text-align: right;\n",
       "    }\n",
       "</style>\n",
       "<table border=\"1\" class=\"dataframe\">\n",
       "  <thead>\n",
       "    <tr style=\"text-align: right;\">\n",
       "      <th></th>\n",
       "      <th>lim_inf</th>\n",
       "      <th>lim_sup</th>\n",
       "      <th>oi</th>\n",
       "      <th>z_inf</th>\n",
       "      <th>z_sup</th>\n",
       "      <th>p</th>\n",
       "      <th>ei</th>\n",
       "      <th>x2_calc</th>\n",
       "    </tr>\n",
       "  </thead>\n",
       "  <tbody>\n",
       "    <tr>\n",
       "      <th>0</th>\n",
       "      <td>-inf</td>\n",
       "      <td>2.105</td>\n",
       "      <td>16</td>\n",
       "      <td>-inf</td>\n",
       "      <td>-2.338072</td>\n",
       "      <td>0.009692</td>\n",
       "      <td>8.267060</td>\n",
       "      <td>7.233327</td>\n",
       "    </tr>\n",
       "    <tr>\n",
       "      <th>1</th>\n",
       "      <td>2.105</td>\n",
       "      <td>2.115</td>\n",
       "      <td>28</td>\n",
       "      <td>-2.338072</td>\n",
       "      <td>-1.810250</td>\n",
       "      <td>0.025437</td>\n",
       "      <td>21.697543</td>\n",
       "      <td>1.830667</td>\n",
       "    </tr>\n",
       "    <tr>\n",
       "      <th>2</th>\n",
       "      <td>2.115</td>\n",
       "      <td>2.125</td>\n",
       "      <td>41</td>\n",
       "      <td>-1.810250</td>\n",
       "      <td>-1.282428</td>\n",
       "      <td>0.064718</td>\n",
       "      <td>55.204237</td>\n",
       "      <td>3.654798</td>\n",
       "    </tr>\n",
       "    <tr>\n",
       "      <th>3</th>\n",
       "      <td>2.125</td>\n",
       "      <td>2.135</td>\n",
       "      <td>74</td>\n",
       "      <td>-1.282428</td>\n",
       "      <td>-0.754606</td>\n",
       "      <td>0.125396</td>\n",
       "      <td>106.963160</td>\n",
       "      <td>10.158356</td>\n",
       "    </tr>\n",
       "    <tr>\n",
       "      <th>4</th>\n",
       "      <td>2.135</td>\n",
       "      <td>2.145</td>\n",
       "      <td>149</td>\n",
       "      <td>-0.754606</td>\n",
       "      <td>-0.226784</td>\n",
       "      <td>0.185053</td>\n",
       "      <td>157.850346</td>\n",
       "      <td>0.496221</td>\n",
       "    </tr>\n",
       "    <tr>\n",
       "      <th>5</th>\n",
       "      <td>2.145</td>\n",
       "      <td>2.155</td>\n",
       "      <td>256</td>\n",
       "      <td>-0.226784</td>\n",
       "      <td>0.301038</td>\n",
       "      <td>0.208011</td>\n",
       "      <td>177.433740</td>\n",
       "      <td>34.788520</td>\n",
       "    </tr>\n",
       "    <tr>\n",
       "      <th>6</th>\n",
       "      <td>2.155</td>\n",
       "      <td>2.165</td>\n",
       "      <td>137</td>\n",
       "      <td>0.301038</td>\n",
       "      <td>0.828860</td>\n",
       "      <td>0.178101</td>\n",
       "      <td>151.920121</td>\n",
       "      <td>1.465310</td>\n",
       "    </tr>\n",
       "    <tr>\n",
       "      <th>7</th>\n",
       "      <td>2.165</td>\n",
       "      <td>2.175</td>\n",
       "      <td>82</td>\n",
       "      <td>0.828860</td>\n",
       "      <td>1.356682</td>\n",
       "      <td>0.116151</td>\n",
       "      <td>99.076528</td>\n",
       "      <td>2.943258</td>\n",
       "    </tr>\n",
       "    <tr>\n",
       "      <th>8</th>\n",
       "      <td>2.175</td>\n",
       "      <td>2.185</td>\n",
       "      <td>40</td>\n",
       "      <td>1.356682</td>\n",
       "      <td>1.884504</td>\n",
       "      <td>0.057693</td>\n",
       "      <td>49.211880</td>\n",
       "      <td>1.724355</td>\n",
       "    </tr>\n",
       "    <tr>\n",
       "      <th>9</th>\n",
       "      <td>2.185</td>\n",
       "      <td>2.195</td>\n",
       "      <td>19</td>\n",
       "      <td>1.884504</td>\n",
       "      <td>2.412326</td>\n",
       "      <td>0.021823</td>\n",
       "      <td>18.614896</td>\n",
       "      <td>0.007967</td>\n",
       "    </tr>\n",
       "    <tr>\n",
       "      <th>10</th>\n",
       "      <td>2.195</td>\n",
       "      <td>inf</td>\n",
       "      <td>11</td>\n",
       "      <td>2.412326</td>\n",
       "      <td>inf</td>\n",
       "      <td>0.007926</td>\n",
       "      <td>6.760488</td>\n",
       "      <td>2.658604</td>\n",
       "    </tr>\n",
       "  </tbody>\n",
       "</table>\n",
       "</div>"
      ],
      "text/plain": [
       "    lim_inf  lim_sup   oi     z_inf     z_sup         p          ei    x2_calc\n",
       "0      -inf    2.105   16      -inf -2.338072  0.009692    8.267060   7.233327\n",
       "1     2.105    2.115   28 -2.338072 -1.810250  0.025437   21.697543   1.830667\n",
       "2     2.115    2.125   41 -1.810250 -1.282428  0.064718   55.204237   3.654798\n",
       "3     2.125    2.135   74 -1.282428 -0.754606  0.125396  106.963160  10.158356\n",
       "4     2.135    2.145  149 -0.754606 -0.226784  0.185053  157.850346   0.496221\n",
       "5     2.145    2.155  256 -0.226784  0.301038  0.208011  177.433740  34.788520\n",
       "6     2.155    2.165  137  0.301038  0.828860  0.178101  151.920121   1.465310\n",
       "7     2.165    2.175   82  0.828860  1.356682  0.116151   99.076528   2.943258\n",
       "8     2.175    2.185   40  1.356682  1.884504  0.057693   49.211880   1.724355\n",
       "9     2.185    2.195   19  1.884504  2.412326  0.021823   18.614896   0.007967\n",
       "10    2.195      inf   11  2.412326       inf  0.007926    6.760488   2.658604"
      ]
     },
     "execution_count": 12,
     "metadata": {},
     "output_type": "execute_result"
    }
   ],
   "source": [
    "df['x2_calc'] = df.apply(lambda x: (x['oi'] - x['ei']) ** 2 / x['ei'], axis = 1)\n",
    "df"
   ]
  },
  {
   "cell_type": "code",
   "execution_count": 13,
   "metadata": {
    "collapsed": false,
    "pycharm": {
     "name": "#%%\n"
    }
   },
   "outputs": [
    {
     "data": {
      "text/plain": [
       "66.96138264511359"
      ]
     },
     "execution_count": 13,
     "metadata": {},
     "output_type": "execute_result"
    }
   ],
   "source": [
    "x2_calc = df['x2_calc'].sum()\n",
    "x2_calc"
   ]
  },
  {
   "cell_type": "code",
   "execution_count": 14,
   "metadata": {
    "collapsed": false,
    "pycharm": {
     "name": "#%%\n"
    }
   },
   "outputs": [
    {
     "data": {
      "text/plain": [
       "15.507313055865454"
      ]
     },
     "execution_count": 14,
     "metadata": {},
     "output_type": "execute_result"
    }
   ],
   "source": [
    "alfa = 0.05\n",
    "k = len(df['oi'])  # renglones\n",
    "p = 2  # parametros\n",
    "gl = k - p - 1\n",
    "x2_crit = st.chi2.isf(alfa, gl)\n",
    "x2_crit"
   ]
  },
  {
   "cell_type": "code",
   "execution_count": 15,
   "metadata": {
    "collapsed": false,
    "pycharm": {
     "name": "#%%\n"
    }
   },
   "outputs": [
    {
     "name": "stdout",
     "output_type": "stream",
     "text": [
      "H0 SI se rechaza\n"
     ]
    }
   ],
   "source": [
    "if x2_calc >= x2_crit:\n",
    "\tprint('H0 SI se rechaza')\n",
    "else:\n",
    "\tprint('H0 NO se rechaza')"
   ]
  },
  {
   "cell_type": "markdown",
   "metadata": {
    "collapsed": false
   },
   "source": [
    "Al 5% de significancia existe suficiente evidencia que permite decir que los tiempos no se distribuyen normalmente"
   ]
  },
  {
   "cell_type": "markdown",
   "metadata": {
    "collapsed": false
   },
   "source": [
    "P-valor"
   ]
  },
  {
   "cell_type": "code",
   "execution_count": 16,
   "metadata": {
    "collapsed": false,
    "pycharm": {
     "name": "#%%\n"
    }
   },
   "outputs": [
    {
     "data": {
      "text/plain": [
       "1.973389267739124e-11"
      ]
     },
     "execution_count": 16,
     "metadata": {},
     "output_type": "execute_result"
    }
   ],
   "source": [
    "st.chi2.sf(x2_calc, gl)"
   ]
  },
  {
   "cell_type": "markdown",
   "metadata": {
    "collapsed": false
   },
   "source": [
    "## Grafica de probabilidad"
   ]
  },
  {
   "cell_type": "code",
   "execution_count": 17,
   "metadata": {
    "collapsed": false,
    "pycharm": {
     "name": "#%%\n"
    }
   },
   "outputs": [
    {
     "data": {
      "text/html": [
       "<div>\n",
       "<style scoped>\n",
       "    .dataframe tbody tr th:only-of-type {\n",
       "        vertical-align: middle;\n",
       "    }\n",
       "\n",
       "    .dataframe tbody tr th {\n",
       "        vertical-align: top;\n",
       "    }\n",
       "\n",
       "    .dataframe thead th {\n",
       "        text-align: right;\n",
       "    }\n",
       "</style>\n",
       "<table border=\"1\" class=\"dataframe\">\n",
       "  <thead>\n",
       "    <tr style=\"text-align: right;\">\n",
       "      <th></th>\n",
       "      <th>xj</th>\n",
       "      <th>fa</th>\n",
       "      <th>100fa</th>\n",
       "      <th>zj</th>\n",
       "    </tr>\n",
       "    <tr>\n",
       "      <th>j</th>\n",
       "      <th></th>\n",
       "      <th></th>\n",
       "      <th></th>\n",
       "      <th></th>\n",
       "    </tr>\n",
       "  </thead>\n",
       "  <tbody>\n",
       "    <tr>\n",
       "      <th>1</th>\n",
       "      <td>2.1</td>\n",
       "      <td>0.000586</td>\n",
       "      <td>0.058617</td>\n",
       "      <td>-3.245527</td>\n",
       "    </tr>\n",
       "    <tr>\n",
       "      <th>2</th>\n",
       "      <td>2.1</td>\n",
       "      <td>0.001758</td>\n",
       "      <td>0.175850</td>\n",
       "      <td>-2.918518</td>\n",
       "    </tr>\n",
       "    <tr>\n",
       "      <th>3</th>\n",
       "      <td>2.1</td>\n",
       "      <td>0.002931</td>\n",
       "      <td>0.293083</td>\n",
       "      <td>-2.755421</td>\n",
       "    </tr>\n",
       "    <tr>\n",
       "      <th>4</th>\n",
       "      <td>2.1</td>\n",
       "      <td>0.004103</td>\n",
       "      <td>0.410317</td>\n",
       "      <td>-2.643461</td>\n",
       "    </tr>\n",
       "    <tr>\n",
       "      <th>5</th>\n",
       "      <td>2.1</td>\n",
       "      <td>0.005275</td>\n",
       "      <td>0.527550</td>\n",
       "      <td>-2.557228</td>\n",
       "    </tr>\n",
       "    <tr>\n",
       "      <th>...</th>\n",
       "      <td>...</td>\n",
       "      <td>...</td>\n",
       "      <td>...</td>\n",
       "      <td>...</td>\n",
       "    </tr>\n",
       "    <tr>\n",
       "      <th>849</th>\n",
       "      <td>2.2</td>\n",
       "      <td>0.994725</td>\n",
       "      <td>99.472450</td>\n",
       "      <td>2.557228</td>\n",
       "    </tr>\n",
       "    <tr>\n",
       "      <th>850</th>\n",
       "      <td>2.2</td>\n",
       "      <td>0.995897</td>\n",
       "      <td>99.589683</td>\n",
       "      <td>2.643461</td>\n",
       "    </tr>\n",
       "    <tr>\n",
       "      <th>851</th>\n",
       "      <td>2.2</td>\n",
       "      <td>0.997069</td>\n",
       "      <td>99.706917</td>\n",
       "      <td>2.755421</td>\n",
       "    </tr>\n",
       "    <tr>\n",
       "      <th>852</th>\n",
       "      <td>2.2</td>\n",
       "      <td>0.998242</td>\n",
       "      <td>99.824150</td>\n",
       "      <td>2.918518</td>\n",
       "    </tr>\n",
       "    <tr>\n",
       "      <th>853</th>\n",
       "      <td>2.2</td>\n",
       "      <td>0.999414</td>\n",
       "      <td>99.941383</td>\n",
       "      <td>3.245527</td>\n",
       "    </tr>\n",
       "  </tbody>\n",
       "</table>\n",
       "<p>853 rows × 4 columns</p>\n",
       "</div>"
      ],
      "text/plain": [
       "      xj        fa      100fa        zj\n",
       "j                                      \n",
       "1    2.1  0.000586   0.058617 -3.245527\n",
       "2    2.1  0.001758   0.175850 -2.918518\n",
       "3    2.1  0.002931   0.293083 -2.755421\n",
       "4    2.1  0.004103   0.410317 -2.643461\n",
       "5    2.1  0.005275   0.527550 -2.557228\n",
       "..   ...       ...        ...       ...\n",
       "849  2.2  0.994725  99.472450  2.557228\n",
       "850  2.2  0.995897  99.589683  2.643461\n",
       "851  2.2  0.997069  99.706917  2.755421\n",
       "852  2.2  0.998242  99.824150  2.918518\n",
       "853  2.2  0.999414  99.941383  3.245527\n",
       "\n",
       "[853 rows x 4 columns]"
      ]
     },
     "execution_count": 17,
     "metadata": {},
     "output_type": "execute_result"
    }
   ],
   "source": [
    "d = {'j': [], 'xj': [], 'fa': [], '100fa': [], 'zj': []}\n",
    "for j, xj in enumerate(sorted(tiempos)):\n",
    "\tfa = ((j + 1) - 0.5) / n\n",
    "\tcien_fa = 100 * fa\n",
    "\tzj = st.norm.ppf(fa)\n",
    "\td['j'].append(j + 1)\n",
    "\td['xj'].append(xj)\n",
    "\td['fa'].append(fa)\n",
    "\td['100fa'].append(cien_fa)\n",
    "\td['zj'].append(zj)\n",
    "tabla = pd.DataFrame(d).set_index('j')\n",
    "tabla"
   ]
  },
  {
   "cell_type": "code",
   "execution_count": 18,
   "metadata": {
    "collapsed": false,
    "pycharm": {
     "name": "#%%\n"
    }
   },
   "outputs": [
    {
     "data": {
      "image/png": "[encoded data removed]",
      "text/plain": [
       "<Figure size 432x288 with 1 Axes>"
      ]
     },
     "metadata": {},
     "output_type": "display_data"
    }
   ],
   "source": [
    "x = tabla['xj']\n",
    "y = tabla['100fa']\n",
    "plt.scatter(x, y)\n",
    "\n",
    "z = np.polyfit(x, y, 1)\n",
    "p = np.poly1d(z)\n",
    "plt.plot(x, p(x), 'r-')\n",
    "\n",
    "plt.title('Grafica de probabilidad')\n",
    "plt.xlabel('xj')\n",
    "plt.ylabel('100(j - 0.5) / n')\n",
    "plt.ylim(0, 100)\n",
    "plt.show()"
   ]
  },
  {
   "cell_type": "code",
   "execution_count": 19,
   "metadata": {
    "collapsed": false,
    "pycharm": {
     "name": "#%%\n"
    }
   },
   "outputs": [
    {
     "data": {
      "image/png": "[encoded data removed]",
      "text/plain": [
       "<Figure size 432x288 with 1 Axes>"
      ]
     },
     "metadata": {},
     "output_type": "display_data"
    }
   ],
   "source": [
    "x = tabla['xj']\n",
    "y = tabla['zj']\n",
    "plt.scatter(x, y)\n",
    "\n",
    "z = np.polyfit(x, y, 1)\n",
    "p = np.poly1d(z)\n",
    "plt.plot(x, p(x), 'r-')\n",
    "\n",
    "plt.title('Grafica de probabilidad')\n",
    "plt.xlabel('xj')\n",
    "plt.ylabel('zj')\n",
    "plt.show()"
   ]
  },
  {
   "cell_type": "code",
   "execution_count": 20,
   "metadata": {
    "collapsed": false,
    "pycharm": {
     "name": "#%%\n"
    }
   },
   "outputs": [
    {
     "data": {
      "text/plain": [
       "<AxesSubplot:xlabel='xj', ylabel='zj'>"
      ]
     },
     "execution_count": 20,
     "metadata": {},
     "output_type": "execute_result"
    },
    {
     "data": {
      "image/png": "[encoded data removed]",
      "text/plain": [
       "<Figure size 432x288 with 2 Axes>"
      ]
     },
     "metadata": {},
     "output_type": "display_data"
    }
   ],
   "source": [
    "figure, axs = plt.subplots(1, 2, sharex = True)\n",
    "tabla.plot(kind = 'scatter', x = 'xj', y = '100fa', ax = axs[0])\n",
    "tabla.plot(kind = 'scatter', x = 'xj', y = 'zj', ax = axs[1])"
   ]
  },
  {
   "cell_type": "markdown",
   "metadata": {
    "collapsed": false
   },
   "source": [
    "## Ver que distribucion tiene"
   ]
  },
  {
   "cell_type": "markdown",
   "metadata": {
    "collapsed": false
   },
   "source": [
    "Como no es una distribucion normal, veamos a que distribucion probabilistica se ajusta mas"
   ]
  },
  {
   "cell_type": "code",
   "execution_count": 21,
   "metadata": {
    "collapsed": false,
    "pycharm": {
     "name": "#%%\n"
    }
   },
   "outputs": [
    {
     "name": "stderr",
     "output_type": "stream",
     "text": [
      "WARNING:root:SKIPPED geninvgauss distribution (taking more than 30 seconds)\n",
      "WARNING:root:SKIPPED kstwo distribution (taking more than 30 seconds)\n",
      "WARNING:root:SKIPPED johnsonsb distribution (taking more than 30 seconds)\n",
      "WARNING:root:SKIPPED kappa4 distribution (taking more than 30 seconds)\n",
      "WARNING:root:SKIPPED ksone distribution (taking more than 30 seconds)\n",
      "WARNING:root:SKIPPED levy_stable distribution (taking more than 30 seconds)\n",
      "WARNING:root:SKIPPED lognorm distribution (taking more than 30 seconds)\n",
      "WARNING:root:SKIPPED rv_continuous distribution (taking more than 30 seconds)\n",
      "WARNING:root:SKIPPED rv_histogram distribution (taking more than 30 seconds)\n",
      "WARNING:root:SKIPPED mielke distribution (taking more than 30 seconds)\n",
      "WARNING:root:SKIPPED nct distribution (taking more than 30 seconds)\n",
      "WARNING:root:SKIPPED ncf distribution (taking more than 30 seconds)\n",
      "WARNING:root:SKIPPED ncx2 distribution (taking more than 30 seconds)\n",
      "WARNING:root:SKIPPED norminvgauss distribution (taking more than 30 seconds)\n",
      "C:\\Users\\pmz94\\AppData\\Local\\Packages\\PythonSoftwareFoundation.Python.3.9_qbz5n2kfra8p0\\LocalCache\\local-packages\\Python39\\site-packages\\scipy\\integrate\\_quadpack_py.py:879: IntegrationWarning: The maximum number of subdivisions (50) has been achieved.\n",
      "  If increasing the limit yields no improvement it is advised to analyze \n",
      "  the integrand in order to determine the difficulties.  If the position of a \n",
      "  local difficulty can be determined (singularity, discontinuity) one will \n",
      "  probably gain from splitting up the interval and calling the integrator \n",
      "  on the subranges.  Perhaps a special-purpose integrator should be used.\n",
      "  quad_r = quad(f, low, high, args=args, full_output=self.full_output,\n",
      "WARNING:root:SKIPPED pearson3 distribution (taking more than 30 seconds)\n",
      "WARNING:root:SKIPPED powerlognorm distribution (taking more than 30 seconds)\n",
      "WARNING:root:SKIPPED recipinvgauss distribution (taking more than 30 seconds)\n",
      "C:\\Users\\pmz94\\AppData\\Local\\Packages\\PythonSoftwareFoundation.Python.3.9_qbz5n2kfra8p0\\LocalCache\\local-packages\\Python39\\site-packages\\scipy\\integrate\\_quadpack_py.py:879: IntegrationWarning: The integral is probably divergent, or slowly convergent.\n",
      "  quad_r = quad(f, low, high, args=args, full_output=self.full_output,\n",
      "WARNING:root:SKIPPED skewnorm distribution (taking more than 30 seconds)\n",
      "WARNING:root:SKIPPED studentized_range distribution (taking more than 30 seconds)\n",
      "WARNING:root:SKIPPED trapezoid distribution (taking more than 30 seconds)\n",
      "WARNING:root:SKIPPED trapz distribution (taking more than 30 seconds)\n",
      "WARNING:root:SKIPPED triang distribution (taking more than 30 seconds)\n",
      "WARNING:root:SKIPPED tukeylambda distribution (taking more than 30 seconds)\n",
      "WARNING:root:SKIPPED vonmises distribution (taking more than 30 seconds)\n",
      "WARNING:root:SKIPPED weibull_min distribution (taking more than 30 seconds)\n"
     ]
    },
    {
     "data": {
      "text/html": [
       "<div>\n",
       "<style scoped>\n",
       "    .dataframe tbody tr th:only-of-type {\n",
       "        vertical-align: middle;\n",
       "    }\n",
       "\n",
       "    .dataframe tbody tr th {\n",
       "        vertical-align: top;\n",
       "    }\n",
       "\n",
       "    .dataframe thead th {\n",
       "        text-align: right;\n",
       "    }\n",
       "</style>\n",
       "<table border=\"1\" class=\"dataframe\">\n",
       "  <thead>\n",
       "    <tr style=\"text-align: right;\">\n",
       "      <th></th>\n",
       "      <th>sumsquare_error</th>\n",
       "      <th>aic</th>\n",
       "      <th>bic</th>\n",
       "      <th>kl_div</th>\n",
       "    </tr>\n",
       "  </thead>\n",
       "  <tbody>\n",
       "    <tr>\n",
       "      <th>gennorm</th>\n",
       "      <td>139011.557494</td>\n",
       "      <td>-306.208881</td>\n",
       "      <td>4365.046824</td>\n",
       "      <td>inf</td>\n",
       "    </tr>\n",
       "    <tr>\n",
       "      <th>dweibull</th>\n",
       "      <td>145028.056365</td>\n",
       "      <td>-343.895996</td>\n",
       "      <td>4401.188553</td>\n",
       "      <td>inf</td>\n",
       "    </tr>\n",
       "    <tr>\n",
       "      <th>dgamma</th>\n",
       "      <td>145220.354319</td>\n",
       "      <td>-302.797945</td>\n",
       "      <td>4402.318827</td>\n",
       "      <td>inf</td>\n",
       "    </tr>\n",
       "    <tr>\n",
       "      <th>laplace_asymmetric</th>\n",
       "      <td>150840.320807</td>\n",
       "      <td>-347.583919</td>\n",
       "      <td>4434.706832</td>\n",
       "      <td>inf</td>\n",
       "    </tr>\n",
       "    <tr>\n",
       "      <th>loglaplace</th>\n",
       "      <td>150859.150718</td>\n",
       "      <td>-347.874401</td>\n",
       "      <td>4434.813309</td>\n",
       "      <td>inf</td>\n",
       "    </tr>\n",
       "  </tbody>\n",
       "</table>\n",
       "</div>"
      ],
      "text/plain": [
       "                    sumsquare_error         aic          bic  kl_div\n",
       "gennorm               139011.557494 -306.208881  4365.046824     inf\n",
       "dweibull              145028.056365 -343.895996  4401.188553     inf\n",
       "dgamma                145220.354319 -302.797945  4402.318827     inf\n",
       "laplace_asymmetric    150840.320807 -347.583919  4434.706832     inf\n",
       "loglaplace            150859.150718 -347.874401  4434.813309     inf"
      ]
     },
     "execution_count": 21,
     "metadata": {},
     "output_type": "execute_result"
    },
    {
     "data": {
      "image/png": "[encoded data removed]",
      "text/plain": [
       "<Figure size 432x288 with 1 Axes>"
      ]
     },
     "metadata": {},
     "output_type": "display_data"
    }
   ],
   "source": [
    "f = Fitter(tiempos, timeout = 60)\n",
    "# tomara un buen rato porque por default, se prueban todas las distribuciones\n",
    "f.fit()\n",
    "f.summary()"
   ]
  },
  {
   "cell_type": "markdown",
   "metadata": {
    "collapsed": false
   },
   "source": [
    "Los resultados nos dieron las mejores distribuciones a las que se ajustan mas en base a la suma de los errores de los cuadrados (`sumsquare_error`).\n",
    "Resulta que los tiempos siguen una [distribucion normal generalizada](https://hmong.es/wiki/Generalized_normal_distribution#:~:text=La%20distribuci%C3%B3n%20normal%20generalizada%20o,forma%20a%20la%20distribuci%C3%B3n%20normal%20.).\n",
    "\n",
    "Vamos a comparar la distribucion normal con la normal generalizada."
   ]
  },
  {
   "cell_type": "code",
   "execution_count": 23,
   "metadata": {
    "collapsed": false,
    "pycharm": {
     "name": "#%%\n"
    }
   },
   "outputs": [
    {
     "data": {
      "text/html": [
       "<div>\n",
       "<style scoped>\n",
       "    .dataframe tbody tr th:only-of-type {\n",
       "        vertical-align: middle;\n",
       "    }\n",
       "\n",
       "    .dataframe tbody tr th {\n",
       "        vertical-align: top;\n",
       "    }\n",
       "\n",
       "    .dataframe thead th {\n",
       "        text-align: right;\n",
       "    }\n",
       "</style>\n",
       "<table border=\"1\" class=\"dataframe\">\n",
       "  <thead>\n",
       "    <tr style=\"text-align: right;\">\n",
       "      <th></th>\n",
       "      <th>sumsquare_error</th>\n",
       "      <th>aic</th>\n",
       "      <th>bic</th>\n",
       "      <th>kl_div</th>\n",
       "    </tr>\n",
       "  </thead>\n",
       "  <tbody>\n",
       "    <tr>\n",
       "      <th>gennorm</th>\n",
       "      <td>139011.557494</td>\n",
       "      <td>-306.208881</td>\n",
       "      <td>4365.046824</td>\n",
       "      <td>inf</td>\n",
       "    </tr>\n",
       "    <tr>\n",
       "      <th>norm</th>\n",
       "      <td>153871.092272</td>\n",
       "      <td>-373.169045</td>\n",
       "      <td>4444.927134</td>\n",
       "      <td>inf</td>\n",
       "    </tr>\n",
       "  </tbody>\n",
       "</table>\n",
       "</div>"
      ],
      "text/plain": [
       "         sumsquare_error         aic          bic  kl_div\n",
       "gennorm    139011.557494 -306.208881  4365.046824     inf\n",
       "norm       153871.092272 -373.169045  4444.927134     inf"
      ]
     },
     "execution_count": 23,
     "metadata": {},
     "output_type": "execute_result"
    },
    {
     "data": {
      "image/png": "[encoded data removed]",
      "text/plain": [
       "<Figure size 432x288 with 1 Axes>"
      ]
     },
     "metadata": {},
     "output_type": "display_data"
    }
   ],
   "source": [
    "f = Fitter(tiempos, distributions = ['gennorm', 'norm'], timeout = 60)\n",
    "f.fit()\n",
    "f.summary()"
   ]
  },
  {
   "cell_type": "markdown",
   "metadata": {
    "collapsed": false,
    "pycharm": {
     "name": "#%% md\n"
    }
   },
   "source": [
    "Al parecer la distribucion normal generalizada tiene una curtosis mas leptocurtica que la normal"
   ]
  },
  {
   "cell_type": "code",
   "execution_count": 24,
   "metadata": {
    "collapsed": false,
    "pycharm": {
     "name": "#%%\n"
    }
   },
   "outputs": [
    {
     "data": {
      "image/png": "[encoded data removed]",
      "text/plain": [
       "<Figure size 432x288 with 1 Axes>"
      ]
     },
     "metadata": {},
     "output_type": "display_data"
    }
   ],
   "source": [
    "f.plot_pdf()"
   ]
  },
  {
   "cell_type": "code",
   "execution_count": null,
   "metadata": {
    "collapsed": false,
    "pycharm": {
     "name": "#%%\n"
    }
   },
   "outputs": [
    {
     "name": "stdout",
     "output_type": "stream",
     "text": [
      "Distribucion mejor ajustada: gennorm\n",
      "{'beta': 0.3496590022857432, 'loc': 2.15, 'scale': 0.00047033176198102677}\n"
     ]
    }
   ],
   "source": [
    "mejor = f.get_best()\n",
    "best_name = list(mejor.keys())[0]\n",
    "print('Distribucion mejor ajustada:', best_name)\n",
    "print(mejor[best_name])"
   ]
  }
 ],
 "metadata": {
  "kernelspec": {
   "display_name": "Python 3",
   "language": "python",
   "name": "python3"
  },
  "language_info": {
   "codemirror_mode": {
    "name": "ipython",
    "version": 3
   },
   "file_extension": ".py",
   "mimetype": "text/x-python",
   "name": "python",
   "nbconvert_exporter": "python",
   "pygments_lexer": "ipython3",
   "version": "3.9.11"
  }
 },
 "nbformat": 4,
 "nbformat_minor": 0
}
