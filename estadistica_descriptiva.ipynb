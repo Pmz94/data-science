{
 "cells": [
  {
   "cell_type": "markdown",
   "metadata": {},
   "source": [
    "# Estadistica descriptiva"
   ]
  },
  {
   "cell_type": "code",
   "execution_count": 166,
   "metadata": {},
   "outputs": [],
   "source": [
    "import math\n",
    "import numpy as np\n",
    "import scipy.stats as st\n",
    "import pandas as pd\n",
    "import matplotlib.pyplot as plt\n",
    "from itertools import groupby\n",
    "from prettytable import PrettyTable"
   ]
  },
  {
   "cell_type": "markdown",
   "metadata": {},
   "source": [
    "Se tiene una muestra de 80 piezas hechas de una aleación de aluminio y litio para probar su resistencia a la tension y ver si sirve como material para fabricar un avión, se prueban y se anotan las libras por pulgada (psi) a las que aguantó cada pieza."
   ]
  },
  {
   "cell_type": "code",
   "execution_count": 167,
   "metadata": {},
   "outputs": [],
   "source": [
    "x = [\n",
    "\t105,97,245,163,207,134,218,199,160,196,\n",
    "\t221,154,228,131,180,178,157,151,175,201,\n",
    "\t183,153,174,154,190,76,101,142,149,200,\n",
    "\t186,174,199,115,193,167,171,163,87,176,\n",
    "\t121,120,181,160,194,184,165,145,160,150,\n",
    "\t181,168,158,208,133,135,172,171,237,170,\n",
    "\t180,167,176,158,156,229,158,148,150,118,\n",
    "\t143,141,110,133,123,146,169,158,135,149\n",
    "]"
   ]
  },
  {
   "cell_type": "markdown",
   "metadata": {},
   "source": [
    "Primero vamos a sacar alguna informacion basica"
   ]
  },
  {
   "cell_type": "code",
   "execution_count": 168,
   "metadata": {},
   "outputs": [
    {
     "data": {
      "text/plain": [
       "(80, 76, 245, 169, 162.6625)"
      ]
     },
     "execution_count": 168,
     "metadata": {},
     "output_type": "execute_result"
    }
   ],
   "source": [
    "n = len(x)  # tamaño de muestra\n",
    "minimo = min(x)  # dato mas chico de la muestra\n",
    "maximo = max(x)  # dato mas grande de la muestra\n",
    "rango = maximo - minimo\n",
    "promedio = sum(x) / n\n",
    "n, minimo, maximo, rango, promedio"
   ]
  },
  {
   "cell_type": "markdown",
   "metadata": {},
   "source": [
    "Para sacar la **mediana ($\\tilde{x}$)** hay que ordenar de menor a mayor los datos y encontrar el dato que este justo en medio"
   ]
  },
  {
   "cell_type": "code",
   "execution_count": 169,
   "metadata": {},
   "outputs": [
    {
     "data": {
      "text/plain": [
       "161.5"
      ]
     },
     "execution_count": 169,
     "metadata": {},
     "output_type": "execute_result"
    }
   ],
   "source": [
    "# ordenar los datos\n",
    "x_ordenado = sorted(x)\n",
    "# ver si n es par o impar\n",
    "# a n le restamos 1 porque las listas incluyen el 0 como primera posicion\n",
    "if n % 2 == 0:\n",
    "\t# si es par\n",
    "\tmediana = (x_ordenado[int((n - 1) / 2)] + x_ordenado[int((n - 1) / 2) + 1]) / 2\n",
    "else:\n",
    "\t# si es impar\n",
    "\tmediana = x_ordenado[int(((n - 1) + 1) / 2)]\n",
    "mediana"
   ]
  },
  {
   "cell_type": "markdown",
   "metadata": {},
   "source": [
    "Tambien puede ser sacada con una funcion que tiene el paquete numpy"
   ]
  },
  {
   "cell_type": "code",
   "execution_count": 170,
   "metadata": {},
   "outputs": [
    {
     "data": {
      "text/plain": [
       "161.5"
      ]
     },
     "execution_count": 170,
     "metadata": {},
     "output_type": "execute_result"
    }
   ],
   "source": [
    "mediana = np.median(x)\n",
    "mediana"
   ]
  },
  {
   "cell_type": "markdown",
   "metadata": {},
   "source": [
    "Para sacar la **moda ($\\tilde{x}$)**, nomas hay que buscar el dato que mas frecuencia tenga, si hay varios datos con igual frecuencia, ambos pueden ser la moda"
   ]
  },
  {
   "cell_type": "code",
   "execution_count": 171,
   "metadata": {},
   "outputs": [
    {
     "data": {
      "text/plain": [
       "158"
      ]
     },
     "execution_count": 171,
     "metadata": {},
     "output_type": "execute_result"
    }
   ],
   "source": [
    "moda = x[0]\n",
    "counter = 0\n",
    "for i in x:\n",
    "\tcurr_frequency = x.count(i)\n",
    "\tif curr_frequency > counter:\n",
    "\t\tcounter = curr_frequency\n",
    "\t\tmoda = i\n",
    "del i, counter, curr_frequency\n",
    "moda"
   ]
  },
  {
   "cell_type": "markdown",
   "metadata": {},
   "source": [
    "O bien, con una funcion que tiene el paquete de scipy.stats"
   ]
  },
  {
   "cell_type": "code",
   "execution_count": 172,
   "metadata": {},
   "outputs": [
    {
     "data": {
      "text/plain": [
       "158"
      ]
     },
     "execution_count": 172,
     "metadata": {},
     "output_type": "execute_result"
    }
   ],
   "source": [
    "moda = st.mode(x)\n",
    "moda = moda.mode[0]\n",
    "moda"
   ]
  },
  {
   "cell_type": "markdown",
   "metadata": {},
   "source": [
    "Para sacar la **varianza ($\\sigma^{2}$)**\n",
    "* Primero se saca la resta de cada dato con el promedio y luego se eleva al cuadrado\n",
    "* Luego se suman entre si los resultados de estas restas\n",
    "* Luego se divide entre la resta de *n* y 1\n",
    "\n",
    "OJO, cuando es una muestra se resta *n - 1*, cuando es una poblacion, a *n* no se le resta nada"
   ]
  },
  {
   "cell_type": "code",
   "execution_count": 173,
   "metadata": {},
   "outputs": [
    {
     "data": {
      "text/plain": [
       "1140.6314873417728"
      ]
     },
     "execution_count": 173,
     "metadata": {},
     "output_type": "execute_result"
    }
   ],
   "source": [
    "sum([(i - promedio) ** 2 for i in x]) / (n - 1)"
   ]
  },
  {
   "cell_type": "markdown",
   "metadata": {},
   "source": [
    "Pero tambien existe esta funcion dentro del paquete de numpy"
   ]
  },
  {
   "cell_type": "code",
   "execution_count": 174,
   "metadata": {},
   "outputs": [
    {
     "data": {
      "text/plain": [
       "1140.631487341772"
      ]
     },
     "execution_count": 174,
     "metadata": {},
     "output_type": "execute_result"
    }
   ],
   "source": [
    "# como x es una muestra, se agrega el parametro ddof con valor 1 para que haga la resta de (n - 1) al dividir\n",
    "varianza = np.var(x, ddof = 1)\n",
    "varianza"
   ]
  },
  {
   "cell_type": "markdown",
   "metadata": {},
   "source": [
    "Para sacar la **desviacion estandar ($\\sigma$)** nomas saque la raiz cuadrada de la varianza"
   ]
  },
  {
   "cell_type": "code",
   "execution_count": 175,
   "metadata": {},
   "outputs": [
    {
     "data": {
      "text/plain": [
       "(33.77323625804569, 33.77323625804569)"
      ]
     },
     "execution_count": 175,
     "metadata": {},
     "output_type": "execute_result"
    }
   ],
   "source": [
    "# puede sacarse de estas dos maneras\n",
    "varianza ** 0.5, np.sqrt(varianza)"
   ]
  },
  {
   "cell_type": "markdown",
   "metadata": {},
   "source": [
    "O bien, use la formula que incluye numpy"
   ]
  },
  {
   "cell_type": "code",
   "execution_count": 176,
   "metadata": {},
   "outputs": [
    {
     "data": {
      "text/plain": [
       "33.77323625804569"
      ]
     },
     "execution_count": 176,
     "metadata": {},
     "output_type": "execute_result"
    }
   ],
   "source": [
    "# aqui tambien ocupa el parametro ddof = 1\n",
    "desv = np.std(x, ddof = 1)\n",
    "desv"
   ]
  },
  {
   "cell_type": "markdown",
   "metadata": {
    "collapsed": false,
    "pycharm": {
     "name": "#%% md\n"
    }
   },
   "source": [
    "##### Cuartiles\n",
    "\n",
    "Son los puntos de division que se le hacen al conjunto de datos ordenados de menor a mayor en partes iguales"
   ]
  },
  {
   "cell_type": "code",
   "execution_count": 177,
   "metadata": {
    "collapsed": false,
    "pycharm": {
     "name": "#%%\n"
    }
   },
   "outputs": [
    {
     "data": {
      "text/plain": [
       "(20, 40, 60)"
      ]
     },
     "execution_count": 177,
     "metadata": {},
     "output_type": "execute_result"
    }
   ],
   "source": [
    "# dividir sobre 4 el tamaño de la muestra\n",
    "q1_pos = int(n / 4)\n",
    "# para obtener la posicion del 2do cuartil\n",
    "q2_pos = q1_pos * 2\n",
    "q3_pos = q1_pos * 3\n",
    "\n",
    "q1_pos, q2_pos, q3_pos"
   ]
  },
  {
   "cell_type": "code",
   "execution_count": 178,
   "metadata": {
    "collapsed": false,
    "pycharm": {
     "name": "#%%\n"
    }
   },
   "outputs": [
    {
     "data": {
      "text/plain": [
       "(144.0, 161.5, 181.0)"
      ]
     },
     "execution_count": 178,
     "metadata": {},
     "output_type": "execute_result"
    }
   ],
   "source": [
    "# ordenar los datos\n",
    "x_ordenado = sorted(x)\n",
    "# le restamos 1 porque las listas incluyen el 0 como primera posicion\n",
    "# al otro dato no le restamos por lo mismo\n",
    "q1 = (x_ordenado[q1_pos - 1] + x_ordenado[q1_pos]) / 2\n",
    "q2 = (x_ordenado[q2_pos - 1] + x_ordenado[q2_pos]) / 2\n",
    "q3 = (x_ordenado[q3_pos - 1] + x_ordenado[q3_pos]) / 2\n",
    "\n",
    "del q1_pos, q2_pos, q3_pos\n",
    "q1, q2, q3"
   ]
  },
  {
   "cell_type": "markdown",
   "metadata": {},
   "source": [
    "numpy tambien tiene una funcion para sacar los cuartiles que quieras"
   ]
  },
  {
   "cell_type": "code",
   "execution_count": 179,
   "metadata": {
    "collapsed": false,
    "pycharm": {
     "name": "#%%\n"
    }
   },
   "outputs": [
    {
     "data": {
      "text/plain": [
       "(144.5, 161.5, 181.0)"
      ]
     },
     "execution_count": 179,
     "metadata": {},
     "output_type": "execute_result"
    }
   ],
   "source": [
    "# la funcion regresa un array asi que defina las variables de esta manera\n",
    "q1, q2, q3 = np.quantile(x, [0.25, 0.5, 0.75])\n",
    "q1, q2, q3"
   ]
  },
  {
   "cell_type": "markdown",
   "metadata": {},
   "source": [
    "##### Percentiles\n",
    "\n",
    "Son los conjuntos de datos ordenados divididos en 100 partes iguales.\n",
    "\n",
    "* El percentil del 25% *$P_{25}$ = $Q_{1}$*\n",
    "* El percentil del 50% *$P_{50}$ = $\\tilde{x}$ = $Q_{2}$*\n",
    "* El percentil del 75% *$P_{75}$ = $Q_{3}$*"
   ]
  },
  {
   "cell_type": "code",
   "execution_count": 180,
   "metadata": {},
   "outputs": [],
   "source": [
    "# funcion para sacar los percentiles\n",
    "def percentil(x, k):\n",
    "\tx = sorted(x)\n",
    "\tif k < 0: return min(x)\n",
    "\tif k > 100: return max(x)\n",
    "\t# convertir k en base a 1\n",
    "\tk = k / 100\n",
    "\t# encontrar la posicion i del percentil mediante el calculo de nk\n",
    "\tnk = len(x) * k\n",
    "\t# si nk es float pero con 0 de decimal convertir a int (de 8.0 a 8)\n",
    "\tif nk.is_integer(): nk = int(nk)\n",
    "\t# si nk es entero, i va a ser igual a nk + 0.5\n",
    "\tif isinstance(nk, int): i = nk + 0.5\n",
    "\t# si nk no es entero, entonces i es el siguiente entero mas grande\n",
    "\telse: i = math.ceil(nk)\n",
    "\t# si i es entero, se cuentan las observaciones desde la mas chica hasta hallar el i-esimo valor\n",
    "\t# OJO, a la posicion SE LE RESTA 1 porque las posiciones EMPIEZAN DEL 0\n",
    "\tif isinstance(i, int): pk = x[i - 1]\n",
    "\t# si i no es entero, entonces contiene una fraccion igual a un medio, con lo que el valor de pk es el promedio de las observaciones ordenadas nk y nk + 1\n",
    "\telse: pk = (x[nk - 1] + x[nk]) / 2\n",
    "\t# si es un float con 0 de decimal, convertir a int (de 2.0 a 2)\n",
    "\tif pk.is_integer(): pk = int(pk)\n",
    "\treturn pk"
   ]
  },
  {
   "cell_type": "code",
   "execution_count": 181,
   "metadata": {
    "collapsed": false,
    "pycharm": {
     "name": "#%%\n"
    }
   },
   "outputs": [],
   "source": [
    "def percentile(x, k):\n",
    "\tif not x: return None\n",
    "\tif k <= 0: return min(x)\n",
    "\tif k >= 100: return max(x)\n",
    "\t# ordenar los datos\n",
    "\tx = sorted(x)\n",
    "\t# convertir k en base a 1\n",
    "\tk = k / 100\n",
    "\t# encontrar la posicion i del percentil mediante el calculo de nk\n",
    "\tnk = (len(x) - 1) * k\n",
    "\tf = math.floor(nk)\n",
    "\tc = math.ceil(nk)\n",
    "\t# key function to compute value from each element of x\n",
    "\tkey = lambda a: a\n",
    "\tif f == c: return key(x[int(nk)])\n",
    "\td0 = key(x[int(f)]) * (c - nk)\n",
    "\td1 = key(x[int(c)]) * (nk - f)\n",
    "\treturn d0 + d1"
   ]
  },
  {
   "cell_type": "code",
   "execution_count": 182,
   "metadata": {
    "collapsed": false,
    "pycharm": {
     "name": "#%%\n"
    }
   },
   "outputs": [
    {
     "data": {
      "text/plain": [
       "(119, 204)"
      ]
     },
     "execution_count": 182,
     "metadata": {},
     "output_type": "execute_result"
    }
   ],
   "source": [
    "# si queremos encontrar el percentil 10\n",
    "p10 = percentil(x, 10)\n",
    "# para encontrar el percentil 90\n",
    "p90 = percentil(x, 90)\n",
    "p10, p90"
   ]
  },
  {
   "cell_type": "markdown",
   "metadata": {
    "collapsed": false
   },
   "source": [
    "o bien"
   ]
  },
  {
   "cell_type": "code",
   "execution_count": 183,
   "metadata": {},
   "outputs": [
    {
     "data": {
      "text/plain": [
       "(119.8, 201.60000000000005)"
      ]
     },
     "execution_count": 183,
     "metadata": {},
     "output_type": "execute_result"
    }
   ],
   "source": [
    "p10 = np.percentile(x, 10)\n",
    "p90 = np.percentile(x, 90)\n",
    "p10, p90"
   ]
  },
  {
   "cell_type": "markdown",
   "metadata": {},
   "source": [
    "##### Sesgo (o asimetria)\n",
    "\n",
    "Si los datos están sesgados, su media, mediana y moda son diferentes.\n",
    "* Si la *$\\hat{x}$ = $\\tilde{x}$ = $\\overline{x}$* la distribución es simétrica.\n",
    "* Si la *$\\hat{x}$ < $\\tilde{x}$ < $\\overline{x}$* la distribución esta sesgada a la derecha o tiene sesgo positivo.\n",
    "* Si la *$\\hat{x}$ > $\\tilde{x}$ > $\\overline{x}$* la distribución esta sesgada a la izquierda o tiene sesgo negativo.\n",
    "\n",
    "##### Curtosis\n",
    "\n",
    "Hay 3 tipos de curtosis para las distribuciones de datos:\n",
    "* Si *Cu > 0* es Leptocúrtica. Hay mucha concentración de datos en la media.\n",
    "* Si *Cu = 0* es Mesocúrtica. Tiene una distribución normal.\n",
    "* Si *Cu < 0* es Platicúrtica. Hay muy poca concentración de datos en la media."
   ]
  },
  {
   "cell_type": "code",
   "execution_count": 184,
   "metadata": {
    "collapsed": false,
    "pycharm": {
     "name": "#%%\n"
    }
   },
   "outputs": [
    {
     "data": {
      "text/plain": [
       "(-0.024094702110388264, 0.22310513447432748)"
      ]
     },
     "execution_count": 184,
     "metadata": {},
     "output_type": "execute_result"
    }
   ],
   "source": [
    "# para sacar el sesgo y la curtosis\n",
    "# sesgo = (q3 + q1 - (2 * q2)) / (q3 - q1)\n",
    "sesgo = sum([(i - promedio) ** 3 for i in x]) / (n * desv ** 3)\n",
    "curtosis = (q3 - q1) / (2 * (p90 - p10))\n",
    "sesgo, curtosis"
   ]
  },
  {
   "cell_type": "code",
   "execution_count": 185,
   "metadata": {},
   "outputs": [
    {
     "data": {
      "text/plain": [
       "(-0.02455364118121435, 0.15144064009107616)"
      ]
     },
     "execution_count": 185,
     "metadata": {},
     "output_type": "execute_result"
    }
   ],
   "source": [
    "sesgo = st.skew(x)\n",
    "curtosis = st.kurtosis(x)\n",
    "sesgo, curtosis"
   ]
  },
  {
   "cell_type": "markdown",
   "metadata": {},
   "source": [
    "Hay un dato que se llama **error tipico** o **error estandar**.\n",
    "Este vendria siendo parte del margen de error que se calcula para encontrar el promedio poblacional.\n",
    "Se halla dividiendo la desviación estandar entre la raíz cuadrada del tamaño de la muestra."
   ]
  },
  {
   "cell_type": "code",
   "execution_count": 186,
   "metadata": {},
   "outputs": [
    {
     "data": {
      "text/plain": [
       "3.77596260465754"
      ]
     },
     "execution_count": 186,
     "metadata": {},
     "output_type": "execute_result"
    }
   ],
   "source": [
    "error_tipico = desv / (n ** 0.5)\n",
    "error_tipico"
   ]
  },
  {
   "cell_type": "code",
   "execution_count": 187,
   "metadata": {
    "collapsed": false,
    "pycharm": {
     "name": "#%%\n"
    }
   },
   "outputs": [
    {
     "data": {
      "text/plain": [
       "3.77596260465754"
      ]
     },
     "execution_count": 187,
     "metadata": {},
     "output_type": "execute_result"
    }
   ],
   "source": [
    "st.sem(x)"
   ]
  },
  {
   "cell_type": "markdown",
   "metadata": {},
   "source": [
    "Acomodamos todo para presentar la estadistica descriptiva de los datos"
   ]
  },
  {
   "cell_type": "code",
   "execution_count": 188,
   "metadata": {},
   "outputs": [
    {
     "data": {
      "text/html": [
       "<div>\n",
       "<style scoped>\n",
       "    .dataframe tbody tr th:only-of-type {\n",
       "        vertical-align: middle;\n",
       "    }\n",
       "\n",
       "    .dataframe tbody tr th {\n",
       "        vertical-align: top;\n",
       "    }\n",
       "\n",
       "    .dataframe thead th {\n",
       "        text-align: right;\n",
       "    }\n",
       "</style>\n",
       "<table border=\"1\" class=\"dataframe\">\n",
       "  <thead>\n",
       "    <tr style=\"text-align: right;\">\n",
       "      <th></th>\n",
       "      <th>valor</th>\n",
       "    </tr>\n",
       "  </thead>\n",
       "  <tbody>\n",
       "    <tr>\n",
       "      <th>n</th>\n",
       "      <td>80.000000</td>\n",
       "    </tr>\n",
       "    <tr>\n",
       "      <th>minimo</th>\n",
       "      <td>76.000000</td>\n",
       "    </tr>\n",
       "    <tr>\n",
       "      <th>maximo</th>\n",
       "      <td>245.000000</td>\n",
       "    </tr>\n",
       "    <tr>\n",
       "      <th>rango</th>\n",
       "      <td>169.000000</td>\n",
       "    </tr>\n",
       "    <tr>\n",
       "      <th>promedio</th>\n",
       "      <td>162.662500</td>\n",
       "    </tr>\n",
       "    <tr>\n",
       "      <th>mediana</th>\n",
       "      <td>161.500000</td>\n",
       "    </tr>\n",
       "    <tr>\n",
       "      <th>moda</th>\n",
       "      <td>158.000000</td>\n",
       "    </tr>\n",
       "    <tr>\n",
       "      <th>varianza</th>\n",
       "      <td>1140.631487</td>\n",
       "    </tr>\n",
       "    <tr>\n",
       "      <th>desv</th>\n",
       "      <td>33.773236</td>\n",
       "    </tr>\n",
       "    <tr>\n",
       "      <th>Q1</th>\n",
       "      <td>144.500000</td>\n",
       "    </tr>\n",
       "    <tr>\n",
       "      <th>Q2</th>\n",
       "      <td>161.500000</td>\n",
       "    </tr>\n",
       "    <tr>\n",
       "      <th>Q3</th>\n",
       "      <td>181.000000</td>\n",
       "    </tr>\n",
       "    <tr>\n",
       "      <th>sesgo</th>\n",
       "      <td>-0.024554</td>\n",
       "    </tr>\n",
       "    <tr>\n",
       "      <th>curtosis</th>\n",
       "      <td>0.151441</td>\n",
       "    </tr>\n",
       "    <tr>\n",
       "      <th>error tipico</th>\n",
       "      <td>3.775963</td>\n",
       "    </tr>\n",
       "  </tbody>\n",
       "</table>\n",
       "</div>"
      ],
      "text/plain": [
       "                    valor\n",
       "n               80.000000\n",
       "minimo          76.000000\n",
       "maximo         245.000000\n",
       "rango          169.000000\n",
       "promedio       162.662500\n",
       "mediana        161.500000\n",
       "moda           158.000000\n",
       "varianza      1140.631487\n",
       "desv            33.773236\n",
       "Q1             144.500000\n",
       "Q2             161.500000\n",
       "Q3             181.000000\n",
       "sesgo           -0.024554\n",
       "curtosis         0.151441\n",
       "error tipico     3.775963"
      ]
     },
     "execution_count": 188,
     "metadata": {},
     "output_type": "execute_result"
    }
   ],
   "source": [
    "pd.DataFrame(\n",
    "\tdata = {'valor': [n, minimo, maximo, rango, promedio, mediana, moda, varianza, desv, q1, q2, q3, sesgo, curtosis, error_tipico]},\n",
    "\tindex = ['n', 'minimo', 'maximo', 'rango', 'promedio', 'mediana', 'moda', 'varianza', 'desv', 'Q1', 'Q2', 'Q3', 'sesgo', 'curtosis',\n",
    "\t\t\t 'error tipico']\n",
    ")"
   ]
  },
  {
   "cell_type": "markdown",
   "metadata": {},
   "source": [
    "O bien, puede usar esta funcion"
   ]
  },
  {
   "cell_type": "code",
   "execution_count": 189,
   "metadata": {},
   "outputs": [
    {
     "data": {
      "text/html": [
       "<div>\n",
       "<style scoped>\n",
       "    .dataframe tbody tr th:only-of-type {\n",
       "        vertical-align: middle;\n",
       "    }\n",
       "\n",
       "    .dataframe tbody tr th {\n",
       "        vertical-align: top;\n",
       "    }\n",
       "\n",
       "    .dataframe thead th {\n",
       "        text-align: right;\n",
       "    }\n",
       "</style>\n",
       "<table border=\"1\" class=\"dataframe\">\n",
       "  <thead>\n",
       "    <tr style=\"text-align: right;\">\n",
       "      <th></th>\n",
       "      <th>0</th>\n",
       "    </tr>\n",
       "  </thead>\n",
       "  <tbody>\n",
       "    <tr>\n",
       "      <th>count</th>\n",
       "      <td>80.000000</td>\n",
       "    </tr>\n",
       "    <tr>\n",
       "      <th>mean</th>\n",
       "      <td>162.662500</td>\n",
       "    </tr>\n",
       "    <tr>\n",
       "      <th>std</th>\n",
       "      <td>33.773236</td>\n",
       "    </tr>\n",
       "    <tr>\n",
       "      <th>min</th>\n",
       "      <td>76.000000</td>\n",
       "    </tr>\n",
       "    <tr>\n",
       "      <th>25%</th>\n",
       "      <td>144.500000</td>\n",
       "    </tr>\n",
       "    <tr>\n",
       "      <th>50%</th>\n",
       "      <td>161.500000</td>\n",
       "    </tr>\n",
       "    <tr>\n",
       "      <th>75%</th>\n",
       "      <td>181.000000</td>\n",
       "    </tr>\n",
       "    <tr>\n",
       "      <th>max</th>\n",
       "      <td>245.000000</td>\n",
       "    </tr>\n",
       "  </tbody>\n",
       "</table>\n",
       "</div>"
      ],
      "text/plain": [
       "                0\n",
       "count   80.000000\n",
       "mean   162.662500\n",
       "std     33.773236\n",
       "min     76.000000\n",
       "25%    144.500000\n",
       "50%    161.500000\n",
       "75%    181.000000\n",
       "max    245.000000"
      ]
     },
     "execution_count": 189,
     "metadata": {},
     "output_type": "execute_result"
    }
   ],
   "source": [
    "pd.DataFrame(x).describe()"
   ]
  },
  {
   "cell_type": "markdown",
   "metadata": {
    "collapsed": false
   },
   "source": [
    "#### Histograma\n",
    "\n",
    "Suelen ser para presentar frecuencias\n",
    "\n",
    "El eje horizontal es donde va la escala de la variable que se anda observando\n",
    "El eje vertical es para representar la escala de las frecuencias"
   ]
  },
  {
   "cell_type": "code",
   "execution_count": 190,
   "metadata": {
    "collapsed": false,
    "pycharm": {
     "name": "#%%\n"
    }
   },
   "outputs": [
    {
     "data": {
      "text/plain": [
       "7"
      ]
     },
     "execution_count": 190,
     "metadata": {},
     "output_type": "execute_result"
    }
   ],
   "source": [
    "# la regla de sturges nos dice la mejor cantidad de clases a las que agrupamos los datos\n",
    "sturges = round(1 + 3.322 * np.log10(n))\n",
    "sturges"
   ]
  },
  {
   "cell_type": "code",
   "execution_count": 191,
   "metadata": {
    "collapsed": false,
    "pycharm": {
     "name": "#%%\n"
    }
   },
   "outputs": [
    {
     "data": {
      "image/png": "[encoded data removed]",
      "text/plain": [
       "<Figure size 432x288 with 1 Axes>"
      ]
     },
     "metadata": {
      "needs_background": "light"
     },
     "output_type": "display_data"
    }
   ],
   "source": [
    "plt.hist(x, bins = sturges, rwidth = 0.96)\n",
    "plt.grid(axis = 'y', alpha = 0.4)\n",
    "plt.title('Histograma')\n",
    "plt.xlabel('psi')\n",
    "plt.ylabel('Freq')\n",
    "plt.show()\n",
    "del sturges"
   ]
  },
  {
   "cell_type": "markdown",
   "metadata": {},
   "source": [
    "#### Diagrama de tallo y hoja\n",
    "\n",
    "Cada numero del conjunto de datos debe ser de almenos 2 digitos\n",
    "* El **tallo** esta formado por uno o mas de los digitos principales\n",
    "* La **hoja** contiene el resto de los digitos"
   ]
  },
  {
   "cell_type": "code",
   "execution_count": 192,
   "metadata": {},
   "outputs": [
    {
     "name": "stdout",
     "output_type": "stream",
     "text": [
      "+-------+-------------------------+------+\n",
      "| Tallo | Hoja                    | Freq |\n",
      "+-------+-------------------------+------+\n",
      "|     7 | 6                       |  1   |\n",
      "|     8 | 7                       |  1   |\n",
      "|     9 | 7                       |  1   |\n",
      "|    10 | 1 5                     |  2   |\n",
      "|    11 | 0 5 8                   |  3   |\n",
      "|    12 | 0 1 3                   |  3   |\n",
      "|    13 | 1 3 3 4 5 5             |  6   |\n",
      "|    14 | 1 2 3 5 6 8 9 9         |  8   |\n",
      "|    15 | 0 0 1 3 4 4 6 7 8 8 8 8 |  12  |\n",
      "|    16 | 0 0 0 3 3 5 7 7 8 9     |  10  |\n",
      "|    17 | 0 1 1 2 4 4 5 6 6 8     |  10  |\n",
      "|    18 | 0 0 1 1 3 4 6           |  7   |\n",
      "|    19 | 0 3 4 6 9 9             |  6   |\n",
      "|    20 | 0 1 7 8                 |  4   |\n",
      "|    21 | 8                       |  1   |\n",
      "|    22 | 1 8 9                   |  3   |\n",
      "|    23 | 7                       |  1   |\n",
      "|    24 | 5                       |  1   |\n",
      "+-------+-------------------------+------+\n"
     ]
    }
   ],
   "source": [
    "def diagrama_tallo_hoja(x: list):\n",
    "\ttable = PrettyTable()\n",
    "\ttable.field_names = ['Tallo', 'Hoja', 'Freq']\n",
    "\ttable.align['Tallo'] = 'r'\n",
    "\ttable.align['Hoja'] = 'l'\n",
    "\ttable.align['Freq'] = 'c'\n",
    "\tfor tallo, g in groupby(sorted(x), key = lambda a: int(a) // 10):\n",
    "\t\tlst = map(str, [int(y) % 10 for y in list(g)])\n",
    "\t\thoja = ' '.join(lst)\n",
    "\t\tfreq = sum(c.isdigit() for c in hoja)\n",
    "\t\ttable.add_row([tallo, hoja, freq])\n",
    "\tprint(table.get_string())\n",
    "\n",
    "diagrama_tallo_hoja(x)"
   ]
  },
  {
   "cell_type": "markdown",
   "metadata": {
    "collapsed": false
   },
   "source": [
    "#### Diagrama de caja\n",
    "\n",
    "Estos diagramas contienen:\n",
    "* los 3 cuartiles\n",
    "* el valor minimo y maximo de los datos\n",
    "* valores atipicos\n",
    "\n",
    "El rectangulo abarca el *rango intercuartilico*, o sea\n",
    "* *Q1* la linea de abajo\n",
    "* *Q2 = P50 = mediana* la linea de enmedio\n",
    "* *Q3* la linea de arriba\n",
    "\n",
    "Las patas de arriba y abajo son la longitud desde los cuartiles a sus valores maximo y minimo, los valores atipicos se muestran con un punto"
   ]
  },
  {
   "cell_type": "code",
   "execution_count": 193,
   "metadata": {
    "collapsed": false,
    "pycharm": {
     "name": "#%%\n"
    }
   },
   "outputs": [
    {
     "data": {
      "image/png": "[encoded data removed]",
      "text/plain": [
       "<Figure size 432x288 with 1 Axes>"
      ]
     },
     "metadata": {
      "needs_background": "light"
     },
     "output_type": "display_data"
    }
   ],
   "source": [
    "plt.boxplot(x)\n",
    "plt.show()"
   ]
  },
  {
   "cell_type": "markdown",
   "metadata": {
    "collapsed": false,
    "pycharm": {
     "name": "#%% md\n"
    }
   },
   "source": [
    "#### Graficas de series de tiempo\n",
    "\n",
    "Su eje horizontal es el tiempo, ya sea medido en años, segundos, etc.\n",
    "\n",
    "Su eje vertical es la variable que se anda observando"
   ]
  },
  {
   "cell_type": "markdown",
   "metadata": {
    "collapsed": false
   },
   "source": [
    "Suponiendo que el orden de las resistencias está a como se tuvieron con el paso del tiempo"
   ]
  },
  {
   "cell_type": "code",
   "execution_count": 194,
   "metadata": {
    "collapsed": false,
    "pycharm": {
     "name": "#%%\n"
    }
   },
   "outputs": [
    {
     "data": {
      "image/png": "[encoded data removed]",
      "text/plain": [
       "<Figure size 432x288 with 1 Axes>"
      ]
     },
     "metadata": {
      "needs_background": "light"
     },
     "output_type": "display_data"
    }
   ],
   "source": [
    "plt.plot(range(n), x, 'o-')\n",
    "plt.show()"
   ]
  },
  {
   "cell_type": "markdown",
   "metadata": {
    "collapsed": false
   },
   "source": [
    "### Graficas de probabilidad\n",
    "\n",
    "Es un metodo grafico para ver si los datos de una muestra se ajustan a una distribucion propuesta con base en un examen visual sugestivo de los datos.\n",
    "\n",
    "Para hacer una de estas graficas:\n",
    "* se ordenan los datos de menor a mayor\n",
    "* se grafican contra su frecuencia acumulada observada *(j - 0.5) / n* sobre el papel de probabilidad apropiado.\n",
    "\n",
    "Si la distribucion propuesta describe de manera adecuada los datos, los puntos de la grafica se ubicaran de manera aproximada a lo largo de una linea recta; si los puntos se desvian significativamente de una linea recta, entonces el modelo propuesto no es el apropiado."
   ]
  },
  {
   "cell_type": "markdown",
   "metadata": {
    "collapsed": false
   },
   "source": [
    "Suponiendo que las resistencias se ajustan a una distribucion normal. Para hacer una grafica y probar esa hipotesis, primero ordenamos las observaciones en orden ascendente y calculamos sus frecuencias acumuladas con *(j − 0.5) / n*"
   ]
  },
  {
   "cell_type": "code",
   "execution_count": 195,
   "metadata": {
    "collapsed": false,
    "pycharm": {
     "name": "#%%\n"
    }
   },
   "outputs": [
    {
     "data": {
      "text/html": [
       "<div>\n",
       "<style scoped>\n",
       "    .dataframe tbody tr th:only-of-type {\n",
       "        vertical-align: middle;\n",
       "    }\n",
       "\n",
       "    .dataframe tbody tr th {\n",
       "        vertical-align: top;\n",
       "    }\n",
       "\n",
       "    .dataframe thead th {\n",
       "        text-align: right;\n",
       "    }\n",
       "</style>\n",
       "<table border=\"1\" class=\"dataframe\">\n",
       "  <thead>\n",
       "    <tr style=\"text-align: right;\">\n",
       "      <th></th>\n",
       "      <th>xj</th>\n",
       "      <th>fa</th>\n",
       "      <th>100fa</th>\n",
       "      <th>zj</th>\n",
       "    </tr>\n",
       "    <tr>\n",
       "      <th>j</th>\n",
       "      <th></th>\n",
       "      <th></th>\n",
       "      <th></th>\n",
       "      <th></th>\n",
       "    </tr>\n",
       "  </thead>\n",
       "  <tbody>\n",
       "    <tr>\n",
       "      <th>1</th>\n",
       "      <td>76</td>\n",
       "      <td>0.00625</td>\n",
       "      <td>0.625</td>\n",
       "      <td>-2.497705</td>\n",
       "    </tr>\n",
       "    <tr>\n",
       "      <th>2</th>\n",
       "      <td>87</td>\n",
       "      <td>0.01875</td>\n",
       "      <td>1.875</td>\n",
       "      <td>-2.080278</td>\n",
       "    </tr>\n",
       "    <tr>\n",
       "      <th>3</th>\n",
       "      <td>97</td>\n",
       "      <td>0.03125</td>\n",
       "      <td>3.125</td>\n",
       "      <td>-1.862732</td>\n",
       "    </tr>\n",
       "    <tr>\n",
       "      <th>4</th>\n",
       "      <td>101</td>\n",
       "      <td>0.04375</td>\n",
       "      <td>4.375</td>\n",
       "      <td>-1.708735</td>\n",
       "    </tr>\n",
       "    <tr>\n",
       "      <th>5</th>\n",
       "      <td>105</td>\n",
       "      <td>0.05625</td>\n",
       "      <td>5.625</td>\n",
       "      <td>-1.587056</td>\n",
       "    </tr>\n",
       "    <tr>\n",
       "      <th>...</th>\n",
       "      <td>...</td>\n",
       "      <td>...</td>\n",
       "      <td>...</td>\n",
       "      <td>...</td>\n",
       "    </tr>\n",
       "    <tr>\n",
       "      <th>76</th>\n",
       "      <td>221</td>\n",
       "      <td>0.94375</td>\n",
       "      <td>94.375</td>\n",
       "      <td>1.587056</td>\n",
       "    </tr>\n",
       "    <tr>\n",
       "      <th>77</th>\n",
       "      <td>228</td>\n",
       "      <td>0.95625</td>\n",
       "      <td>95.625</td>\n",
       "      <td>1.708735</td>\n",
       "    </tr>\n",
       "    <tr>\n",
       "      <th>78</th>\n",
       "      <td>229</td>\n",
       "      <td>0.96875</td>\n",
       "      <td>96.875</td>\n",
       "      <td>1.862732</td>\n",
       "    </tr>\n",
       "    <tr>\n",
       "      <th>79</th>\n",
       "      <td>237</td>\n",
       "      <td>0.98125</td>\n",
       "      <td>98.125</td>\n",
       "      <td>2.080278</td>\n",
       "    </tr>\n",
       "    <tr>\n",
       "      <th>80</th>\n",
       "      <td>245</td>\n",
       "      <td>0.99375</td>\n",
       "      <td>99.375</td>\n",
       "      <td>2.497705</td>\n",
       "    </tr>\n",
       "  </tbody>\n",
       "</table>\n",
       "<p>80 rows × 4 columns</p>\n",
       "</div>"
      ],
      "text/plain": [
       "     xj       fa   100fa        zj\n",
       "j                                 \n",
       "1    76  0.00625   0.625 -2.497705\n",
       "2    87  0.01875   1.875 -2.080278\n",
       "3    97  0.03125   3.125 -1.862732\n",
       "4   101  0.04375   4.375 -1.708735\n",
       "5   105  0.05625   5.625 -1.587056\n",
       "..  ...      ...     ...       ...\n",
       "76  221  0.94375  94.375  1.587056\n",
       "77  228  0.95625  95.625  1.708735\n",
       "78  229  0.96875  96.875  1.862732\n",
       "79  237  0.98125  98.125  2.080278\n",
       "80  245  0.99375  99.375  2.497705\n",
       "\n",
       "[80 rows x 4 columns]"
      ]
     },
     "execution_count": 195,
     "metadata": {},
     "output_type": "execute_result"
    }
   ],
   "source": [
    "d = {'j': [], 'xj': [], 'fa': [], '100fa': [], 'zj': []}\n",
    "for j, xj in enumerate(sorted(x)):\n",
    "\tfa = ((j + 1) - 0.5) / n\n",
    "\tcien_fa = 100 * fa\n",
    "\tzj = st.norm.ppf(fa)\n",
    "\td['j'].append(j + 1)\n",
    "\td['xj'].append(xj)\n",
    "\td['fa'].append(fa)\n",
    "\td['100fa'].append(cien_fa)\n",
    "\td['zj'].append(zj)\n",
    "tabla = pd.DataFrame(d).set_index('j')\n",
    "del d, j, xj, fa, cien_fa, zj\n",
    "tabla"
   ]
  },
  {
   "cell_type": "markdown",
   "metadata": {
    "collapsed": false
   },
   "source": [
    "Despues de graficar, hay que poner una linea recta (puede ponerse asi de manera subjetiva) que pase a traves de los puntos de la grafica. Al poner la linea hay que hacerle mas caso a los puntos del centro de la grafica que a los de las esquinas. Una buena regla es dibujar la linea entre los puntos que correspondan a los percentiles 25 y 75."
   ]
  },
  {
   "cell_type": "code",
   "execution_count": 196,
   "metadata": {
    "collapsed": false,
    "pycharm": {
     "name": "#%%\n"
    }
   },
   "outputs": [
    {
     "data": {
      "image/png": "[encoded data removed]",
      "text/plain": [
       "<Figure size 432x288 with 1 Axes>"
      ]
     },
     "metadata": {
      "needs_background": "light"
     },
     "output_type": "display_data"
    }
   ],
   "source": [
    "ejex = tabla['xj']\n",
    "ejey = tabla['100fa']\n",
    "plt.scatter(ejex, ejey)\n",
    "\n",
    "z = np.polyfit(ejex, ejey, 1)\n",
    "p = np.poly1d(z)\n",
    "plt.plot(ejex, p(ejex), 'r-')\n",
    "\n",
    "plt.title('Grafica de probabilidad')\n",
    "plt.xlabel('xj')\n",
    "plt.ylabel('100(j - 0.5) / n')\n",
    "plt.show()"
   ]
  },
  {
   "cell_type": "markdown",
   "metadata": {
    "collapsed": false
   },
   "source": [
    "Tambien puede hacerse una grafica de probabilidad normal poniendo en el eje vertical los valores estandarizados (*zj*)"
   ]
  },
  {
   "cell_type": "code",
   "execution_count": 197,
   "metadata": {
    "collapsed": false,
    "pycharm": {
     "name": "#%%\n"
    }
   },
   "outputs": [
    {
     "data": {
      "image/png": "[encoded data removed]",
      "text/plain": [
       "<Figure size 432x288 with 1 Axes>"
      ]
     },
     "metadata": {
      "needs_background": "light"
     },
     "output_type": "display_data"
    }
   ],
   "source": [
    "ejex = tabla['xj']\n",
    "ejey = tabla['zj']\n",
    "plt.scatter(ejex, ejey)\n",
    "\n",
    "z = np.polyfit(ejex, ejey, 1)\n",
    "p = np.poly1d(z)\n",
    "plt.plot(ejex, p(ejex), 'r-')\n",
    "\n",
    "plt.title('Grafica de probabilidad')\n",
    "plt.xlabel('xj')\n",
    "plt.ylabel('zj')\n",
    "plt.show()\n",
    "\n",
    "del tabla, ejex, ejey, z ,p"
   ]
  }
 ],
 "metadata": {
  "interpreter": {
   "hash": "d1d36ff2b2d56704b5886b300809e7ae7b71f63f5d49375ee129e81da3216a45"
  },
  "kernelspec": {
   "display_name": "Python 3.9.10 64-bit (windows store)",
   "language": "python",
   "name": "python3"
  },
  "language_info": {
   "codemirror_mode": {
    "name": "ipython",
    "version": 3
   },
   "file_extension": ".py",
   "mimetype": "text/x-python",
   "name": "python",
   "nbconvert_exporter": "python",
   "pygments_lexer": "ipython3",
   "version": "3.9.10"
  },
  "orig_nbformat": 4
 },
 "nbformat": 4,
 "nbformat_minor": 2
}