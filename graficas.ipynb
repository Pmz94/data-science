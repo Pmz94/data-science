{
 "cells": [
  {
   "cell_type": "markdown",
   "metadata": {
    "collapsed": true,
    "pycharm": {
     "name": "#%% md\n"
    }
   },
   "source": [
    "# Graficas"
   ]
  },
  {
   "cell_type": "code",
   "execution_count": 18,
   "metadata": {
    "collapsed": false,
    "pycharm": {
     "name": "#%%\n"
    }
   },
   "outputs": [],
   "source": [
    "# Importar los paquetes que necesitaremos\n",
    "import math\n",
    "import numpy as np\n",
    "import scipy.stats as st\n",
    "import pandas as pd\n",
    "import matplotlib.pyplot as plt\n",
    "import datetime\n",
    "import matplotlib.dates as mdates\n",
    "from scipy.stats import norm"
   ]
  },
  {
   "cell_type": "markdown",
   "metadata": {
    "collapsed": false,
    "pycharm": {
     "name": "#%% md\n"
    }
   },
   "source": [
    "### Histograma"
   ]
  },
  {
   "cell_type": "code",
   "execution_count": 5,
   "metadata": {
    "collapsed": false,
    "pycharm": {
     "name": "#%%\n"
    }
   },
   "outputs": [
    {
     "data": {
      "image/png": "[encoded data removed]",
      "text/plain": [
       "<Figure size 432x288 with 1 Axes>"
      ]
     },
     "metadata": {
      "needs_background": "light"
     },
     "output_type": "display_data"
    }
   ],
   "source": []
  },
  {
   "cell_type": "markdown",
   "metadata": {
    "collapsed": false
   },
   "source": [
    "### Graficas de series de tiempo"
   ]
  },
  {
   "cell_type": "markdown",
   "metadata": {},
   "source": [
    "Se obtiene la cantidad de peticiones exitosas que se le han hecho a un servidor agrupadas por mes a lo largo de 2021"
   ]
  },
  {
   "cell_type": "code",
   "execution_count": 4,
   "metadata": {
    "collapsed": false,
    "pycharm": {
     "name": "#%%\n"
    }
   },
   "outputs": [],
   "source": [
    "fecha_peticiones = [\n",
    "\t('02', 2145),\n",
    "\t('03', 11035),\n",
    "\t('04', 29990),\n",
    "\t('05', 17942),\n",
    "\t('06', 2813),\n",
    "\t('07', 904),\n",
    "\t('08', 37708),\n",
    "\t('09', 510038),\n",
    "\t('10', 253190),\n",
    "\t('11', 209877),\n",
    "\t('12', 52029)\n",
    "]"
   ]
  },
  {
   "cell_type": "code",
   "execution_count": 7,
   "metadata": {
    "collapsed": false,
    "pycharm": {
     "name": "#%%\n"
    }
   },
   "outputs": [
    {
     "data": {
      "image/png": "[encoded data removed]",
      "text/plain": [
       "<Figure size 432x288 with 1 Axes>"
      ]
     },
     "metadata": {
      "needs_background": "light"
     },
     "output_type": "display_data"
    }
   ],
   "source": [
    "# hay que separar las variables para ambos ejes en listas separadas\n",
    "fecha = [datetime.datetime.strptime(i[0], '%m') for i in fecha_peticiones]\n",
    "peticiones = [i[1] for i in fecha_peticiones]\n",
    "# grafica_serie_tiempo(fecha, peticiones, titulo = 'Uso de una app movil', etiquetay = 'Peticiones al server')\n",
    "\n",
    "# Set the locator\n",
    "locator = mdates.MonthLocator() # cada mes\n",
    "# especificar el formato - %b gives us Jan, Feb...\n",
    "fmt = mdates.DateFormatter('%b')\n",
    "\n",
    "plt.plot(fecha, peticiones, 'o-')\n",
    "X = plt.gca().xaxis\n",
    "X.set_major_locator(locator)\n",
    "# Specify formatter\n",
    "X.set_major_formatter(fmt)\n",
    "plt.show()\n",
    "del fecha, peticiones"
   ]
  },
  {
   "cell_type": "markdown",
   "metadata": {},
   "source": [
    "### Graficas de probabilidad"
   ]
  },
  {
   "cell_type": "markdown",
   "metadata": {},
   "source": [
    "Se anota el tiempo en minutos que duraron 10 baterias en una laptop:"
   ]
  },
  {
   "cell_type": "code",
   "execution_count": 6,
   "metadata": {
    "collapsed": false,
    "pycharm": {
     "name": "#%%\n"
    }
   },
   "outputs": [],
   "source": [
    "duracion_baterias = [176, 191, 214, 220, 205, 192, 201, 190, 183, 185]"
   ]
  },
  {
   "cell_type": "markdown",
   "metadata": {},
   "source": [
    "Creemos que esos tiempos de vida de las baterias se ajustan a una distribucion normal. Para hacer una grafica de probabilidad para probar esta hipotesis, primero ordenamos las observaciones en orden ascendente y calculamos sus frecuencias acumuladas con *(j − 0.5) / n*"
   ]
  },
  {
   "cell_type": "code",
   "execution_count": 24,
   "metadata": {},
   "outputs": [
    {
     "data": {
      "text/html": [
       "<div>\n",
       "<style scoped>\n",
       "    .dataframe tbody tr th:only-of-type {\n",
       "        vertical-align: middle;\n",
       "    }\n",
       "\n",
       "    .dataframe tbody tr th {\n",
       "        vertical-align: top;\n",
       "    }\n",
       "\n",
       "    .dataframe thead th {\n",
       "        text-align: right;\n",
       "    }\n",
       "</style>\n",
       "<table border=\"1\" class=\"dataframe\">\n",
       "  <thead>\n",
       "    <tr style=\"text-align: right;\">\n",
       "      <th></th>\n",
       "      <th>j</th>\n",
       "      <th>xj</th>\n",
       "      <th>fa</th>\n",
       "      <th>zj</th>\n",
       "    </tr>\n",
       "  </thead>\n",
       "  <tbody>\n",
       "    <tr>\n",
       "      <th>0</th>\n",
       "      <td>1</td>\n",
       "      <td>176</td>\n",
       "      <td>0.05</td>\n",
       "      <td>-1.644854</td>\n",
       "    </tr>\n",
       "    <tr>\n",
       "      <th>1</th>\n",
       "      <td>2</td>\n",
       "      <td>183</td>\n",
       "      <td>0.15</td>\n",
       "      <td>-1.036433</td>\n",
       "    </tr>\n",
       "    <tr>\n",
       "      <th>2</th>\n",
       "      <td>3</td>\n",
       "      <td>185</td>\n",
       "      <td>0.25</td>\n",
       "      <td>-0.674490</td>\n",
       "    </tr>\n",
       "    <tr>\n",
       "      <th>3</th>\n",
       "      <td>4</td>\n",
       "      <td>190</td>\n",
       "      <td>0.35</td>\n",
       "      <td>-0.385320</td>\n",
       "    </tr>\n",
       "    <tr>\n",
       "      <th>4</th>\n",
       "      <td>5</td>\n",
       "      <td>191</td>\n",
       "      <td>0.45</td>\n",
       "      <td>-0.125661</td>\n",
       "    </tr>\n",
       "    <tr>\n",
       "      <th>5</th>\n",
       "      <td>6</td>\n",
       "      <td>192</td>\n",
       "      <td>0.55</td>\n",
       "      <td>0.125661</td>\n",
       "    </tr>\n",
       "    <tr>\n",
       "      <th>6</th>\n",
       "      <td>7</td>\n",
       "      <td>201</td>\n",
       "      <td>0.65</td>\n",
       "      <td>0.385320</td>\n",
       "    </tr>\n",
       "    <tr>\n",
       "      <th>7</th>\n",
       "      <td>8</td>\n",
       "      <td>205</td>\n",
       "      <td>0.75</td>\n",
       "      <td>0.674490</td>\n",
       "    </tr>\n",
       "    <tr>\n",
       "      <th>8</th>\n",
       "      <td>9</td>\n",
       "      <td>214</td>\n",
       "      <td>0.85</td>\n",
       "      <td>1.036433</td>\n",
       "    </tr>\n",
       "    <tr>\n",
       "      <th>9</th>\n",
       "      <td>10</td>\n",
       "      <td>220</td>\n",
       "      <td>0.95</td>\n",
       "      <td>1.644854</td>\n",
       "    </tr>\n",
       "  </tbody>\n",
       "</table>\n",
       "</div>"
      ],
      "text/plain": [
       "    j   xj    fa        zj\n",
       "0   1  176  0.05 -1.644854\n",
       "1   2  183  0.15 -1.036433\n",
       "2   3  185  0.25 -0.674490\n",
       "3   4  190  0.35 -0.385320\n",
       "4   5  191  0.45 -0.125661\n",
       "5   6  192  0.55  0.125661\n",
       "6   7  201  0.65  0.385320\n",
       "7   8  205  0.75  0.674490\n",
       "8   9  214  0.85  1.036433\n",
       "9  10  220  0.95  1.644854"
      ]
     },
     "execution_count": 24,
     "metadata": {},
     "output_type": "execute_result"
    }
   ],
   "source": [
    "# pag 230\n",
    "n = len(duracion_baterias)\n",
    "media = np.mean(duracion_baterias)\n",
    "desv = np.std(duracion_baterias, ddof=1)\n",
    "\n",
    "d = {'j': [], 'xj': [], 'fa': [], 'zj':[]}\n",
    "for j, xj in enumerate(sorted(duracion_baterias)):\n",
    "    fa = ((j+1) - 0.5) / n\n",
    "    zj = norm.ppf(fa)\n",
    "    d['j'].append(j+1)\n",
    "    d['xj'].append(xj)\n",
    "    d['fa'].append(fa)\n",
    "    d['zj'].append(zj)\n",
    "pd.DataFrame(d)"
   ]
  }
 ],
 "metadata": {
  "kernelspec": {
   "display_name": "Python 3",
   "language": "python",
   "name": "python3"
  },
  "language_info": {
   "codemirror_mode": {
    "name": "ipython",
    "version": 3
   },
   "file_extension": ".py",
   "mimetype": "text/x-python",
   "name": "python",
   "nbconvert_exporter": "python",
   "pygments_lexer": "ipython3",
   "version": "3.9.10"
  }
 },
 "nbformat": 4,
 "nbformat_minor": 0
}
